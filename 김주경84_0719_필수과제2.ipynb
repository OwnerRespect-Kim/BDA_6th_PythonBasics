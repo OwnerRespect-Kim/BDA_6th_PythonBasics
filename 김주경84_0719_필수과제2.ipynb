{
 "cells": [
  {
   "cell_type": "markdown",
   "metadata": {},
   "source": [
    "### Set 여집합\n",
    "- 어떤 집합을 제외한 나머지 집합들의 원소"
   ]
  },
  {
   "cell_type": "code",
   "execution_count": 2,
   "metadata": {},
   "outputs": [
    {
     "name": "stdout",
     "output_type": "stream",
     "text": [
      "{1, 2, 3, 4, 5, 6, 7, 8, 9, 10} , {1, 3, 5, 7, 9}\n"
     ]
    }
   ],
   "source": [
    "u = set(range(1, 11)) # u는 전체 집합\n",
    "a = set(range(1, 11, 2)) # a는 u의 일부 원소를 가지는 집합이다.\n",
    "print(u, ',', a)"
   ]
  },
  {
   "cell_type": "code",
   "execution_count": 5,
   "metadata": {},
   "outputs": [
    {
     "name": "stdout",
     "output_type": "stream",
     "text": [
      "{2, 4, 6, 8, 10}\n"
     ]
    }
   ],
   "source": [
    "print(u - a) # u라는 전체집합에서 a라는 집합을 빼는 것은\n",
    "# a라는 집합을 제외한 나머지 집합들의 원소이다."
   ]
  },
  {
   "cell_type": "markdown",
   "metadata": {},
   "source": [
    "### Set 차집합"
   ]
  },
  {
   "cell_type": "code",
   "execution_count": 6,
   "metadata": {},
   "outputs": [
    {
     "name": "stdout",
     "output_type": "stream",
     "text": [
      "{1, 3, 5, 7, 9, 11, 13, 15, 17} , {1, 3, 5, 7, 9}\n"
     ]
    }
   ],
   "source": [
    "f_set = set(range(1, 18, 2)) # 첫 번째 집합 1 ~ 17까지 홀수로 가지는 집합\n",
    "s_set = set(range(1, 10, 2)) # 두 번째 집합 1 ~ 9까지 홀수로 가지는 집합\n",
    "print(f_set, ',', s_set)"
   ]
  },
  {
   "cell_type": "code",
   "execution_count": 7,
   "metadata": {},
   "outputs": [
    {
     "name": "stdout",
     "output_type": "stream",
     "text": [
      "{17, 11, 13, 15}\n"
     ]
    }
   ],
   "source": [
    "print(f_set - (f_set&s_set))\n",
    "# 차집합이라는 것은 한 집합에서 교집합을 뺀 것과 같다."
   ]
  }
 ],
 "metadata": {
  "kernelspec": {
   "display_name": "Python 3",
   "language": "python",
   "name": "python3"
  },
  "language_info": {
   "codemirror_mode": {
    "name": "ipython",
    "version": 3
   },
   "file_extension": ".py",
   "mimetype": "text/x-python",
   "name": "python",
   "nbconvert_exporter": "python",
   "pygments_lexer": "ipython3",
   "version": "3.11.4"
  },
  "orig_nbformat": 4
 },
 "nbformat": 4,
 "nbformat_minor": 2
}
