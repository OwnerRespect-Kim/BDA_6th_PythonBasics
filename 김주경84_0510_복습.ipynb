{
 "cells": [
  {
   "attachments": {},
   "cell_type": "markdown",
   "metadata": {},
   "source": [
    "## 반복문\n",
    "\n",
    "- for문과 while문이 있다."
   ]
  },
  {
   "attachments": {},
   "cell_type": "markdown",
   "metadata": {},
   "source": [
    "### for문\n",
    "- 대체적으로 range 함수를 많이 사용한다.\n",
    "- for 변수 in range(횟수):\n",
    "\n",
    "       -반복할 코드"
   ]
  },
  {
   "cell_type": "code",
   "execution_count": 24,
   "metadata": {},
   "outputs": [
    {
     "name": "stdout",
     "output_type": "stream",
     "text": [
      "4의 배수 출력 4\n",
      "4의 배수 출력 8\n",
      "4의 배수 출력 12\n",
      "4의 배수 출력 16\n",
      "4의 배수 출력 20\n"
     ]
    }
   ],
   "source": [
    "# for문 예시\n",
    "for i in range(4, 21, 4):\n",
    "    print('4의 배수 출력', i)\n",
    "\n",
    "# i에는 자동으로 0, 4, 8, 12, 16의 값이\n",
    "# 루프가 이루어질 때마다 할당된다.\n",
    "# 반복의 횟수, 지정 구간 등은 range 함수로 정한다."
   ]
  },
  {
   "attachments": {},
   "cell_type": "markdown",
   "metadata": {},
   "source": [
    "- index를 활용하여 loop문을 이용해보자"
   ]
  },
  {
   "cell_type": "code",
   "execution_count": 3,
   "metadata": {},
   "outputs": [],
   "source": [
    "a = ['사과', '바나나', '딸기', '귤', '감']\n",
    "\n",
    "# 여기서 중요한 것은\n",
    "# 5개의 index value가 있지만\n",
    "# program은 0번째부터 카운팅한다는 것"
   ]
  },
  {
   "cell_type": "code",
   "execution_count": 9,
   "metadata": {},
   "outputs": [
    {
     "name": "stdout",
     "output_type": "stream",
     "text": [
      "사과 감 ['사과', '바나나', '딸기', '귤', '감']\n"
     ]
    }
   ],
   "source": [
    "print(a[0], end=' ') # 0번째의 값 출력\n",
    "print(a[4], end=' ') # 4번째의 값 출력\n",
    "print(a) # a의 인덱스 값들을 출력\n"
   ]
  },
  {
   "cell_type": "code",
   "execution_count": 12,
   "metadata": {},
   "outputs": [
    {
     "name": "stdout",
     "output_type": "stream",
     "text": [
      "사과\n",
      "바나나\n",
      "딸기\n",
      "귤\n",
      "감\n"
     ]
    }
   ],
   "source": [
    "for i in a:\n",
    "    print(i)"
   ]
  },
  {
   "cell_type": "code",
   "execution_count": 14,
   "metadata": {},
   "outputs": [
    {
     "ename": "TypeError",
     "evalue": "'list' object cannot be interpreted as an integer",
     "output_type": "error",
     "traceback": [
      "\u001b[1;31m---------------------------------------------------------------------------\u001b[0m",
      "\u001b[1;31mTypeError\u001b[0m                                 Traceback (most recent call last)",
      "Cell \u001b[1;32mIn[14], line 2\u001b[0m\n\u001b[0;32m      1\u001b[0m \u001b[39m# 이렇게 하면 오류가 발생한다.\u001b[39;00m\n\u001b[1;32m----> 2\u001b[0m \u001b[39mfor\u001b[39;00m i \u001b[39min\u001b[39;00m \u001b[39mrange\u001b[39;49m(a):\n\u001b[0;32m      3\u001b[0m     \u001b[39mprint\u001b[39m(i)\n",
      "\u001b[1;31mTypeError\u001b[0m: 'list' object cannot be interpreted as an integer"
     ]
    }
   ],
   "source": [
    "# 이렇게 하면 오류가 발생한다.\n",
    "for i in range(a):\n",
    "    print(i)\n",
    "# range의 들어가는 값은 숫자여야 한다.\n",
    "# index를 할당하고 있는 a 자체는 정수로 취급이 되지 않는다.\n",
    "# 그러면 어떻게 사용해야할까?"
   ]
  },
  {
   "cell_type": "code",
   "execution_count": 18,
   "metadata": {},
   "outputs": [
    {
     "name": "stdout",
     "output_type": "stream",
     "text": [
      "5\n",
      "0\n",
      "1\n",
      "2\n",
      "3\n",
      "4\n"
     ]
    }
   ],
   "source": [
    "# len함수를 사용하자. (변수의 길이를 측정하는 함수이다.)\n",
    "print(len(a)) # a의 길이는 5이다.\n",
    "for i in range(len(a)):\n",
    "    print(i)"
   ]
  },
  {
   "cell_type": "code",
   "execution_count": 19,
   "metadata": {},
   "outputs": [
    {
     "name": "stdout",
     "output_type": "stream",
     "text": [
      "0 1 1 2 3 5 8 13 21 34 "
     ]
    }
   ],
   "source": [
    "# 배운 것을 응용해보자.\n",
    "# 아래는 반복문(for)을 통해 피보나치 수열을 출력할 범위를 정하는 코드이다.\n",
    "end = int(input(\"피보나치 수열을 어떤 범위까지 출력할 것인지 정하세요 : \"))\n",
    "\n",
    "first = 0\n",
    "second = 1\n",
    "\n",
    "for num in range(0, end):\n",
    "    if num <= 1:\n",
    "        fibonacci = num\n",
    "    else:\n",
    "        fibonacci = first + second\n",
    "        first = second\n",
    "        second = fibonacci\n",
    "    print(fibonacci, end =' ')"
   ]
  },
  {
   "attachments": {},
   "cell_type": "markdown",
   "metadata": {},
   "source": [
    "### while문\n",
    "\n",
    "- for 문의 경우 변수 선언과 동시에 값이 할당이 이루어지며 증감도 이루어졌다.\n",
    "- while문은 변수의 초기화가 이루어져야하며\n",
    "- 증감식을 잘 작성해주어야 한다."
   ]
  },
  {
   "cell_type": "code",
   "execution_count": 21,
   "metadata": {},
   "outputs": [
    {
     "name": "stdout",
     "output_type": "stream",
     "text": [
      "종강하고 싶네요 0\n",
      "종강하고 싶네요 1\n",
      "종강하고 싶네요 2\n",
      "종강하고 싶네요 3\n",
      "종강하고 싶네요 4\n",
      "종강하고 싶네요 5\n",
      "종강하고 싶네요 6\n",
      "종강하고 싶네요 7\n",
      "종강하고 싶네요 8\n",
      "종강하고 싶네요 9\n"
     ]
    }
   ],
   "source": [
    "i = 0 # 초기식\n",
    "# (c언어에서는 쓰레기 값이 할당되어 있다고 하는데 python은 잘 모르겠다.)\n",
    "# 일단 초기화(값을 할당)를 해주자.\n",
    "while i < 10: # while 조건식\n",
    "    print('종강하고 싶네요', i) # 반복할 코드\n",
    "    i += 1 # 변화식"
   ]
  },
  {
   "cell_type": "code",
   "execution_count": 23,
   "metadata": {},
   "outputs": [
    {
     "name": "stdout",
     "output_type": "stream",
     "text": [
      "2 3 5 7 11 13 17 19 23 29 31 37 41 43 47 53 59 61 67 71 73 79 83 89 97 "
     ]
    }
   ],
   "source": [
    "# 바로 배운 것을 응용해보자.\n",
    "# 아래는 반복문(while)을 통해 소수를 출력할 범위를 정하는 코드이다.\n",
    "end = int(input(\"소수를 어떤 범위까지 출력할 것인지 정하세요 : \"))\n",
    "\n",
    "num = 2\n",
    "while num < end: # 1 ~ 100 범위 안의 소수를 출력한다고 하자. (end에 100이 할당되었다고 가정한다.)\n",
    "    # 소수는 1과 그 수 자신만을 약수로 가지는 수이다. 따라서 1보다 커야한다.\n",
    "    for i in range(2, num): # num이 2일 때는 for문이 돌아가지 않는다. # 따라서 else문을 실행한다.\n",
    "        if (num % i) == 0:\n",
    "          break\n",
    "    else:\n",
    "        print(num, end =' ')\n",
    "    num += 1\n"
   ]
  }
 ],
 "metadata": {
  "kernelspec": {
   "display_name": "Python 3",
   "language": "python",
   "name": "python3"
  },
  "language_info": {
   "codemirror_mode": {
    "name": "ipython",
    "version": 3
   },
   "file_extension": ".py",
   "mimetype": "text/x-python",
   "name": "python",
   "nbconvert_exporter": "python",
   "pygments_lexer": "ipython3",
   "version": "3.11.0"
  },
  "orig_nbformat": 4
 },
 "nbformat": 4,
 "nbformat_minor": 2
}
