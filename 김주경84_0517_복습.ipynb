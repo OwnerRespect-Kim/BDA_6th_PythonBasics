{
 "cells": [
  {
   "attachments": {},
   "cell_type": "markdown",
   "metadata": {},
   "source": [
    "## break, continue\n",
    "- 반복문 for, while 문을 제어하는 방법\n",
    "- 흐름을 제어하는 개념\n",
    "\n",
    "- break : 흐름 중단, 가장 가까운 반복문에서 탈출한다.\n",
    "- continue : 전체 반복문 흐름 유지, 코드를 실행하지 않고 건너뛴다. (가장 가까운 반복문의 시작점으로 간다.)"
   ]
  },
  {
   "attachments": {},
   "cell_type": "markdown",
   "metadata": {},
   "source": [
    "- break문"
   ]
  },
  {
   "cell_type": "code",
   "execution_count": 5,
   "metadata": {},
   "outputs": [
    {
     "name": "stdout",
     "output_type": "stream",
     "text": [
      "0 1 2 3 4 5 6 7 8 9 0 1 2 3 4 5 6 7 8 9 "
     ]
    }
   ],
   "source": [
    "# while문\n",
    "\n",
    "a = 0\n",
    "i = 0\n",
    "while a < 2:\n",
    "    while True:\n",
    "        print(i, end = ' ')\n",
    "        i += 1\n",
    "        if i == 10: #무한루프를 조건식을 적어서 i를 이용해 멈출 수 있는 코드를 만들어야 한다.!\n",
    "            break #흐름을 중단한다. #보시다시피 가장 가까운 반복문에서 탈출한다.\n",
    "    i = 0\n",
    "    a += 1"
   ]
  },
  {
   "cell_type": "code",
   "execution_count": 13,
   "metadata": {},
   "outputs": [
    {
     "name": "stdout",
     "output_type": "stream",
     "text": [
      "0 1 2 3 4 5 6 7 8 9 10 0 1 2 3 4 5 6 7 8 9 10 "
     ]
    }
   ],
   "source": [
    "# for문\n",
    "\n",
    "a = 0\n",
    "for i in range(2):\n",
    "    for j in range(100):\n",
    "        print(j, end = ' ')\n",
    "        if j == 10:\n",
    "            break #while문에서 마찬가지로 가장 가까운 반복문에서 탈출한다.\n",
    "    j = 0\n",
    "# while문과 다르게 증감식을 적지 않아도 된다."
   ]
  },
  {
   "attachments": {},
   "cell_type": "markdown",
   "metadata": {},
   "source": [
    "- break문의 for, while의 공통점은\n",
    "- break 할 수 있는 근거가 필요하다. i를 이용한 조건식으로 해당 조건식이 참일 때 break를 만드는 형식으로 나타낸다."
   ]
  },
  {
   "attachments": {},
   "cell_type": "markdown",
   "metadata": {},
   "source": [
    "- continue 코드 실행\n",
    "\n",
    "- contunue문도 동일하게 조건이 필요하다.\n",
    "- 제어하기 위한 조건이 필요하다."
   ]
  },
  {
   "cell_type": "code",
   "execution_count": 28,
   "metadata": {},
   "outputs": [
    {
     "name": "stdout",
     "output_type": "stream",
     "text": [
      "딸기딸기1\n",
      "뚜왈기 딸기딸기3\n",
      "뚜왈기 딸기딸기5\n",
      "뚜왈기 딸기딸기7\n",
      "뚜왈기 딸기딸기9\n",
      "뚜왈기 "
     ]
    }
   ],
   "source": [
    "for i in range(10):\n",
    "    print('딸기', end = '')\n",
    "    if i % 2 == 0: # 0과 짝수 번째에서는 증감만 이루어지며 다시 반복문의 처음으로 돌아간다.\n",
    "        continue\n",
    "    print(i)\n",
    "    print('뚜왈기 ', end = '')"
   ]
  },
  {
   "cell_type": "code",
   "execution_count": 8,
   "metadata": {},
   "outputs": [
    {
     "name": "stdout",
     "output_type": "stream",
     "text": [
      "1\n",
      "3\n",
      "5\n",
      "7\n",
      "9\n"
     ]
    }
   ],
   "source": [
    "#while문으로 해보자\n",
    "i = 0\n",
    "while i < 10:\n",
    "    i += 1\n",
    "    if i % 2 == 0:\n",
    "        continue\n",
    "    print(i)"
   ]
  },
  {
   "cell_type": "code",
   "execution_count": 31,
   "metadata": {},
   "outputs": [
    {
     "name": "stdout",
     "output_type": "stream",
     "text": [
      "2 4 6 8 10 "
     ]
    }
   ],
   "source": [
    "#for 문으로 짝수만 출력하는 1 ~ 10 중 continue\n",
    "for i in range(1, 11):\n",
    "    if i % 2 != 0:\n",
    "        continue\n",
    "    else:\n",
    "        print(i, end = ' ')"
   ]
  },
  {
   "cell_type": "code",
   "execution_count": 32,
   "metadata": {},
   "outputs": [
    {
     "name": "stdout",
     "output_type": "stream",
     "text": [
      "1 3 5 7 9 "
     ]
    }
   ],
   "source": [
    "#for 문으로 홀수만 출력하는 1 ~ 10 중 continue\n",
    "for i in range(1, 11):\n",
    "    if i % 2 != 0:\n",
    "        print(i, end = ' ')\n",
    "    else:\n",
    "        continue"
   ]
  },
  {
   "attachments": {},
   "cell_type": "markdown",
   "metadata": {},
   "source": [
    "### 중첩루프 준비!"
   ]
  },
  {
   "attachments": {},
   "cell_type": "markdown",
   "metadata": {},
   "source": [
    "- 루프 2개 들어간 것\n",
    "- 반복문이 2개인 것\n",
    "- 반복문 2개의 작동 원리를 이해하면 어떤 n차 중첩루프도 이해할 수 있다!"
   ]
  },
  {
   "attachments": {},
   "cell_type": "markdown",
   "metadata": {},
   "source": [
    "- 중첩루프 문법\n",
    "- for i in range(횟수) :\n",
    "    - 반복할 코드\n",
    "\n",
    "- 2차 (중첩) 반복문\n",
    "- for i in range(횟수) :\n",
    "    - for j in range(횟수) : # 안쪽 루프\n",
    "        - 안쪽 루프 코드\n",
    "    - 바깥쪽 루프 코드"
   ]
  },
  {
   "cell_type": "code",
   "execution_count": 21,
   "metadata": {},
   "outputs": [
    {
     "name": "stdout",
     "output_type": "stream",
     "text": [
      "현재 숫자는 0 입니다. 현재 숫자는 1 입니다. 현재 숫자는 2 입니다. 다시 돌아갑니다.1번째 줄입니다.\n",
      "현재 숫자는 0 입니다. 현재 숫자는 1 입니다. 현재 숫자는 2 입니다. 다시 돌아갑니다.2번째 줄입니다.\n",
      "현재 숫자는 0 입니다. 현재 숫자는 1 입니다. 현재 숫자는 2 입니다. 다시 돌아갑니다.3번째 줄입니다.\n",
      "현재 숫자는 0 입니다. 현재 숫자는 1 입니다. 현재 숫자는 2 입니다. 다시 돌아갑니다.4번째 줄입니다.\n"
     ]
    }
   ],
   "source": [
    "#중첩루프는\n",
    "for i in range(4):\n",
    "    for j in range(3):\n",
    "        print('현재 숫자는', j, '입니다.', sep=' ', end=' ')\n",
    "    print('다시 돌아갑니다.', i+1, '번째 줄입니다.', sep='')"
   ]
  },
  {
   "attachments": {},
   "cell_type": "markdown",
   "metadata": {},
   "source": [
    "- 반복문 시작되는 원리\n",
    "- i = 0\n",
    "- j 코드로 가면 j = 0\n",
    "-  j=0, j=1, j=2 ,i=0\n",
    "\n",
    "- i = 1\n",
    "-   j=0, j=1, j=2, i=1\n",
    "\n",
    "- i = 2\n",
    "-   j=0, j=1, j=2, i=2\n",
    "\n",
    "- i = 3\n",
    "-   j=0, j=1, j=2, i=3\n",
    "\n",
    "- 반복문 수행을 마침"
   ]
  },
  {
   "attachments": {},
   "cell_type": "markdown",
   "metadata": {},
   "source": [
    "- 중첩루프를 이용해서 ' * ' 계단식 별을 만들어보자."
   ]
  },
  {
   "cell_type": "code",
   "execution_count": 37,
   "metadata": {},
   "outputs": [
    {
     "name": "stdout",
     "output_type": "stream",
     "text": [
      "*\n",
      "**\n",
      "***\n",
      "****\n",
      "*****\n"
     ]
    }
   ],
   "source": [
    "for i in range(5):\n",
    "    for j in range(5):\n",
    "        if j <= i:\n",
    "            print('*', end = '')\n",
    "    print()"
   ]
  },
  {
   "cell_type": "code",
   "execution_count": 25,
   "metadata": {},
   "outputs": [
    {
     "name": "stdout",
     "output_type": "stream",
     "text": [
      "    *\n",
      "   **\n",
      "  ***\n",
      " ****\n",
      "*****\n"
     ]
    }
   ],
   "source": [
    "for i in range(5):\n",
    "    for j in range(4 - i):\n",
    "        print(' ', end='')\n",
    "    for k in range(i + 1):\n",
    "        print('*', end='')\n",
    "    print()"
   ]
  },
  {
   "cell_type": "code",
   "execution_count": 38,
   "metadata": {},
   "outputs": [
    {
     "name": "stdout",
     "output_type": "stream",
     "text": [
      "*****\n",
      "****\n",
      "***\n",
      "**\n",
      "*\n"
     ]
    }
   ],
   "source": [
    "for i in range(5):\n",
    "    for j in range(5):\n",
    "        if j >= i:\n",
    "            print('*', end = '')\n",
    "    print()"
   ]
  },
  {
   "cell_type": "code",
   "execution_count": 27,
   "metadata": {},
   "outputs": [
    {
     "name": "stdout",
     "output_type": "stream",
     "text": [
      "*****\n",
      " ****\n",
      "  ***\n",
      "   **\n",
      "    *\n"
     ]
    }
   ],
   "source": [
    "for i in range(5):\n",
    "    for j in range(i):\n",
    "        print(' ', end='')\n",
    "    for k in range(5 - i):\n",
    "        print('*', end='')\n",
    "    print()\n"
   ]
  },
  {
   "attachments": {},
   "cell_type": "markdown",
   "metadata": {},
   "source": [
    "### 코테과제\n",
    "- 카톡방에 공유 예정\n",
    "- 최대한 구글링은 지양하고 고민해 보고 풀어보세요!"
   ]
  },
  {
   "attachments": {},
   "cell_type": "markdown",
   "metadata": {},
   "source": [
    "### 필수과제\n",
    "- 3차, 4차까지 반복문을 작성하고 작동 원리를 주석과 함께 정리해서 알려주세요!"
   ]
  }
 ],
 "metadata": {
  "kernelspec": {
   "display_name": "Python 3",
   "language": "python",
   "name": "python3"
  },
  "language_info": {
   "codemirror_mode": {
    "name": "ipython",
    "version": 3
   },
   "file_extension": ".py",
   "mimetype": "text/x-python",
   "name": "python",
   "nbconvert_exporter": "python",
   "pygments_lexer": "ipython3",
   "version": "3.11.0"
  },
  "orig_nbformat": 4
 },
 "nbformat": 4,
 "nbformat_minor": 2
}
