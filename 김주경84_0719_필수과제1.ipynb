{
 "cells": [
  {
   "cell_type": "code",
   "execution_count": 1,
   "metadata": {},
   "outputs": [
    {
     "name": "stdout",
     "output_type": "stream",
     "text": [
      "{'one': 1, 'two': 2, 'three': 3, 'four': 4, 'five': 5}\n",
      "{'one': 1, 'two': 2, 'three': 3, 'four': 4, 'five': 5, 'six': 6}\n"
     ]
    }
   ],
   "source": [
    "### dictionary assignment\n",
    "n = {'one':1, 'two':2, 'three':3, 'four':4, 'five':5}\n",
    "print(n) #before\n",
    "\n",
    "n.update(six = 6)\n",
    "#.update는 기존 key의 값을 수정하거나\n",
    "# 새로운 key와 value를 동시에 추가한다.\n",
    "print(n) #after"
   ]
  },
  {
   "cell_type": "code",
   "execution_count": 17,
   "metadata": {},
   "outputs": [
    {
     "name": "stdout",
     "output_type": "stream",
     "text": [
      "('first', 1)\n",
      "('two', 2)\n",
      "('three', 3)\n",
      "('four', 4)\n",
      "('five', 5)\n",
      "\n",
      "first 1\n",
      "three 3\n",
      "five 5\n"
     ]
    }
   ],
   "source": [
    "### dictionary loop\n",
    "n = {'first':1, 'two':2, 'three':3, 'four':4, 'five':5}\n",
    "\n",
    "for i in n.items(): # key와 value를 같이 출력해준다.\n",
    "    print(i)\n",
    "    \n",
    "print('')   \n",
    "\n",
    "for i, j in n.items(): # value의 값이 홀수인 경우에 key와 value를 출력해준다.\n",
    "    if j % 2 != 0:\n",
    "        print(i, j)"
   ]
  },
  {
   "cell_type": "code",
   "execution_count": 23,
   "metadata": {},
   "outputs": [
    {
     "name": "stdout",
     "output_type": "stream",
     "text": [
      "['first', 'two', 'three', 'four', 'five']\n",
      "[1, 2, 3, 4, 5]\n",
      "[('first', 1), ('two', 2), ('three', 3), ('four', 4), ('five', 5)]\n"
     ]
    }
   ],
   "source": [
    "### dictionary list comprehension\n",
    "n = {'first':1, 'two':2, 'three':3, 'four':4, 'five':5}\n",
    "\n",
    "keys_list = [key for key in n.keys()] # key만 포함하는 list 생성\n",
    "print(keys_list, sep = '')\n",
    "\n",
    "values_list = [value for value in n.values()] # value만 포함하는 list 생성\n",
    "print(values_list, sep = '')\n",
    "\n",
    "tuple_list = [(key, value) for key, value in n.items()] # tuple의 형태로 구성하는 list 생성\n",
    "print(tuple_list)\n"
   ]
  }
 ],
 "metadata": {
  "kernelspec": {
   "display_name": "Python 3",
   "language": "python",
   "name": "python3"
  },
  "language_info": {
   "codemirror_mode": {
    "name": "ipython",
    "version": 3
   },
   "file_extension": ".py",
   "mimetype": "text/x-python",
   "name": "python",
   "nbconvert_exporter": "python",
   "pygments_lexer": "ipython3",
   "version": "3.11.4"
  },
  "orig_nbformat": 4
 },
 "nbformat": 4,
 "nbformat_minor": 2
}
