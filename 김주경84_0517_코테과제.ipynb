{
 "cells": [
  {
   "attachments": {},
   "cell_type": "markdown",
   "metadata": {},
   "source": [
    "### 1. 동전이 앞면인지 뒷면인지에 따라서 앞면이면 '용돈', 뒷면이면 '용돈없음'을 출력하는 코드를 만들어 주세요!\n",
    "- (동전 앞, 뒷면은 랜덤으로 출력해주세요!)\n",
    "- ex '앞면이니 용돈 주세요!!' / '뒷면이니.. 용돈은 없겠죠?'"
   ]
  },
  {
   "cell_type": "code",
   "execution_count": 10,
   "metadata": {},
   "outputs": [
    {
     "name": "stdout",
     "output_type": "stream",
     "text": [
      "앞면이 나왔습니다.\n",
      "앞면이니 용돈 주세요!!\n"
     ]
    }
   ],
   "source": [
    "import random\n",
    "\n",
    "coin = random.choice(['앞면', '뒷면'])\n",
    "\n",
    "print(coin, '이 나왔습니다.', sep = '')\n",
    "if coin == '앞면':\n",
    "    print('앞면이니 용돈 주세요!!')\n",
    "else:\n",
    "    print('뒷면이니... 용돈은 없겠죠?')"
   ]
  },
  {
   "attachments": {},
   "cell_type": "markdown",
   "metadata": {},
   "source": [
    "### 2. BDA 회원 가입 ID 확인 코드\n",
    "- 회원 가입할 아이디를 리스트안에 여러 개 만들어두고 유저가 아이디 입력시 잘못 입력하게 되면 아이디를 찾을 수 없습니다.\n",
    "- 아이디가 맞으면 반갑습니다! 라고 출력하는 코드를 작성해주세요! (단 아이디는 최소 5개 이상)\n",
    "- ex: adsfa 입력시 '반갑습니다!' or '아이디를 찾을 수 없습니다.'"
   ]
  },
  {
   "cell_type": "code",
   "execution_count": 11,
   "metadata": {},
   "outputs": [
    {
     "name": "stdout",
     "output_type": "stream",
     "text": [
      "입력한 ID : adsfa\n",
      "아이디를 찾을 수 없습니다.\n"
     ]
    }
   ],
   "source": [
    "BDA_IDs = ['Kim', 'Na', 'Park', 'Lee', 'Ha']\n",
    "\n",
    "BDA_ID = input(\"아이디를 입력하세요 : \")\n",
    "\n",
    "print('입력한 ID :', BDA_ID)\n",
    "if BDA_ID in BDA_IDs:\n",
    "    print(\"반갑습니다!\")\n",
    "else:\n",
    "    print(\"아이디를 찾을 수 없습니다.\")"
   ]
  },
  {
   "attachments": {},
   "cell_type": "markdown",
   "metadata": {},
   "source": [
    "### 3. 1부터 숫자를 하나씩 증가시키면서 몇을 더할 때 2537을 넘는지 구해주세요! 그리고 그 때의 값도 출력해주세요.\n",
    "- ex: ㅇㅇㅇ을 더할 때 2537을 넘으며 그 때의 값은 0000입니다."
   ]
  },
  {
   "cell_type": "code",
   "execution_count": 9,
   "metadata": {},
   "outputs": [
    {
     "name": "stdout",
     "output_type": "stream",
     "text": [
      "71을 더할 때 2537을 넘습니다.\n",
      "넘을 때의 값은 2556입니다.\n"
     ]
    }
   ],
   "source": [
    "aim = 2537\n",
    "total_num = 0\n",
    "num = 0\n",
    "\n",
    "while total_num <= aim:\n",
    "    num += 1\n",
    "    total_num += num\n",
    "\n",
    "print(str(num) + '을 더할 때', str(aim) + '을 넘습니다.')\n",
    "print('넘을 때의 값은', str(total_num) + '입니다.')"
   ]
  }
 ],
 "metadata": {
  "kernelspec": {
   "display_name": "Python 3",
   "language": "python",
   "name": "python3"
  },
  "language_info": {
   "codemirror_mode": {
    "name": "ipython",
    "version": 3
   },
   "file_extension": ".py",
   "mimetype": "text/x-python",
   "name": "python",
   "nbconvert_exporter": "python",
   "pygments_lexer": "ipython3",
   "version": "3.11.0"
  },
  "orig_nbformat": 4
 },
 "nbformat": 4,
 "nbformat_minor": 2
}
