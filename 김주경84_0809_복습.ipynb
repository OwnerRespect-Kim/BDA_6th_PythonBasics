{
 "cells": [
  {
   "cell_type": "markdown",
   "metadata": {},
   "source": [
    "## 정규표현식 (regular expression)\n",
    "- 문자열을 패턴에 초점을 맞춰 특정한 형식으로 표현한 것\n",
    "- abbcccdddd와 같은 문자열을 [ab{2}c{3}d{4}]와 같이 표현하는 것"
   ]
  },
  {
   "cell_type": "code",
   "execution_count": 2,
   "metadata": {},
   "outputs": [],
   "source": [
    "# 're' 모듈은 파이썬에서 정규 표현식을 사용하기 위한 기능을 제공하는 모듈\n",
    "import re"
   ]
  },
  {
   "cell_type": "markdown",
   "metadata": {},
   "source": [
    "## re.match(pattern, string)\n",
    "- 문자열의 시작 부분에서 정규 표현식 패턴 'pattern'을 검색"
   ]
  },
  {
   "cell_type": "code",
   "execution_count": 20,
   "metadata": {},
   "outputs": [
    {
     "data": {
      "text/plain": [
       "<re.Match object; span=(0, 1), match='봄'>"
      ]
     },
     "execution_count": 20,
     "metadata": {},
     "output_type": "execute_result"
    }
   ],
   "source": [
    "re.match('봄', '봄, 여름, 가을, 겨울')"
   ]
  },
  {
   "cell_type": "code",
   "execution_count": 10,
   "metadata": {},
   "outputs": [],
   "source": [
    "# 가장 맨 앞의 인덱스에서 해당하는 패턴이 없으면 아무것도 출력되지 않는다.\n",
    "re.match('여름', '봄, 여름, 가을, 겨울')"
   ]
  },
  {
   "cell_type": "code",
   "execution_count": 8,
   "metadata": {},
   "outputs": [],
   "source": [
    "# 매칭이 안 되면 아무것도 출력되지 않는다.\n",
    "re.match('맑음', '봄, 여름, 가을, 겨울')"
   ]
  },
  {
   "cell_type": "code",
   "execution_count": 31,
   "metadata": {},
   "outputs": [
    {
     "name": "stdout",
     "output_type": "stream",
     "text": [
      "<re.Match object; span=(0, 5), match='fresh'>\n",
      "<re.Match object; span=(0, 4), match='milk'>\n"
     ]
    }
   ],
   "source": [
    "# '|' 기호를 사용하면 여러 문자열 중 하나라도 포함되어 있으면 출력하낟.\n",
    "print(re.match('fresh|milk', 'fresh milk'))\n",
    "print(re.match('fresh|milk', 'milk fresh'))"
   ]
  },
  {
   "cell_type": "code",
   "execution_count": 10,
   "metadata": {},
   "outputs": [
    {
     "name": "stdout",
     "output_type": "stream",
     "text": [
      "<re.Match object; span=(0, 1), match='1'>\n",
      "<re.Match object; span=(0, 6), match='135790'>\n",
      "None\n"
     ]
    }
   ],
   "source": [
    "# 모든 숫자를 표현하는 방법 [0-9]\n",
    "print(re.match('[0-9]', '135790')) # 이러면 숫자 1만 찾아진다.\n",
    "\n",
    "# 원하는 모든 숫자를 찾기 위해서는 [0-9]+ 와 같은 식으로 작성한다.\n",
    "# '+'는 찾고자 하는 pattern이 바로 앞의 문자나 그룹에 1개 이상 있는지 확인해준다.\n",
    "print(re.match('[0-9]+', '135790홀수'))\n",
    "\n",
    "# 물론 .match이기에 입력한 string의 앞에 찾고자 하는 패턴과 다른 것이 있으면 출력이 안 된다.\n",
    "print(re.match('[0-9]+', '홀수135790홀수'))"
   ]
  },
  {
   "cell_type": "markdown",
   "metadata": {},
   "source": [
    "## re.search(pattern, string)\n",
    "- 문자열 전체를 확인하고 정규 표현식 패턴 'pattern'을 검색"
   ]
  },
  {
   "cell_type": "code",
   "execution_count": 13,
   "metadata": {},
   "outputs": [
    {
     "data": {
      "text/plain": [
       "<re.Match object; span=(7, 9), match='가을'>"
      ]
     },
     "execution_count": 13,
     "metadata": {},
     "output_type": "execute_result"
    }
   ],
   "source": [
    "# 전체 패턴의 위치를 확인해준다.\n",
    "re.search('가을', '봄, 여름, 가을, 겨울')\n",
    "# 봄  , '' 여  름  , ''  가 을\n",
    "#[0][1][2][3][4][5][6][7][8]"
   ]
  },
  {
   "cell_type": "code",
   "execution_count": 7,
   "metadata": {},
   "outputs": [
    {
     "name": "stdout",
     "output_type": "stream",
     "text": [
      "<re.Match object; span=(2, 8), match='135790'>\n"
     ]
    }
   ],
   "source": [
    "# .match와 달리 .search는 string의 앞에 찾고자 하는 패턴과 다른 것이 있어도 출력이 된다.\n",
    "print(re.search('[0-9]+', '홀수135790홀수'))"
   ]
  },
  {
   "cell_type": "markdown",
   "metadata": {},
   "source": [
    "pattern에서 찾을 범위를 다음과 같이 설정할 수 있다.\n",
    "- a-z\n",
    "- A-Z\n",
    "- 가-힣\n",
    "- 0-9\n",
    "\n",
    "- [a-zA-Z가-힣0-9]* 전체를 찾기 위한 패턴 예시\n"
   ]
  },
  {
   "cell_type": "code",
   "execution_count": 14,
   "metadata": {},
   "outputs": [
    {
     "data": {
      "text/plain": [
       "<re.Match object; span=(10, 13), match='odd'>"
      ]
     },
     "execution_count": 14,
     "metadata": {},
     "output_type": "execute_result"
    }
   ],
   "source": [
    "# 소문자를 찾아서 출력한다.\n",
    "re.search('[a-z]+', '13579 숫자는 odd')"
   ]
  },
  {
   "cell_type": "code",
   "execution_count": 15,
   "metadata": {},
   "outputs": [
    {
     "data": {
      "text/plain": [
       "<re.Match object; span=(10, 13), match='ODD'>"
      ]
     },
     "execution_count": 15,
     "metadata": {},
     "output_type": "execute_result"
    }
   ],
   "source": [
    "re.search('[A-Z]+', '13579 숫자는 ODD')"
   ]
  },
  {
   "cell_type": "code",
   "execution_count": 9,
   "metadata": {},
   "outputs": [
    {
     "data": {
      "text/plain": [
       "<re.Match object; span=(3, 11), match='에해당하는숫자는'>"
      ]
     },
     "execution_count": 9,
     "metadata": {},
     "output_type": "execute_result"
    }
   ],
   "source": [
    "re.search('[가-힣]+', 'odd에해당하는숫자는13579입니다.')\n",
    "# 이미 찾은 속성은 다시 찾지 못한다. (입니다가 출력이 되지 않았다.)"
   ]
  },
  {
   "cell_type": "code",
   "execution_count": 13,
   "metadata": {},
   "outputs": [
    {
     "data": {
      "text/plain": [
       "<re.Match object; span=(0, 19), match='odd에해당하는숫자는13579입니다'>"
      ]
     },
     "execution_count": 13,
     "metadata": {},
     "output_type": "execute_result"
    }
   ],
   "source": [
    "re.search('[a-zA-Z가-힣0-9]+', 'odd에해당하는숫자는13579입니다.')"
   ]
  },
  {
   "cell_type": "markdown",
   "metadata": {},
   "source": [
    "## 문자(열) 개수 판단하기\n",
    "- re.search('문자(열){개수}', 'string')"
   ]
  },
  {
   "cell_type": "code",
   "execution_count": 19,
   "metadata": {},
   "outputs": [
    {
     "data": {
      "text/plain": [
       "<re.Match object; span=(16, 20), match='bbbb'>"
      ]
     },
     "execution_count": 19,
     "metadata": {},
     "output_type": "execute_result"
    }
   ],
   "source": [
    "# 정확한 '문자(열){개수}'의 의미는 문자가 개수만큼 나오는 곳을 찾으라는 것 \n",
    "re.search('b{4}', 'abaabbaaabbbaaaabbbb')"
   ]
  },
  {
   "cell_type": "code",
   "execution_count": 21,
   "metadata": {},
   "outputs": [
    {
     "data": {
      "text/plain": [
       "<re.Match object; span=(2, 11), match='BDABDABDA'>"
      ]
     },
     "execution_count": 21,
     "metadata": {},
     "output_type": "execute_result"
    }
   ],
   "source": [
    "# 문자열이라는 것을 구분하기 위해서는 소괄호를 문자열의 양 옆에 입력한다.\n",
    "re.search('(BDA){3}', 'ADBDABDABDADA')"
   ]
  },
  {
   "cell_type": "markdown",
   "metadata": {},
   "source": [
    "## 패턴 응용(전화번호, 주민등록번호)\n",
    "- 전화번호 패턴: 010-1234-5678\n",
    "- 주민등록 패턴 (비식별화를 위한 앞6자리와 뒤 첫 1자리): 010101-1"
   ]
  },
  {
   "cell_type": "code",
   "execution_count": 25,
   "metadata": {},
   "outputs": [
    {
     "name": "stdout",
     "output_type": "stream",
     "text": [
      "주민등록번호는 010101-1 입니다.\n"
     ]
    }
   ],
   "source": [
    "human_regist_num = input(\"주민등록번호를 앞자리부터 입력하세요 ('-'기호도 넣어주세요!)\")\n",
    "summarize_human_regist_num = re.search('[0-9]+-[0-9]', human_regist_num)\n",
    "print('주민등록번호는', summarize_human_regist_num.group(), '입니다.')"
   ]
  },
  {
   "cell_type": "code",
   "execution_count": 28,
   "metadata": {},
   "outputs": [
    {
     "name": "stdout",
     "output_type": "stream",
     "text": [
      "전화번호는 010-1234-5678 입니다.\n"
     ]
    }
   ],
   "source": [
    "human_dial_num = input(\"전화번호를 앞자리부터 입력하세요 ('-'기호도 넣어주세요!)\")\n",
    "summarize_human_dial_num = re.search('[0-9]{3}-[0-9]{4}-[0-9]{4}', human_dial_num)\n",
    "print('전화번호는', summarize_human_dial_num.group(), '입니다.')"
   ]
  },
  {
   "cell_type": "markdown",
   "metadata": {},
   "source": [
    "## 응용 - 문자 '^'\n",
    "- not을 의미\n",
    "- 특정 문자 범위 포함되지 않는지 판단하는 것\n",
    "- [^범위]와 같은 방법으로 사용"
   ]
  },
  {
   "cell_type": "code",
   "execution_count": 32,
   "metadata": {},
   "outputs": [
    {
     "name": "stdout",
     "output_type": "stream",
     "text": [
      "<re.Match object; span=(0, 12), match='CPythonJavaR'>\n",
      "<re.Match object; span=(12, 16), match='1234'>\n"
     ]
    }
   ],
   "source": [
    "# ^(not)의 의미는 말 그대로 아닌 것을 의미한다.\n",
    "# 아래는 ^을 사용하지 않았을 때와 사용했을 때의 차이를 보여준다.\n",
    "print(re.search('[a-zA-Z]+', 'CPythonJavaR1234'))\n",
    "print(re.search('[^a-zA-Z]+', 'CPythonJavaR1234'))"
   ]
  },
  {
   "cell_type": "markdown",
   "metadata": {},
   "source": [
    "## 응용 - 특수문자 찾기\n",
    "- re.search('\\찾을특수문자', ...)와 같은 식으로 사용한다."
   ]
  },
  {
   "cell_type": "code",
   "execution_count": 33,
   "metadata": {},
   "outputs": [
    {
     "data": {
      "text/plain": [
       "<re.Match object; span=(7, 26), match='*******************'>"
      ]
     },
     "execution_count": 33,
     "metadata": {},
     "output_type": "execute_result"
    }
   ],
   "source": [
    "re.search('\\*+', '반짝반짝많은별*******************너무 많네')"
   ]
  },
  {
   "cell_type": "markdown",
   "metadata": {},
   "source": [
    "- 문자와 숫자의 패턴을 더 간단하게 표현할 수 있다.\n",
    "\n",
    "- \\d [0-9]\n",
    "- \\D [^0-9]\n",
    "- \\s [a-zA-Z0-9_]\n",
    "- \\S [^a-zA-Z0-9_]"
   ]
  },
  {
   "cell_type": "code",
   "execution_count": 35,
   "metadata": {},
   "outputs": [
    {
     "name": "stdout",
     "output_type": "stream",
     "text": [
      "<re.Match object; span=(2, 3), match='1'>\n",
      "<re.Match object; span=(2, 8), match='135790'>\n"
     ]
    }
   ],
   "source": [
    "print(re.search('\\d', '홀수135790홀수'))\n",
    "# 위의 코드는 re.search('[0-9]', '홀수135790홀수')와 같다.\n",
    "print(re.search('\\d+', '홀수135790홀수'))\n",
    "# 위의 코드는 re.search('[0-9]+', '홀수135790홀수')와 같다."
   ]
  },
  {
   "cell_type": "code",
   "execution_count": 40,
   "metadata": {},
   "outputs": [
    {
     "name": "stdout",
     "output_type": "stream",
     "text": [
      "<re.Match object; span=(0, 2), match='My'>\n",
      "<re.Match object; span=(0, 19), match='My name is JuKyeong'>\n"
     ]
    }
   ],
   "source": [
    "# 첫 번째 match 코드의 경우 공백을 포함하지 않았기에 My만 출력된다.\n",
    "print(re.match('[a-zA-z0-9]+', 'My name is JuKyeong'))\n",
    "# 두 번째 match 코드의 경우 공백을 포함하는 코드를 넣어기에 전부 출력된다.\n",
    "print(re.match('[a-zA-Z0-9\\s]+', 'My name is JuKyeong'))\n",
    "# 위의 코드는 print(re.match('[a-zA-Z0-9 ]+', 'My name is JuKyeong'))와 같다."
   ]
  },
  {
   "cell_type": "markdown",
   "metadata": {},
   "source": [
    "## 정규표현식 복수사용\n",
    "- 정규표현식을 복수로 묶을 수 있다.\n",
    "- ex) re.search('(정규표현식)(정규표현식)', 'string')\n",
    "- group을 사용해서 출력할 수 있다."
   ]
  },
  {
   "cell_type": "code",
   "execution_count": 41,
   "metadata": {},
   "outputs": [],
   "source": [
    "regular_expression_plural = re.search('([a-zA-Z가-힣]+) ([0-9]+)', 'odd는 13579')"
   ]
  },
  {
   "cell_type": "code",
   "execution_count": 42,
   "metadata": {},
   "outputs": [
    {
     "data": {
      "text/plain": [
       "'odd는'"
      ]
     },
     "execution_count": 42,
     "metadata": {},
     "output_type": "execute_result"
    }
   ],
   "source": [
    "regular_expression_plural.group(1)"
   ]
  },
  {
   "cell_type": "code",
   "execution_count": 43,
   "metadata": {},
   "outputs": [
    {
     "data": {
      "text/plain": [
       "'13579'"
      ]
     },
     "execution_count": 43,
     "metadata": {},
     "output_type": "execute_result"
    }
   ],
   "source": [
    "regular_expression_plural.group(2)"
   ]
  },
  {
   "cell_type": "code",
   "execution_count": 44,
   "metadata": {},
   "outputs": [
    {
     "data": {
      "text/plain": [
       "'odd는 13579'"
      ]
     },
     "execution_count": 44,
     "metadata": {},
     "output_type": "execute_result"
    }
   ],
   "source": [
    "# .group(0)의 경우 작성한 모든 정규표현식에 해당하는 것을 출력한다.\n",
    "regular_expression_plural.group(0)"
   ]
  },
  {
   "cell_type": "markdown",
   "metadata": {},
   "source": [
    "## re.findall('pattern', 'string')\n",
    "- 정규 표현식에 매칭되는 모든 부분을 찾아 리스트로 반환하는 함수"
   ]
  },
  {
   "cell_type": "code",
   "execution_count": 45,
   "metadata": {},
   "outputs": [],
   "source": [
    "# 코딩 관련 프로그램만 출력되게 한다.\n",
    "cording_program = re.findall('[a-zA-Z]+', '1.Python 2.C 3.Java 4.R 5.SQL')\n",
    "# 리스트로 찾은 문자열(코딩 관련 프로그램)을 반환해 준다."
   ]
  },
  {
   "cell_type": "code",
   "execution_count": 46,
   "metadata": {},
   "outputs": [
    {
     "data": {
      "text/plain": [
       "['Python', 'C', 'Java', 'R', 'SQL']"
      ]
     },
     "execution_count": 46,
     "metadata": {},
     "output_type": "execute_result"
    }
   ],
   "source": [
    "cording_program"
   ]
  },
  {
   "cell_type": "markdown",
   "metadata": {},
   "source": [
    "## re.sub('pattern(changed string)', 'change string', 'string', change count)\n",
    "- 정규 표현식을 사용하여 문자열에서 패턴을 찾아 해당 패턴을 다른 문자열로 대체하는 역할"
   ]
  },
  {
   "cell_type": "code",
   "execution_count": 49,
   "metadata": {},
   "outputs": [
    {
     "name": "stdout",
     "output_type": "stream",
     "text": [
      "apple, orange, samsung, fourstar\n"
     ]
    }
   ],
   "source": [
    "# 'banana'를 'orange'로 대체한다.\n",
    "change_after=re.sub('banana', 'orange',\n",
    "                    'apple, banana, samsung, fourstar')\n",
    "print(change_after)"
   ]
  },
  {
   "cell_type": "code",
   "execution_count": 56,
   "metadata": {},
   "outputs": [
    {
     "data": {
      "text/plain": [
       "'홀수 2 홀수 4 홀수 6 홀수 8 홀수'"
      ]
     },
     "execution_count": 56,
     "metadata": {},
     "output_type": "execute_result"
    }
   ],
   "source": [
    "re.sub('[1,3,5,7,9]+', '홀수', '1 2 3 4 5 6 7 8 9')"
   ]
  }
 ],
 "metadata": {
  "kernelspec": {
   "display_name": "Python 3",
   "language": "python",
   "name": "python3"
  },
  "language_info": {
   "codemirror_mode": {
    "name": "ipython",
    "version": 3
   },
   "file_extension": ".py",
   "mimetype": "text/x-python",
   "name": "python",
   "nbconvert_exporter": "python",
   "pygments_lexer": "ipython3",
   "version": "3.11.4"
  },
  "orig_nbformat": 4
 },
 "nbformat": 4,
 "nbformat_minor": 2
}
