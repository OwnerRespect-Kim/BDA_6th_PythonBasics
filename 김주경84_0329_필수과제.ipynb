{
 "cells": [
  {
   "attachments": {},
   "cell_type": "markdown",
   "metadata": {},
   "source": [
    "## 필수과제 1\n",
    "- 해당 if 조건문의 순서를 10개 이상 바꿔서 (if 개수, if문의 코드라인 위치를 다르게 해서)\n",
    "- 작동되는 코드를 주석으로 원리를 설명해 주세요.\n",
    "- x = 10인데 나온 결과에 대해서 왜 이 결과 나왔는지?"
   ]
  },
  {
   "cell_type": "code",
   "execution_count": 3,
   "metadata": {},
   "outputs": [
    {
     "name": "stdout",
     "output_type": "stream",
     "text": [
      "10입니다.\n",
      "10\n"
     ]
    }
   ],
   "source": [
    "x = int(input())\n",
    "\n",
    "if x==10:\n",
    "    print('10입니다.')\n",
    "if x==20:\n",
    "    print('20입니다.')\n",
    "print(x)\n",
    "\n",
    "# 10을 입력하였으며 이에 따라 if x==10이 참이 되어 '10입니다.'를 출력하였다.\n",
    "# 그러나 if x==20에서는 거짓이 되었기에 출력을 하지 않았다."
   ]
  },
  {
   "cell_type": "code",
   "execution_count": 4,
   "metadata": {},
   "outputs": [
    {
     "name": "stdout",
     "output_type": "stream",
     "text": [
      "10입니다.\n",
      "장발장이 아닙니다.\n",
      "10\n"
     ]
    }
   ],
   "source": [
    "x = int(input())\n",
    "\n",
    "if x==10:\n",
    "    print('10입니다.')\n",
    "if x!=24601:\n",
    "    print('장발장이 아닙니다.')\n",
    "print(x)\n",
    "\n",
    "# 10을 입력하였으며 이에 따라 if x==10이 참이 되어 '10입니다.'를 출력하였다.\n",
    "# 또한, if x!=24601에서도 참이 되었기에 출력을 하였다."
   ]
  },
  {
   "cell_type": "code",
   "execution_count": 5,
   "metadata": {},
   "outputs": [
    {
     "name": "stdout",
     "output_type": "stream",
     "text": [
      "9\n"
     ]
    }
   ],
   "source": [
    "x = int(input())\n",
    "\n",
    "if x==10:\n",
    "    print('10입니다.')\n",
    "    if x!=24601:\n",
    "        print('장발장이 아닙니다.')\n",
    "print(x)\n",
    "\n",
    "# 9를 입력하였으며 이에 따라 if x==10이 거짓이 되어 아무것도 출력하지 않았다.\n",
    "# if x!=24601을 보면 들여쓰기가 되어 있다.\n",
    "# 계단 형식이네? 그렇다 종속되어 있다. 따라서 1순위 조건문이 거짓이기 때문에 애초에 연산이 수행되지 않았다."
   ]
  },
  {
   "cell_type": "code",
   "execution_count": 6,
   "metadata": {},
   "outputs": [
    {
     "name": "stdout",
     "output_type": "stream",
     "text": [
      "장발장이 아닙니다.\n",
      "9\n"
     ]
    }
   ],
   "source": [
    "x = int(input())\n",
    "\n",
    "if x==10:\n",
    "    print('10입니다.')\n",
    "    if x!=24601:\n",
    "        print('장발장이 아닙니다.')\n",
    "if x!=24601:\n",
    "    print('장발장이 아닙니다.')\n",
    "print(x)\n",
    "\n",
    "# 마지막 줄에 들여쓰기를 하지 않고 if문을 추가했다.\n",
    "# 참을 가지기 때문에 정상적으로 출력이 된다.\n",
    "# 그렇다. 종속되지 않았다는 것을 알 수 있다."
   ]
  },
  {
   "cell_type": "code",
   "execution_count": 7,
   "metadata": {},
   "outputs": [
    {
     "name": "stdout",
     "output_type": "stream",
     "text": [
      "10\n",
      "장발장이 아닙니다.\n",
      "9\n"
     ]
    }
   ],
   "source": [
    "x = int(input())\n",
    "\n",
    "if x==10 or x!=24601:\n",
    "    print('10')\n",
    "    if x!=24601:\n",
    "        print('장발장이 아닙니다.')\n",
    "print(x)\n",
    "\n",
    "# 입력된 값은 9다.\n",
    "# 그런데 어떻게 10가 문자열 '장발장이 아닙니다.'가 출력되었을까?\n",
    "# or 연산자는 피연산자중 하나라도 참이면 True가 된다."
   ]
  },
  {
   "cell_type": "code",
   "execution_count": 10,
   "metadata": {},
   "outputs": [
    {
     "name": "stdout",
     "output_type": "stream",
     "text": [
      "10\n"
     ]
    }
   ],
   "source": [
    "x = int(input())\n",
    "\n",
    "if x==10 and x % 2 != 0:\n",
    "    print('숫자 10')\n",
    "    if x!=24601:\n",
    "        print('장발장이 아닙니다.')\n",
    "print(x)\n",
    "\n",
    "# 입력된 값은 10이다.\n",
    "# 어 x == 10은 참이 아닌가?\n",
    "# 자세히 보면 and 연산자가 있다.\n",
    "# and 연산자는 피연산자중 하나라도 거짓이면 False가 된다.\n",
    "# 이 경우 x % 2 != 0이 거짓이 되었다."
   ]
  },
  {
   "cell_type": "code",
   "execution_count": 6,
   "metadata": {},
   "outputs": [
    {
     "name": "stdout",
     "output_type": "stream",
     "text": [
      "x는 홀수이며 y는 짝수입니다.\n",
      "7 12\n"
     ]
    }
   ],
   "source": [
    "x = int(input('홀수의 숫자를 입력하세요'))\n",
    "y = int(input('짝수의 숫자를 입력하세요'))\n",
    "\n",
    "if x % 2 != 0 and y % 2 == 0:\n",
    "    print('x는 홀수이며 y는 짝수입니다.')\n",
    "print(x, y)\n",
    "\n",
    "# 변수가 두 개일 때의 and 연산자를 활용해보자.\n",
    "# x가 홀수이고 y가 짝수이면 if문은 참이 됩니다.\n",
    "# 그래서 실행이 되었습니다."
   ]
  },
  {
   "cell_type": "code",
   "execution_count": 1,
   "metadata": {},
   "outputs": [
    {
     "name": "stdout",
     "output_type": "stream",
     "text": [
      "숫자 10\n",
      "10\n"
     ]
    }
   ],
   "source": [
    "x = int(input())\n",
    "\n",
    "if x==10 and x % 2 != 0:\n",
    "    print('숫자 10')\n",
    "    if x!=24601:\n",
    "        print('장발장이 아닙니다.')\n",
    "if x==10:\n",
    "    print('숫자 10')\n",
    "print(x)\n",
    "\n",
    "# 입력된 값은 10이다.\n",
    "# and 연산자에서 오른쪽 피연산자가 거짓이다.\n",
    "# 그래서 종속된 if문은 실행되지 않는다.\n",
    "# 그러나 종속되지 않고 같은 라인에 있는 if문은 실행이 된다."
   ]
  },
  {
   "cell_type": "code",
   "execution_count": 3,
   "metadata": {},
   "outputs": [
    {
     "name": "stdout",
     "output_type": "stream",
     "text": [
      "위의 and 조건은 절대 참이 될 수 없습니다.\n",
      "10\n"
     ]
    }
   ],
   "source": [
    "x = int(input())\n",
    "\n",
    "if x==10 and x % 2 != 0:\n",
    "    print('숫자 10')\n",
    "else:\n",
    "    print('위의 and 조건은 절대 참이 될 수 없습니다.')\n",
    "print(x)\n",
    "\n",
    "# 입력된 값은 10이다.\n",
    "# and 연산자에서 오른쪽 피연산자가 거짓이다.\n",
    "# 그래서 if문은 거짓이 되고 자동으로 else문으로 넘어가게 된다."
   ]
  },
  {
   "cell_type": "code",
   "execution_count": 3,
   "metadata": {},
   "outputs": [
    {
     "name": "stdout",
     "output_type": "stream",
     "text": [
      "홀수 값을 입력받았습니다.\n",
      "7\n"
     ]
    }
   ],
   "source": [
    "x = int(input())\n",
    "\n",
    "if x==10 and x % 2 != 0:\n",
    "    print('숫자 10')\n",
    "elif x % 2 == 1:\n",
    "    print('홀수 값을 입력받았습니다.')\n",
    "else:\n",
    "    print('짝수 값입니다.')\n",
    "print(x)\n",
    "\n",
    "# 입력된 값은 7이다.\n",
    "# and 연산자에서 오른쪽 피연산자가 거짓이다.\n",
    "# if elif else문은 셋 중 무조건 하나만 참이 된다.\n",
    "# if에서 참이면 elif, else는 실행되지 않는다."
   ]
  }
 ],
 "metadata": {
  "kernelspec": {
   "display_name": "Python 3",
   "language": "python",
   "name": "python3"
  },
  "language_info": {
   "codemirror_mode": {
    "name": "ipython",
    "version": 3
   },
   "file_extension": ".py",
   "mimetype": "text/x-python",
   "name": "python",
   "nbconvert_exporter": "python",
   "pygments_lexer": "ipython3",
   "version": "3.11.0"
  },
  "orig_nbformat": 4
 },
 "nbformat": 4,
 "nbformat_minor": 2
}
