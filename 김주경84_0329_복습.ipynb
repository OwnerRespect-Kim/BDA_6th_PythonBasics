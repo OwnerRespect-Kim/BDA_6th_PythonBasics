{
 "cells": [
  {
   "attachments": {},
   "cell_type": "markdown",
   "metadata": {},
   "source": [
    "### 딕셔너리\n",
    "- key, value"
   ]
  },
  {
   "attachments": {},
   "cell_type": "markdown",
   "metadata": {},
   "source": [
    "### 딕셔너리 key를 기준으로 value를 할당"
   ]
  },
  {
   "cell_type": "code",
   "execution_count": 16,
   "metadata": {},
   "outputs": [
    {
     "data": {
      "text/plain": [
       "{'대학교': '낙성대학교', '학과': 'Department of Python', '성적': 'S+'}"
      ]
     },
     "execution_count": 16,
     "metadata": {},
     "output_type": "execute_result"
    }
   ],
   "source": [
    "# 무조건 key 하나에 value 하나가 딱 대응되어야 한다.\n",
    "# 일대일 대응 함수를 생각?해보자.\n",
    "abc = {'대학교' : '낙성대학교', '학과' : 'Department of Python', '성적' : 'S+'}\n",
    "abc"
   ]
  },
  {
   "cell_type": "code",
   "execution_count": 19,
   "metadata": {},
   "outputs": [
    {
     "data": {
      "text/plain": [
       "{'대학교': '낙성대학교', '학과': 'Department of Python', '성적': 24601}"
      ]
     },
     "execution_count": 19,
     "metadata": {},
     "output_type": "execute_result"
    }
   ],
   "source": [
    "# value의 새로운 값을 대입할 수 있다.\n",
    "# tmi로 장발장의 죄수번호이다.\n",
    "abc ['성적'] = 24601\n",
    "abc"
   ]
  },
  {
   "attachments": {},
   "cell_type": "markdown",
   "metadata": {},
   "source": [
    "### 딕셔너리 안에 내가 찾고자 하는 key가 있는가 없는가?\n",
    "- in\n",
    "- in 함수를 이용해서 key를 찾는 것"
   ]
  },
  {
   "cell_type": "code",
   "execution_count": 20,
   "metadata": {},
   "outputs": [
    {
     "data": {
      "text/plain": [
       "False"
      ]
     },
     "execution_count": 20,
     "metadata": {},
     "output_type": "execute_result"
    }
   ],
   "source": [
    "'학점' in abc\n",
    "# 키가 있나 없나를 확인\n",
    "# '학점'이라는 key는 없기 때문에 불린값 False가 출력이 된다."
   ]
  },
  {
   "cell_type": "code",
   "execution_count": 21,
   "metadata": {},
   "outputs": [
    {
     "data": {
      "text/plain": [
       "True"
      ]
     },
     "execution_count": 21,
     "metadata": {},
     "output_type": "execute_result"
    }
   ],
   "source": [
    "'학점' not in abc \n",
    "# 키가 있나 없나를 확인\n",
    "# 키가 없는 것이 참이기에 불린값 True가 출력이 된다."
   ]
  },
  {
   "cell_type": "code",
   "execution_count": 22,
   "metadata": {},
   "outputs": [],
   "source": [
    "a = [2, 4, 6, 0, 1]"
   ]
  },
  {
   "cell_type": "code",
   "execution_count": 28,
   "metadata": {},
   "outputs": [
    {
     "name": "stdout",
     "output_type": "stream",
     "text": [
      "5\n",
      "0\n"
     ]
    }
   ],
   "source": [
    "print(len(a))\n",
    "print(a[3])\n",
    "\n",
    "# 몇 번째 말하는 것 같다.\n",
    "# len은 '길이'를 세는 함수이다.\n",
    "# 다시 말한다. 컴퓨터는 0번째부터 시작이다."
   ]
  },
  {
   "cell_type": "code",
   "execution_count": 24,
   "metadata": {},
   "outputs": [
    {
     "data": {
      "text/plain": [
       "6"
      ]
     },
     "execution_count": 24,
     "metadata": {},
     "output_type": "execute_result"
    }
   ],
   "source": [
    "len(abc) + len(abc)\n",
    "#딕셔너리에 len 함수를 이용하면?\n",
    "#키를 기준으로 값이 계산된다."
   ]
  },
  {
   "attachments": {},
   "cell_type": "markdown",
   "metadata": {},
   "source": [
    "# if 조건문 정복하기!\n",
    "\n",
    "- 조건이라는 건 결국 내가 원하는 어떤 상황이 있다.\n",
    "- 내가 원하는 상황 -> 내가 원하는 조건\n",
    "- 내가 원하는 조건을 만들어서 해당 조건일 때 내가 원하는 값을 추출한다.\n",
    "\n",
    "- 내가 원하는 조건을 만들어야 한다.\n",
    "- 그 조건을 어떻게? if문을 이용해서 만든다.\n",
    "- if문을 어떤 식으로 작성해야 하고, 어떤 원리로 이루어지는가?\n",
    "- 응용은 정말 쉽다."
   ]
  },
  {
   "attachments": {},
   "cell_type": "markdown",
   "metadata": {},
   "source": [
    "- 만약 비가 온다면:\n",
    "    - 우산을 가지고 가거라!\n",
    "\n",
    "- 코드로 이걸 바꾼다면?\n",
    "- if문을 사용한다.\n",
    "\n",
    "- if 비가 온다면:\n",
    "    - 우산을 가지고 가거라!\n",
    "\n",
    "\n",
    "- if(비가 온다면):\n",
    "    - print(우산을 가지고 가거라!)\n",
    "\n",
    "\n",
    "- if(비가 온다면):\n",
    "    - print('우산을 가지고 가거라!')\n",
    "\n",
    "\n",
    "- if문 안의 조건식 (비가온다면) 핵심\n",
    "- if문안의 내가 원하는 조건식을 Python으로 표현할 수 있는가?\n",
    "\n",
    "- 비가온다면?\n",
    "- 조건식이 참인 경우에만 이 조건문이 작동이 되는 것이고 거짓이면 작동이 안 된다.\n",
    "- 참이라는 건 결국 True\n",
    "- 비가 온다면을 True 만들 수 있는 조건식을 만들어야 한다."
   ]
  },
  {
   "cell_type": "code",
   "execution_count": 4,
   "metadata": {},
   "outputs": [],
   "source": [
    "# 배운 거 활용해서 if문 써보면은\n",
    "# 더욱 좋겠쥬?\n",
    "x = int(input('Please input a RealNumber : '))\n"
   ]
  },
  {
   "cell_type": "code",
   "execution_count": 6,
   "metadata": {},
   "outputs": [
    {
     "name": "stdout",
     "output_type": "stream",
     "text": [
      "Oddnumber\n",
      "7\n"
     ]
    }
   ],
   "source": [
    "# 참고로 C언어가 익숙한 분들은 조건문에 뭔 콜론을 붙이냐고 생각할 수도 있다.\n",
    "# 왜냐고요? 제가 그랬거든요\n",
    "if x % 2 != 0:\n",
    "    print('Oddnumber')\n",
    "else:\n",
    "    print('Evennumber')\n",
    "print(x)\n",
    "\n",
    "# 위의 코드를 해석해주자면 x의 값을 입력받고\n",
    "# x가 홀수면 문자열 'Oddnumber'을 출력하고\n",
    "# x가 짝수면 문자열 'Evennumber'을 출력한다."
   ]
  },
  {
   "attachments": {},
   "cell_type": "markdown",
   "metadata": {},
   "source": [
    "- 조건문이 작동하는 원리는 조건식이 참인가 거짓인가에 따라 작동한다."
   ]
  },
  {
   "attachments": {},
   "cell_type": "markdown",
   "metadata": {},
   "source": [
    "- if 조건문 쓰는 공식\n",
    "- if 조건식:\n",
    "    - 코드"
   ]
  },
  {
   "cell_type": "code",
   "execution_count": 17,
   "metadata": {},
   "outputs": [],
   "source": [
    "if x==24601:\n",
    "    print('장발장')\n",
    "# 들여쓰기\n",
    "# 스페이스바 누르기 귀찮으면 탭 한번만 눌러주시요."
   ]
  },
  {
   "attachments": {},
   "cell_type": "markdown",
   "metadata": {},
   "source": [
    "- 들여쓰기라는 건 스페이스바 4번 탭 1번 개념"
   ]
  },
  {
   "cell_type": "code",
   "execution_count": 18,
   "metadata": {},
   "outputs": [
    {
     "name": "stdout",
     "output_type": "stream",
     "text": [
      "안녕\n"
     ]
    }
   ],
   "source": [
    "if x==10:\n",
    " print('안녕')\n",
    "# 사실 4칸 안 뛰어도 된다.\n",
    "# 그런데 여러분이 나중에 취직하면, 회사마다 코딩룰이라는게 있을 것이다.\n",
    "# 근데 대부분의 코딩룰중 들여쓰기는 거의 암묵적으로 들어갈 것 같다.\n",
    "# 뇌피셜이라 아닐 수 있다."
   ]
  },
  {
   "attachments": {},
   "cell_type": "markdown",
   "metadata": {},
   "source": [
    "- 약속인 것\n",
    "- 4개는 코드를 작성하는 사람들의 약속이라 지켜주셔야 한다."
   ]
  },
  {
   "attachments": {},
   "cell_type": "markdown",
   "metadata": {},
   "source": [
    "- 컴퓨터가 조건문을 받아들일 때 if문을 확인한다.\n",
    "- 1. if문의 조건식을 본다. x==10을 확인\n",
    "- 2. x==10인가?\n",
    "- 3. x가 10이면 아래 코드를 출력한다. print문 조건식이 True\n",
    "- 4. x가 10이 아니면 아래 코드를 출력하지 않는다. 조건식이 False"
   ]
  },
  {
   "attachments": {},
   "cell_type": "markdown",
   "metadata": {},
   "source": [
    "## if 문을 여러 개 쓸 경우\n",
    "- if문만을 이용해서 여러 개 사용해보자!\n",
    "- 여러 조건문을 이용해서 내가 해결해야 하는 과제 또는 상황을 풀어야 한다.\n",
    "- ex) 주사위의 눈 6가지 나오는 방법"
   ]
  },
  {
   "cell_type": "code",
   "execution_count": 19,
   "metadata": {},
   "outputs": [
    {
     "name": "stdout",
     "output_type": "stream",
     "text": [
      "10입니다.\n",
      "11이 아닙니다.\n"
     ]
    }
   ],
   "source": [
    "# if 문을 2개 사용해보자!\n",
    "\n",
    "x = 10\n",
    "\n",
    "if x==10:\n",
    "    print('10입니다.')\n",
    "if x!=11:\n",
    "    print('11이 아닙니다.')\n",
    "# 아마 뒤에서 나올 것인데\n",
    "# if문을 사용하고 else나 else if가 아니라 if문을 사용하면\n",
    "# 조건문이 한 개씩 따로 있는 것이다."
   ]
  },
  {
   "cell_type": "code",
   "execution_count": 13,
   "metadata": {},
   "outputs": [
    {
     "name": "stdout",
     "output_type": "stream",
     "text": [
      "10보다 큽니다.\n",
      "10이 아닙니다.\n"
     ]
    }
   ],
   "source": [
    "x = 11\n",
    "\n",
    "if x>10:\n",
    "    print('10보다 큽니다.')\n",
    "if x!=10:\n",
    "    print('10이 아닙니다.')\n",
    "if x<10:\n",
    "    print('10보다 작습니다.')\n",
    "\n",
    "# 이 경우 3개의 조건문이 각각 있는 것이다."
   ]
  },
  {
   "cell_type": "code",
   "execution_count": 12,
   "metadata": {},
   "outputs": [
    {
     "name": "stdout",
     "output_type": "stream",
     "text": [
      "10이 아닙니다.\n"
     ]
    }
   ],
   "source": [
    "# 강사님이 하신 것을 간단하게 요약해보자.\n",
    "x = 12\n",
    "\n",
    "if x>10 or x<10:\n",
    "    print('10이 아닙니다.')\n",
    "else:\n",
    "    print('10입니다.')\n",
    "\n",
    "# c언어를 배운 사람들은 이러한 논리구조를 빠르게 파악할 것이라 생각한다.\n",
    "# if문에도 논리 연산자(logical operator)를 사용할 수 있다."
   ]
  },
  {
   "attachments": {},
   "cell_type": "markdown",
   "metadata": {},
   "source": [
    "- 중첩 if문\n",
    "- if문 안에 if문이 들어간다."
   ]
  },
  {
   "cell_type": "code",
   "execution_count": 14,
   "metadata": {},
   "outputs": [],
   "source": [
    "x = 9\n",
    "if x>10:\n",
    "    print('10입니다.')\n",
    "    if x!=10:\n",
    "        print('10이 아닙니다.')\n",
    "# 중첩 if문의 경우 즉 계단 형식으로 되어 있는 경우 어떻게 될까?"
   ]
  },
  {
   "attachments": {},
   "cell_type": "markdown",
   "metadata": {},
   "source": [
    "- if문의 코드 라인을 잘 봐야한다. 조건문도 마찬가지다.\n",
    "- if문의 코드 라인이 안쪽으로 들어간 순간 (if문 안에 if문이 있다면, 가장 맨 위에 있는 if문에 종속되어 아래 안쪽 if문들은 움직인다.)"
   ]
  },
  {
   "cell_type": "code",
   "execution_count": 36,
   "metadata": {},
   "outputs": [
    {
     "name": "stdout",
     "output_type": "stream",
     "text": [
      "10이 아닙니다.\n"
     ]
    }
   ],
   "source": [
    "x = 9\n",
    "if x>10:\n",
    "    print('10입니다.')\n",
    "if x!=10:\n",
    "    print('10이 아닙니다.')\n",
    "# if문이 같은 라인에 있다. if문의 영향력이 같다."
   ]
  },
  {
   "cell_type": "code",
   "execution_count": 15,
   "metadata": {},
   "outputs": [
    {
     "name": "stdout",
     "output_type": "stream",
     "text": [
      "10보다 작습니다.\n",
      "10이 아닙니다.\n"
     ]
    }
   ],
   "source": [
    "x = 9\n",
    "if x<10:\n",
    "    print('10보다 작습니다.')\n",
    "    if x!=10:\n",
    "        print('10이 아닙니다.')\n",
    "# 위에서 if문을 사용하고 또 if문을 사용하면 별도의 조건문이라고 하였다.\n",
    "# 그러나 들여쓰기를 한다면 이야기가 다르다.\n",
    "# if x!=10 조건식은 if x>10의 종속이 된다. if x>10이 참이 아니면 아래 코드도 작동이 안 된다.\n",
    "# 즉, 요약하면 계단 형식의 경우 가장 왼쪽 위의 계단이 짱이다."
   ]
  },
  {
   "cell_type": "code",
   "execution_count": 38,
   "metadata": {},
   "outputs": [
    {
     "name": "stdout",
     "output_type": "stream",
     "text": [
      "10입니다.\n"
     ]
    }
   ],
   "source": [
    "x = 10\n",
    "if x<=10:\n",
    "    print('10입니다.')\n",
    "    if x!=10:\n",
    "        print('10이 아닙니다.')"
   ]
  },
  {
   "cell_type": "code",
   "execution_count": 20,
   "metadata": {},
   "outputs": [
    {
     "name": "stdout",
     "output_type": "stream",
     "text": [
      "장발장일 수 있습니다.\n",
      "장발장이 맞습니다.\n",
      "빵을 훔쳤습니다.\n"
     ]
    }
   ],
   "source": [
    "x = 24601\n",
    "if x<24602: #1순위 가장 큰 영향력\n",
    "    print('장발장일 수 있습니다.')\n",
    "    if x == 24601:\n",
    "        print('장발장이 맞습니다.')\n",
    "    if x != 24602:\n",
    "            print('빵을 훔쳤습니다.')"
   ]
  },
  {
   "attachments": {},
   "cell_type": "markdown",
   "metadata": {},
   "source": [
    "### else문을 사용하기\n",
    "- if문은 기본적으로 if, elif, else 3가지 구성으로 이루어진다."
   ]
  },
  {
   "attachments": {},
   "cell_type": "markdown",
   "metadata": {},
   "source": [
    "- else문의 경우는 우리가 조건식을 한 가지로만 표현하기 어렵다.\n",
    "- if문을 두 개 이상 사용하는데\n",
    "- else는 마무리 형태로 사용하고, if 조건식 외에 다른 것 모두다를 말한다.\n",
    "\n",
    "- if 비가 온다면:\n",
    "    - print('우산을 가지고 가라!')\n",
    "  \n",
    "  else:\n",
    "    - print('비가 안 온다.')"
   ]
  },
  {
   "cell_type": "code",
   "execution_count": 21,
   "metadata": {},
   "outputs": [
    {
     "name": "stdout",
     "output_type": "stream",
     "text": [
      "5가 맞습니다.\n"
     ]
    }
   ],
   "source": [
    "x = 5\n",
    "if x !=5:\n",
    "    print('5가 아닙니다.')\n",
    "else:\n",
    "    print('5가 맞습니다.')\n",
    "# if 문이 참이 아니라면 자동으로 else문이 참이 되는 형식이다."
   ]
  },
  {
   "cell_type": "code",
   "execution_count": 50,
   "metadata": {},
   "outputs": [
    {
     "ename": "SyntaxError",
     "evalue": "invalid syntax (1324381124.py, line 4)",
     "output_type": "error",
     "traceback": [
      "\u001b[1;36m  Cell \u001b[1;32mIn[50], line 4\u001b[1;36m\u001b[0m\n\u001b[1;33m    else:\u001b[0m\n\u001b[1;37m    ^\u001b[0m\n\u001b[1;31mSyntaxError\u001b[0m\u001b[1;31m:\u001b[0m invalid syntax\n"
     ]
    }
   ],
   "source": [
    "x = 5\n",
    "if x==10:\n",
    "    print('10입니다.')\n",
    "    else:\n",
    "    print('10이 아닙니다.')\n",
    "# if와 else는 우하향하는 계단이 아니라 직선으로 내리는 엘리베이터가 된다고 생각하자."
   ]
  },
  {
   "attachments": {},
   "cell_type": "markdown",
   "metadata": {},
   "source": [
    "- else문은 if문과 같은 동일선상의 코드라인에 적어야 한다!"
   ]
  },
  {
   "cell_type": "code",
   "execution_count": 53,
   "metadata": {},
   "outputs": [
    {
     "name": "stdout",
     "output_type": "stream",
     "text": [
      "10도 20도 아닙니다.\n"
     ]
    }
   ],
   "source": [
    "x = 30\n",
    "if x==10:\n",
    "    print('10입니다.')\n",
    "if x==20:\n",
    "    print('20입니다.')\n",
    "else:\n",
    "    print('10도 20도 아닙니다.')"
   ]
  },
  {
   "cell_type": "code",
   "execution_count": 16,
   "metadata": {},
   "outputs": [
    {
     "name": "stdout",
     "output_type": "stream",
     "text": [
      "10입니다.\n",
      "10도 20도 아닙니다.\n"
     ]
    }
   ],
   "source": [
    "x = 10\n",
    "if x==10:\n",
    "    print('10입니다.')\n",
    "if x==20:\n",
    "    print('20입니다.')\n",
    "else:\n",
    "    print('10도 20도 아닙니다.')\n",
    "# 조건문을 마무리 할 때 끝에 사용한다.\n",
    "# else가 두번 째 if문에 대해 작동한다.\n",
    "# else는 위쪽 중 가장 가까운 if문에 대하여 작동한다."
   ]
  },
  {
   "attachments": {},
   "cell_type": "markdown",
   "metadata": {},
   "source": [
    "### 조건식이 여러가지인 경우!\n",
    "- 지금까지는 항상 x는 10 x는 20\n",
    "- 조건식 여러 개\n",
    "- 변수도 여러 개"
   ]
  },
  {
   "cell_type": "code",
   "execution_count": 58,
   "metadata": {},
   "outputs": [
    {
     "name": "stdout",
     "output_type": "stream",
     "text": [
      "10 30\n"
     ]
    }
   ],
   "source": [
    "x = 10\n",
    "y = 30\n",
    "print(x, y)"
   ]
  },
  {
   "cell_type": "code",
   "execution_count": 59,
   "metadata": {},
   "outputs": [
    {
     "name": "stdout",
     "output_type": "stream",
     "text": [
      "거짓입니다.\n"
     ]
    }
   ],
   "source": [
    "# 조건식을 2가지 이상 사용할 수 있다.\n",
    "if x == 10 and y == 20:\n",
    "    print('참입니다.')\n",
    "else:\n",
    "    print('거짓입니다.')"
   ]
  },
  {
   "cell_type": "code",
   "execution_count": 60,
   "metadata": {},
   "outputs": [
    {
     "name": "stdout",
     "output_type": "stream",
     "text": [
      "참입니다.\n"
     ]
    }
   ],
   "source": [
    "if x == 10 or y == 20:\n",
    "    print('참입니다.')\n",
    "else:\n",
    "    print('거짓입니다.')"
   ]
  },
  {
   "attachments": {},
   "cell_type": "markdown",
   "metadata": {},
   "source": [
    "- else문은 조건식을 안 쓴다.\n",
    "- else문은 if문 조건식 외에 나머지는 다 출력 개념임"
   ]
  },
  {
   "attachments": {},
   "cell_type": "markdown",
   "metadata": {},
   "source": [
    "- 복습과제를 그대로 코드를 작성하는 것 외에 조금씩 변형을 많이 해주세요!"
   ]
  }
 ],
 "metadata": {
  "kernelspec": {
   "display_name": "Python 3",
   "language": "python",
   "name": "python3"
  },
  "language_info": {
   "codemirror_mode": {
    "name": "ipython",
    "version": 3
   },
   "file_extension": ".py",
   "mimetype": "text/x-python",
   "name": "python",
   "nbconvert_exporter": "python",
   "pygments_lexer": "ipython3",
   "version": "3.11.0"
  },
  "orig_nbformat": 4
 },
 "nbformat": 4,
 "nbformat_minor": 2
}
