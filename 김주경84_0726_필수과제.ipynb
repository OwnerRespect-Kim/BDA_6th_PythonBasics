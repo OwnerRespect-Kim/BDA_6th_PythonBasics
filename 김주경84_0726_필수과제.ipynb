{
 "cells": [
  {
   "cell_type": "markdown",
   "metadata": {},
   "source": [
    "### 필수과제1\n",
    "- 대문자로만 모두 다 정답을 인식하는 코드를 작성\n",
    "- ex) python -> PYTHON"
   ]
  },
  {
   "cell_type": "code",
   "execution_count": 3,
   "metadata": {},
   "outputs": [
    {
     "name": "stdout",
     "output_type": "stream",
     "text": [
      "프로그래밍 언어인 것은 무엇입니까?: \n",
      "입력: JaVa\n",
      "출력: JAVA\n",
      "정답입니다.\n"
     ]
    }
   ],
   "source": [
    "print(\"프로그래밍 언어인 것은 무엇입니까?: \")\n",
    "language_answer = input(\"프로그래밍 언어인 것은 무엇입니까?: \")\n",
    "print('입력:', language_answer)\n",
    "language_answer = language_answer.upper()  # 입력된 문자열을 대문자로 변환\n",
    "print('출력:', language_answer)\n",
    "\n",
    "if language_answer == \"C언어\" or language_answer == \"PYTHON\" or language_answer == \"JAVA\":\n",
    "    print(\"정답입니다.\")\n",
    "else:\n",
    "    print(\"다시 도전해보세요.\")"
   ]
  },
  {
   "cell_type": "markdown",
   "metadata": {},
   "source": [
    "### 필수과제2\n",
    "- 소문자로만 모두 다 정답을 인식하는 코드를 작성\n",
    "- ex) PYTHON -> python"
   ]
  },
  {
   "cell_type": "code",
   "execution_count": 2,
   "metadata": {},
   "outputs": [
    {
     "name": "stdout",
     "output_type": "stream",
     "text": [
      "프로그래밍 언어인 것은 무엇입니까?: \n",
      "입력:  PyThOn\n",
      "출력:  python\n",
      "정답입니다.\n"
     ]
    }
   ],
   "source": [
    "print(\"프로그래밍 언어인 것은 무엇입니까?: \")\n",
    "language_answer = input(\"프로그래밍 언어인 것은 무엇입니까?: \")\n",
    "print('입력:', language_answer)\n",
    "language_answer = language_answer.lower()  # 입력된 문자열을 소문자로 변환\n",
    "print('출력:', language_answer)\n",
    "\n",
    "if language_answer == \"C언어\" or language_answer == \"python\" or language_answer == \"java\":\n",
    "    print(\"정답입니다.\")\n",
    "else:\n",
    "    print(\"다시 도전해보세요.\")"
   ]
  },
  {
   "cell_type": "markdown",
   "metadata": {},
   "source": [
    "### 필수과제3\n",
    "- input ex) Python 문법 기초 반\n",
    "- output ex) Python문법기초반"
   ]
  },
  {
   "cell_type": "code",
   "execution_count": 7,
   "metadata": {},
   "outputs": [
    {
     "name": "stdout",
     "output_type": "stream",
     "text": [
      "프로그래밍 언어인 것은 무엇입니까?: \n",
      "입력: J A V A\n",
      "출력: JAVA\n",
      "정답입니다.\n"
     ]
    }
   ],
   "source": [
    "print(\"프로그래밍 언어인 것은 무엇입니까?: \")\n",
    "language_answer = input(\"프로그래밍 언어인 것은 무엇입니까?: \")\n",
    "print('입력:', language_answer)\n",
    "language_list_C = ['C', '언', '어']\n",
    "language_list_Python = ['P', 'y', 't', 'h', 'o', 'n']\n",
    "language_list_Java = ['J', 'A', 'V', 'A']\n",
    "language_answer = language_answer.replace(' ', \"\")\n",
    "print('출력:', language_answer)\n",
    "\n",
    "if language_answer == ''.join(language_list_C) or language_answer == ''.join(language_list_Python) or language_answer == ''.join(language_list_Java):\n",
    "    print('정답입니다.')\n",
    "else:\n",
    "    print('다시 도전해보세요.')"
   ]
  },
  {
   "cell_type": "markdown",
   "metadata": {},
   "source": [
    "### 필수과제4\n",
    "for i in range(4):\n",
    "    print(q1[i])\n",
    "    ans = input()\n",
    "    if ans ==a1[i]:\n",
    "        print('정답입니다.')\n",
    "    else:\n",
    "        print('틀렸습니다.')\n",
    "    #print(a1[i])\n",
    "- 위의 코드를 추가 수정 후 다양한 정답을 만들기\n",
    "- 복수 정답을 선택했을 때 동일하게 정답이라고 나오는 코드를 만들기"
   ]
  },
  {
   "cell_type": "code",
   "execution_count": 11,
   "metadata": {},
   "outputs": [
    {
     "name": "stdout",
     "output_type": "stream",
     "text": [
      "프로그래밍 언어인 것은 무엇입니까?: \n",
      "PYTHON\n",
      "정답입니다.\n",
      "대학교 몇 학년에 해당합니까?: \n",
      "2학년\n",
      "정답입니다.\n",
      "6가지 대륙은 무엇입니까?: \n",
      "유럽\n",
      "정답입니다.\n"
     ]
    }
   ],
   "source": [
    "questions = [\n",
    "    \"프로그래밍 언어인 것은 무엇입니까?: \",\n",
    "    \"대학교 몇 학년에 해당합니까?: \",\n",
    "    \"6가지 대륙은 무엇입니까?: \",\n",
    "]\n",
    "\n",
    "answers = [\n",
    "    [\"C언어\", \"Python\", \"Java\"],\n",
    "    [\"1학년\", \"2학년\", \"3학년\", \"4학년\", \"5학년\", \"6학년\"],\n",
    "    [\"아시아\", \"유럽\", \"오세아니아\", \"아프리카\", \"남아메리카\", \"북아메리카\"],\n",
    "]\n",
    "\n",
    "# 문제와 정답 비교 함수 정의\n",
    "def check_answer(user_answer, correct_answer_list):\n",
    "    return user_answer in correct_answer_list\n",
    "\n",
    "# 퀴즈 진행\n",
    "for i in range(len(questions)):\n",
    "    print(questions[i])\n",
    "    answer = input(\"정답을 입력하세요:\").strip().upper()  # 입력된 문자열을 대문자로 변환하고 좌우 공백 제거\n",
    "    print(answer)\n",
    "    if check_answer(answer, [a.upper() for a in answers[i]]):\n",
    "        print('정답입니다.')\n",
    "    else:\n",
    "        print('틀렸습니다.')\n"
   ]
  }
 ],
 "metadata": {
  "kernelspec": {
   "display_name": "Python 3",
   "language": "python",
   "name": "python3"
  },
  "language_info": {
   "codemirror_mode": {
    "name": "ipython",
    "version": 3
   },
   "file_extension": ".py",
   "mimetype": "text/x-python",
   "name": "python",
   "nbconvert_exporter": "python",
   "pygments_lexer": "ipython3",
   "version": "3.11.4"
  },
  "orig_nbformat": 4
 },
 "nbformat": 4,
 "nbformat_minor": 2
}
