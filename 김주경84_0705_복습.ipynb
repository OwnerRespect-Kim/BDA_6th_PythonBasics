{
 "cells": [
  {
   "attachments": {},
   "cell_type": "markdown",
   "metadata": {},
   "source": [
    "### 2차원 리스트"
   ]
  },
  {
   "cell_type": "code",
   "execution_count": 3,
   "metadata": {},
   "outputs": [],
   "source": [
    "a = [[1, 2, 3], [4, 5, 6], [7, 8, 9]]\n",
    "# 위의 코드는 3 * 3 행렬로 나타낼 수 있음.\n",
    "# [[1, 2, 3]  0번째 행의 0~2번째 열을 나타낸다.\n",
    "#  [4, 5, 6]  1번째 행의 0~2번째 열을 나타낸다.\n",
    "#  [7, 8, 9]] 2번째 행의 0~2번째 열을 나타낸다."
   ]
  },
  {
   "cell_type": "code",
   "execution_count": 4,
   "metadata": {},
   "outputs": [
    {
     "name": "stdout",
     "output_type": "stream",
     "text": [
      "[[1, 2, 30], [4, 20, 6], [10, 8, 9]]\n"
     ]
    }
   ],
   "source": [
    "# 접근하는 방식\n",
    "a[0][2] = 30 # 0번째 행의 2번째 열의 값에 30을 할당한다.\n",
    "a[1][1] = 20 # 1번째 행의 1번째 열의 값에 20을 할당한다.\n",
    "a[2][0] = 10 # 2번째 행의 0번째 열의 값에 10을 할당한다.\n",
    "print(a)"
   ]
  },
  {
   "cell_type": "code",
   "execution_count": 24,
   "metadata": {},
   "outputs": [
    {
     "name": "stdout",
     "output_type": "stream",
     "text": [
      "[1, 2, 30]\n",
      "[4, 20, 6]\n",
      "[10, 8, 9]\n"
     ]
    }
   ],
   "source": [
    "# 2차원 리스트로 반복문 응용\n",
    "for i in a: # a[0][0], a[0][1],..., a[2][2]까지 출력한다.\n",
    "    print(i)"
   ]
  },
  {
   "cell_type": "code",
   "execution_count": 25,
   "metadata": {},
   "outputs": [
    {
     "name": "stdout",
     "output_type": "stream",
     "text": [
      "['국어', '영어']\n",
      "['수학', '과학']\n",
      "['사회', '역사']\n"
     ]
    }
   ],
   "source": [
    "# 2차원 리스트에는 str형 데이터를 쓸 수도 있다.\n",
    "c = [['국어', '영어'], ['수학', '과학'], ['사회', '역사']]\n",
    "for i in c: # c[0][0], c[0][1],..., c[2][1]까지 출력한다.\n",
    "    print(i)"
   ]
  },
  {
   "cell_type": "code",
   "execution_count": 26,
   "metadata": {},
   "outputs": [
    {
     "name": "stdout",
     "output_type": "stream",
     "text": [
      "[[1, 2, 30], [4, 20, 6], [10, 8, 9]] \n",
      "\n",
      "1 2 30\n",
      "4 20 6\n",
      "10 8 9\n"
     ]
    }
   ],
   "source": [
    "# 행의 개수 만큼 루프 인덱스를 사용해서 표현할 수 있다.\n",
    "print(a, '\\n')\n",
    "\n",
    "for i, j, k in a:\n",
    "    print(i, j, k)"
   ]
  },
  {
   "cell_type": "code",
   "execution_count": 27,
   "metadata": {},
   "outputs": [
    {
     "name": "stdout",
     "output_type": "stream",
     "text": [
      "[[1, 2, 30], [4, 20, 6], [10, 8, 9]] \n",
      "\n"
     ]
    },
    {
     "ename": "ValueError",
     "evalue": "not enough values to unpack (expected 4, got 3)",
     "output_type": "error",
     "traceback": [
      "\u001b[0;31m---------------------------------------------------------------------------\u001b[0m",
      "\u001b[0;31mValueError\u001b[0m                                Traceback (most recent call last)",
      "Cell \u001b[0;32mIn[27], line 4\u001b[0m\n\u001b[1;32m      1\u001b[0m \u001b[39m# 만약, 루프 인덱스의 개수가 맞지 않다면 에러가 발생한다.\u001b[39;00m\n\u001b[1;32m      2\u001b[0m \u001b[39mprint\u001b[39m(a, \u001b[39m'\u001b[39m\u001b[39m\\n\u001b[39;00m\u001b[39m'\u001b[39m)\n\u001b[0;32m----> 4\u001b[0m \u001b[39mfor\u001b[39;00m i, j, k, l \u001b[39min\u001b[39;00m a:\n\u001b[1;32m      5\u001b[0m     \u001b[39mprint\u001b[39m(i, j, k, l)\n",
      "\u001b[0;31mValueError\u001b[0m: not enough values to unpack (expected 4, got 3)"
     ]
    }
   ],
   "source": [
    "# 만약, 루프 인덱스의 개수가 맞지 않다면 에러가 발생한다.\n",
    "print(a, '\\n')\n",
    "\n",
    "for i, j, k, l in a:\n",
    "    print(i, j, k, l)"
   ]
  },
  {
   "cell_type": "code",
   "execution_count": null,
   "metadata": {},
   "outputs": [
    {
     "name": "stdout",
     "output_type": "stream",
     "text": [
      "[[1, 2, 30], [4, 20, 6], [10, 8, 9]] \n",
      "\n",
      "1 2 30 \n",
      "4 20 6 \n",
      "10 8 9 \n"
     ]
    }
   ],
   "source": [
    "# 반복문을 2번 이용해서 2차원 리스트로 출력해보자!\n",
    "print(a, '\\n')\n",
    "\n",
    "for i in a: # i는 2차원 리스트 a의 행 부분이다.\n",
    "    for j in i: # j는 i행의 열 부분이다.\n",
    "        print(j, end = ' ') # 0번째 행의 0번째 열부터 출력이 된다.\n",
    "                            # 0번째 행의 2번째 열까지 출력이 된다.\n",
    "                            # 다음은 1번째 행으로 넘어가고 위가 반복된다.\n",
    "    print()"
   ]
  },
  {
   "cell_type": "code",
   "execution_count": 14,
   "metadata": {},
   "outputs": [
    {
     "name": "stdout",
     "output_type": "stream",
     "text": [
      "[[1, 2, 30], [4, 20, 6], [10, 8, 9]] \n",
      "\n",
      "1 [1, 2, 30] 번째 행 1 번째 열의 값입니다.\n",
      "2 [1, 2, 30] 번째 행 2 번째 열의 값입니다.\n",
      "30 [1, 2, 30] 번째 행 30 번째 열의 값입니다.\n",
      "4 [4, 20, 6] 번째 행 4 번째 열의 값입니다.\n",
      "20 [4, 20, 6] 번째 행 20 번째 열의 값입니다.\n",
      "6 [4, 20, 6] 번째 행 6 번째 열의 값입니다.\n",
      "10 [10, 8, 9] 번째 행 10 번째 열의 값입니다.\n",
      "8 [10, 8, 9] 번째 행 8 번째 열의 값입니다.\n",
      "9 [10, 8, 9] 번째 행 9 번째 열의 값입니다.\n"
     ]
    }
   ],
   "source": [
    "# 반복문을 해체시켜보자\n",
    "print(a, '\\n')\n",
    "\n",
    "for i in a: # i는 2차원 리스트 a의 행 부분이다.\n",
    "    for j in i: # j는 i행의 열 부분이다.\n",
    "        print(j, end = ' ') # 0번째 행의 0번째 열부터 출력이 된다.\n",
    "                            # 0번째 행의 2번째 열까지 출력이 된다.\n",
    "                            # 다음은 1번째 행으로 넘어가고 위가 반복된다.\n",
    "        print(i, '번째 행', j, '번째 열의 값입니다.')"
   ]
  },
  {
   "cell_type": "code",
   "execution_count": null,
   "metadata": {},
   "outputs": [
    {
     "name": "stdout",
     "output_type": "stream",
     "text": [
      "[[1, 2, 30], [4, 20, 6], [10, 8, 9]]\n",
      "3 \n",
      "\n",
      "1 2 30 \n",
      "4 20 6 \n",
      "10 8 9 \n"
     ]
    }
   ],
   "source": [
    "# for range 가지고 m 다 불러오기\n",
    "print(a)\n",
    "print(len(a), '\\n') # 길이는 3\n",
    "\n",
    "for i in range(len(a)): # 2차원 리스트의 0번째부터 2번째의 행까지 반복\n",
    "    for j in range(len(a[i])): # 0번째 행은 3개의 열을 가지고 있음\n",
    "                               # 따라서 0번째부터 2번째의 열까지 반복\n",
    "        print(a[i][j], end = ' ')\n",
    "    print()"
   ]
  },
  {
   "cell_type": "code",
   "execution_count": null,
   "metadata": {},
   "outputs": [
    {
     "name": "stdout",
     "output_type": "stream",
     "text": [
      "[1, 2, 30]\n",
      "[4, 20, 6]\n",
      "[10, 8, 9]\n"
     ]
    }
   ],
   "source": [
    "print(a[0]) # 0번째 행의 열을 출력한다.\n",
    "print(a[1]) # 1번째 행의 열을 출력한다.\n",
    "print(a[2]) # 2번째 행의 열을 출력한다."
   ]
  },
  {
   "cell_type": "code",
   "execution_count": null,
   "metadata": {},
   "outputs": [
    {
     "name": "stdout",
     "output_type": "stream",
     "text": [
      "3\n",
      "3\n"
     ]
    }
   ],
   "source": [
    "print(len(a)) # 행의 개수\n",
    "print(len(a[0])) # 0번째 행의 열 개수\n",
    "# 컴퓨터는 0번째부터 카운트한다는 사실은 중요하다.\n",
    "# 그리고 len은 요소의 개수만큼 나온다."
   ]
  },
  {
   "cell_type": "code",
   "execution_count": null,
   "metadata": {},
   "outputs": [
    {
     "name": "stdout",
     "output_type": "stream",
     "text": [
      "1 2 30 \n",
      "4 20 6 \n",
      "10 8 9 \n"
     ]
    }
   ],
   "source": [
    "# while 문을 이용해서 만들어보기\n",
    "# for문은 변수 선언과 동시에 초기화가 이루어진다.\n",
    "# 또한, for문은 증감도 자동으로 이루어진다.\n",
    "# while 문은 이것을 입력해줘야한다.\n",
    "\n",
    "i = 0\n",
    "while i < len(a): # for i in range(len(a)): <- 이 부분과 같다.\n",
    "    j = 0\n",
    "    while j < len(a[i]): # for j in range(len(a[i])): <- 이 부분과 같다.\n",
    "        print(a[i][j], end = ' ')\n",
    "        j += 1 # 열의 증감식을 입력해줬다.\n",
    "    print()\n",
    "    i += 1 # 행의 증감식을 입력해줬다."
   ]
  },
  {
   "cell_type": "code",
   "execution_count": 28,
   "metadata": {},
   "outputs": [
    {
     "name": "stdout",
     "output_type": "stream",
     "text": [
      "[1, 2, 3, 4, 5, 6, 7, 8, 9, 10]\n"
     ]
    }
   ],
   "source": [
    "# 반복문으로 리스트를 만들기\n",
    "# 1차원 리스트 1 ~ 10까지 담겨있는 1차원 리스트 반복문 제작\n",
    "n = []\n",
    "for i in range(1, 11):\n",
    "    n.append(i)\n",
    "    \n",
    "print(n)"
   ]
  },
  {
   "cell_type": "code",
   "execution_count": 30,
   "metadata": {},
   "outputs": [
    {
     "name": "stdout",
     "output_type": "stream",
     "text": [
      "[[0, 1, 2], [0, 1, 2], [0, 1, 2], [0, 1, 2]]\n"
     ]
    }
   ],
   "source": [
    "# 2차원 리스트 반복문으로 만들기\n",
    "m = []\n",
    "for i in range(4): # 4개의 행 (0 ~ 3)\n",
    "    o = []\n",
    "    for j in range(3): # 3개의 열\n",
    "        o.append(j)\n",
    "    m.append(o)    \n",
    "\n",
    "print(m)"
   ]
  }
 ],
 "metadata": {
  "kernelspec": {
   "display_name": "Python 3",
   "language": "python",
   "name": "python3"
  },
  "language_info": {
   "codemirror_mode": {
    "name": "ipython",
    "version": 3
   },
   "file_extension": ".py",
   "mimetype": "text/x-python",
   "name": "python",
   "nbconvert_exporter": "python",
   "pygments_lexer": "ipython3",
   "version": "3.11.4"
  },
  "orig_nbformat": 4
 },
 "nbformat": 4,
 "nbformat_minor": 2
}
