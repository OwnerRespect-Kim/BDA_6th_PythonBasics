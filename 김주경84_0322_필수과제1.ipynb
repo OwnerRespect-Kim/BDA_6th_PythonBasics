{
 "cells": [
  {
   "attachments": {},
   "cell_type": "markdown",
   "metadata": {},
   "source": [
    "### 필수과제 1\n",
    "- 위에 배운 인덱스 응용을 리스트가 아닌 튜플에도 동일하게 적용하기\n",
    "- 분명 에러가 나는 것이 있다면 왜 에러가 나는지 확인해보기!\n",
    "- 리스트와 튜플은 두 개가 다른 성질의 주머니라서 문제가 될 수 있으니 확인해 주세요!"
   ]
  },
  {
   "cell_type": "code",
   "execution_count": 47,
   "metadata": {},
   "outputs": [],
   "source": [
    "a = (1, 2, 3, 4, 5)\n",
    "# 튜플의 길이는 5이다.\n",
    "# 여러 번 말하는 것 같지만, 컴퓨터는 순서를 0번째부터 카운트한다.\n",
    "# 즉 위의 코드는 튜플이라는 주머니?에 0번째부터 4번째까지 각 값을 할당한 것이다."
   ]
  },
  {
   "cell_type": "code",
   "execution_count": 46,
   "metadata": {},
   "outputs": [
    {
     "ename": "TypeError",
     "evalue": "'tuple' object is not callable",
     "output_type": "error",
     "traceback": [
      "\u001b[1;31m---------------------------------------------------------------------------\u001b[0m",
      "\u001b[1;31mTypeError\u001b[0m                                 Traceback (most recent call last)",
      "Cell \u001b[1;32mIn[46], line 1\u001b[0m\n\u001b[1;32m----> 1\u001b[0m a(\u001b[39m0\u001b[39;49m)\n\u001b[0;32m      2\u001b[0m \u001b[39m# 객체에 대한 순서를 확인하기 위해서는 대괄호를 사용하자.\u001b[39;00m\n",
      "\u001b[1;31mTypeError\u001b[0m: 'tuple' object is not callable"
     ]
    }
   ],
   "source": [
    "a(0)\n",
    "# 객체에 대한 순서를 확인하기 위해서는 대괄호를 사용하자."
   ]
  },
  {
   "cell_type": "code",
   "execution_count": 48,
   "metadata": {},
   "outputs": [
    {
     "data": {
      "text/plain": [
       "1"
      ]
     },
     "execution_count": 48,
     "metadata": {},
     "output_type": "execute_result"
    }
   ],
   "source": [
    "a[0]\n",
    "# 다시 말한다. 0번째부터 컴퓨터는 카운트한다."
   ]
  },
  {
   "cell_type": "code",
   "execution_count": 49,
   "metadata": {},
   "outputs": [
    {
     "name": "stdout",
     "output_type": "stream",
     "text": [
      "5 4\n"
     ]
    }
   ],
   "source": [
    "print(a[-1], a[-2])\n",
    "# 배운 것을 활용해보자 print를 사용하여 -1과 -2를 하면 맨 뒤부터 순서 기준이 잡힌다는 것을 알 수 있다."
   ]
  },
  {
   "cell_type": "code",
   "execution_count": 50,
   "metadata": {},
   "outputs": [
    {
     "ename": "IndexError",
     "evalue": "tuple index out of range",
     "output_type": "error",
     "traceback": [
      "\u001b[1;31m---------------------------------------------------------------------------\u001b[0m",
      "\u001b[1;31mIndexError\u001b[0m                                Traceback (most recent call last)",
      "Cell \u001b[1;32mIn[50], line 1\u001b[0m\n\u001b[1;32m----> 1\u001b[0m a[\u001b[39m5\u001b[39;49m]\n\u001b[0;32m      2\u001b[0m \u001b[39m# 길이를 초과해서 오류가 발생했다.\u001b[39;00m\n\u001b[0;32m      3\u001b[0m \u001b[39m# 또 다시 말하지만 컴퓨터는 0번째부터 카운트한다.\u001b[39;00m\n",
      "\u001b[1;31mIndexError\u001b[0m: tuple index out of range"
     ]
    }
   ],
   "source": [
    "a[5]\n",
    "# 길이를 초과해서 오류가 발생했다.\n",
    "# 또 다시 말하지만 컴퓨터는 0번째부터 카운트한다."
   ]
  },
  {
   "attachments": {},
   "cell_type": "markdown",
   "metadata": {},
   "source": [
    "## len 함수를 사용해보자"
   ]
  },
  {
   "cell_type": "code",
   "execution_count": 51,
   "metadata": {},
   "outputs": [
    {
     "data": {
      "text/plain": [
       "(1, 2, 3, 4, 5)"
      ]
     },
     "execution_count": 51,
     "metadata": {},
     "output_type": "execute_result"
    }
   ],
   "source": [
    "a"
   ]
  },
  {
   "cell_type": "code",
   "execution_count": 52,
   "metadata": {},
   "outputs": [
    {
     "data": {
      "text/plain": [
       "5"
      ]
     },
     "execution_count": 52,
     "metadata": {},
     "output_type": "execute_result"
    }
   ],
   "source": [
    "len(a)\n",
    "# len은 길이를 세는 것이다.\n",
    "# 0번째부터 4번째까지 카운트를 하면 5번 된다.\n",
    "# 헷갈리지 말자!"
   ]
  },
  {
   "cell_type": "code",
   "execution_count": 53,
   "metadata": {},
   "outputs": [
    {
     "data": {
      "text/plain": [
       "5"
      ]
     },
     "execution_count": 53,
     "metadata": {},
     "output_type": "execute_result"
    }
   ],
   "source": [
    "a[len(a)-1]\n",
    "# 마지막 인덱스는 4라서 len(a) 5니까 -1을 하면 된다.\n",
    "# len(a) = 5, 즉 a[5-1] = a[4]이다.\n",
    "# 위의 len(a)는 단순히 길이를 나타내는 5이고\n",
    "# 이 줄의 a[len(a)-1]은 해당하는 인덱스 번째의 저장되어 있는 값을 출력하는 것이다.\n",
    "# 괄호를 꼼꼼히 보자!"
   ]
  },
  {
   "cell_type": "code",
   "execution_count": 54,
   "metadata": {},
   "outputs": [
    {
     "ename": "IndexError",
     "evalue": "tuple index out of range",
     "output_type": "error",
     "traceback": [
      "\u001b[1;31m---------------------------------------------------------------------------\u001b[0m",
      "\u001b[1;31mIndexError\u001b[0m                                Traceback (most recent call last)",
      "Cell \u001b[1;32mIn[54], line 1\u001b[0m\n\u001b[1;32m----> 1\u001b[0m a[\u001b[39mlen\u001b[39;49m(a)] \u001b[39m# a[5]랑 똑같기에 길이를 벗어난 값을 입력한 것이랑 똑같다.\u001b[39;00m\n",
      "\u001b[1;31mIndexError\u001b[0m: tuple index out of range"
     ]
    }
   ],
   "source": [
    "a[len(a)] # a[5]랑 똑같기에 길이를 벗어난 값을 입력한 것이랑 똑같다."
   ]
  },
  {
   "attachments": {},
   "cell_type": "markdown",
   "metadata": {},
   "source": [
    "## 원하는 번째에 값을 할당하여 튜플의 내용물을 바꾸어 보자."
   ]
  },
  {
   "cell_type": "code",
   "execution_count": 55,
   "metadata": {},
   "outputs": [
    {
     "data": {
      "text/plain": [
       "(1, 2, 3, 4, 5)"
      ]
     },
     "execution_count": 55,
     "metadata": {},
     "output_type": "execute_result"
    }
   ],
   "source": [
    "a"
   ]
  },
  {
   "cell_type": "code",
   "execution_count": 56,
   "metadata": {},
   "outputs": [
    {
     "ename": "TypeError",
     "evalue": "'tuple' object does not support item assignment",
     "output_type": "error",
     "traceback": [
      "\u001b[1;31m---------------------------------------------------------------------------\u001b[0m",
      "\u001b[1;31mTypeError\u001b[0m                                 Traceback (most recent call last)",
      "Cell \u001b[1;32mIn[56], line 1\u001b[0m\n\u001b[1;32m----> 1\u001b[0m a[\u001b[39m3\u001b[39;49m] \u001b[39m=\u001b[39m \u001b[39m7\u001b[39m\n\u001b[0;32m      2\u001b[0m \u001b[39m# 왜 오류가 나올까?\u001b[39;00m\n\u001b[0;32m      3\u001b[0m \u001b[39m# 튜플은 리스트와 달리 수정이 불가능한 자료형이다.\u001b[39;00m\n\u001b[0;32m      4\u001b[0m \u001b[39m# 그렇다면 어떻게 해야할까?\u001b[39;00m\n",
      "\u001b[1;31mTypeError\u001b[0m: 'tuple' object does not support item assignment"
     ]
    }
   ],
   "source": [
    "a[3] = 7\n",
    "# 왜 오류가 나올까?\n",
    "# 튜플은 리스트와 달리 수정이 불가능한 자료형이다.\n",
    "# 그렇다면 어떻게 해야할까?"
   ]
  },
  {
   "cell_type": "code",
   "execution_count": 57,
   "metadata": {},
   "outputs": [
    {
     "data": {
      "text/plain": [
       "(1, 2, 3, 7)"
      ]
     },
     "execution_count": 57,
     "metadata": {},
     "output_type": "execute_result"
    }
   ],
   "source": [
    "# 슬라이스를 활용해보자.\n",
    "a = a[:3] + (7, )\n",
    "a\n",
    "# a[:3]은 a[0]부터 ~ a[2]까지의 값을 출력한다.\n",
    "# +를 이용하여 슬라이스를 이어 붙인다.\n",
    "# a[3]에 7이 대입되었다.\n",
    "# 그런데 a[4]의 값이 사라졌다. 어떻게 해야할까?"
   ]
  },
  {
   "cell_type": "code",
   "execution_count": 58,
   "metadata": {},
   "outputs": [
    {
     "data": {
      "text/plain": [
       "(1, 2, 3, 7, 5)"
      ]
     },
     "execution_count": 58,
     "metadata": {},
     "output_type": "execute_result"
    }
   ],
   "source": [
    "a = a[:4] + (5,)\n",
    "a\n",
    "# 이런식으로 다시 붙여주면 된다.\n"
   ]
  },
  {
   "attachments": {},
   "cell_type": "markdown",
   "metadata": {},
   "source": [
    "## 인덱스를 삭제해보자"
   ]
  },
  {
   "cell_type": "code",
   "execution_count": 59,
   "metadata": {},
   "outputs": [
    {
     "ename": "TypeError",
     "evalue": "'tuple' object doesn't support item deletion",
     "output_type": "error",
     "traceback": [
      "\u001b[1;31m---------------------------------------------------------------------------\u001b[0m",
      "\u001b[1;31mTypeError\u001b[0m                                 Traceback (most recent call last)",
      "Cell \u001b[1;32mIn[59], line 1\u001b[0m\n\u001b[1;32m----> 1\u001b[0m \u001b[39mdel\u001b[39;00m a[\u001b[39m0\u001b[39;49m]\n\u001b[0;32m      2\u001b[0m \u001b[39m# 앞서 말했다시피 튜플은 리스트와 달리 수정이 불가능한 자료형이다.\u001b[39;00m\n\u001b[0;32m      3\u001b[0m \u001b[39m# 그렇다면 어떻게 해야할까? 슬라이스를 활용해보자.\u001b[39;00m\n",
      "\u001b[1;31mTypeError\u001b[0m: 'tuple' object doesn't support item deletion"
     ]
    }
   ],
   "source": [
    "del a[0]\n",
    "# 앞서 말했다시피 튜플은 리스트와 달리 수정이 불가능한 자료형이다.\n",
    "# 그렇다면 어떻게 해야할까? 슬라이스를 활용해보자."
   ]
  },
  {
   "cell_type": "code",
   "execution_count": 60,
   "metadata": {},
   "outputs": [
    {
     "data": {
      "text/plain": [
       "(1, 2, 3, 7, 5)"
      ]
     },
     "execution_count": 60,
     "metadata": {},
     "output_type": "execute_result"
    }
   ],
   "source": [
    "# a[0]번째의 인덱스를 삭제해보자.\n",
    "a"
   ]
  },
  {
   "cell_type": "code",
   "execution_count": 61,
   "metadata": {},
   "outputs": [
    {
     "data": {
      "text/plain": [
       "(2, 3, 7, 5)"
      ]
     },
     "execution_count": 61,
     "metadata": {},
     "output_type": "execute_result"
    }
   ],
   "source": [
    "a = a[1:5]\n",
    "a\n",
    "# 슬라이스를 사용해서 a[0]번째의 인덱스를 삭제하고 순서가 앞당겨졌다."
   ]
  },
  {
   "cell_type": "code",
   "execution_count": 66,
   "metadata": {},
   "outputs": [
    {
     "ename": "SyntaxError",
     "evalue": "invalid syntax (4147634587.py, line 2)",
     "output_type": "error",
     "traceback": [
      "\u001b[1;36m  Cell \u001b[1;32mIn[66], line 2\u001b[1;36m\u001b[0m\n\u001b[1;33m    a = (9, ) + [1:4]\u001b[0m\n\u001b[1;37m                  ^\u001b[0m\n\u001b[1;31mSyntaxError\u001b[0m\u001b[1;31m:\u001b[0m invalid syntax\n"
     ]
    }
   ],
   "source": [
    "# 새로운 0번째를 추가하고 이번에는 맨 뒤의 인덱스를 삭제해보자.\n",
    "a = (9, ) + [1:4]\n",
    "a\n",
    "# 왜 오류가 발생하는걸까?\n",
    "# 슬라이스를 사용하면 기존의 튜플을 일부 추출하여 값을 변경할 수 있지만 첫 번째 요소를 변경할 수 없다."
   ]
  },
  {
   "cell_type": "code",
   "execution_count": 68,
   "metadata": {},
   "outputs": [
    {
     "data": {
      "text/plain": [
       "(9, 3, 7)"
      ]
     },
     "execution_count": 68,
     "metadata": {},
     "output_type": "execute_result"
    }
   ],
   "source": [
    "# 따라서 새로운 튜플에 대입해야한다.\n",
    "remaster_a = (9, ) + a[1:3]\n",
    "remaster_a\n",
    "# 기존의 a와 달리 remaster_a에서는 0번째에 9가 할당되고 3번째의 값이 삭제 되었다.\n",
    "# 또또 다시 말하지만 컴퓨터는 0부터 카운트한다."
   ]
  },
  {
   "attachments": {},
   "cell_type": "markdown",
   "metadata": {},
   "source": [
    "## 문자열과 인덱스_증가폭_카운트 기능 테스트"
   ]
  },
  {
   "cell_type": "code",
   "execution_count": 69,
   "metadata": {},
   "outputs": [],
   "source": [
    "remaster_a = ('김', '주', '경', 8, 4, '필수과제 1')\n",
    "# 마지막으로 문자열과 인덱스_증가폭_카운트 기능을 테스트해보자."
   ]
  },
  {
   "cell_type": "code",
   "execution_count": 70,
   "metadata": {},
   "outputs": [
    {
     "data": {
      "text/plain": [
       "('김', '주', '경', 8, 4, '필수과제 1')"
      ]
     },
     "execution_count": 70,
     "metadata": {},
     "output_type": "execute_result"
    }
   ],
   "source": [
    "remaster_a[0:6:1]"
   ]
  },
  {
   "cell_type": "code",
   "execution_count": 72,
   "metadata": {},
   "outputs": [
    {
     "data": {
      "text/plain": [
       "('김', '경', 4)"
      ]
     },
     "execution_count": 72,
     "metadata": {},
     "output_type": "execute_result"
    }
   ],
   "source": [
    "remaster_a[0:-1:2]\n",
    "# 0번째를 기준으로 시작하여 2의 증가폭 번째를 카운트하고 맨 뒤에서 -1번째까지 범위가 지정되었다.\n"
   ]
  },
  {
   "cell_type": "code",
   "execution_count": 73,
   "metadata": {},
   "outputs": [],
   "source": [
    "remaster_a = '대학원에 가고 싶어요'"
   ]
  },
  {
   "cell_type": "code",
   "execution_count": 75,
   "metadata": {},
   "outputs": [
    {
     "data": {
      "text/plain": [
       "'대학원에 가'"
      ]
     },
     "execution_count": 75,
     "metadata": {},
     "output_type": "execute_result"
    }
   ],
   "source": [
    "remaster_a[:6:]\n",
    "# 대학원에 가라니 너무하다... (갈 생각이지만)\n",
    "# 보시다시피 공백도 인덱스의 순서에 카운팅이 된다."
   ]
  }
 ],
 "metadata": {
  "kernelspec": {
   "display_name": "Python 3",
   "language": "python",
   "name": "python3"
  },
  "language_info": {
   "codemirror_mode": {
    "name": "ipython",
    "version": 3
   },
   "file_extension": ".py",
   "mimetype": "text/x-python",
   "name": "python",
   "nbconvert_exporter": "python",
   "pygments_lexer": "ipython3",
   "version": "3.11.0"
  },
  "orig_nbformat": 4
 },
 "nbformat": 4,
 "nbformat_minor": 2
}
