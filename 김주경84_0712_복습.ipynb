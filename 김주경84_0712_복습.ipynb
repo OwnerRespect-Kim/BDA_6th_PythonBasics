{
 "cells": [
  {
   "cell_type": "markdown",
   "metadata": {},
   "source": [
    "### 문자열 응용 - .replace"
   ]
  },
  {
   "cell_type": "code",
   "execution_count": 4,
   "metadata": {},
   "outputs": [
    {
     "data": {
      "text/plain": [
       "'hello kitty'"
      ]
     },
     "execution_count": 4,
     "metadata": {},
     "output_type": "execute_result"
    }
   ],
   "source": [
    "# replace\n",
    "# 문자열을 대체하는 함수\n",
    "# 문자열 안에서 특정 문자를 새로운 문자로 대체하는 기능을 가지고 있음.\n",
    "# ex) '현재 문자열'.replace(현재 문자열에서 바꿀 문자, 바꿀 자리에 들어갈 새로운 문자, 변경할 갯수)\n",
    "\n",
    "replace_function = 'hello python' # hello python이라는 문자열을 n에 할당\n",
    "replace_function.replace('python', 'kitty') # python이 kitty로 바뀌어 hello kitty를 출력"
   ]
  },
  {
   "cell_type": "code",
   "execution_count": 5,
   "metadata": {},
   "outputs": [
    {
     "data": {
      "text/plain": [
       "'hellow python'"
      ]
     },
     "execution_count": 5,
     "metadata": {},
     "output_type": "execute_result"
    }
   ],
   "source": [
    "replace_function = 'hello python'\n",
    "replace_function.replace('o', 'ow', 1)\n",
    "# 개수를 지정하면 왼쪽부터 지정한 개수만큼 대체하게 된다."
   ]
  },
  {
   "cell_type": "code",
   "execution_count": 6,
   "metadata": {},
   "outputs": [
    {
     "data": {
      "text/plain": [
       "'hellow pythown'"
      ]
     },
     "execution_count": 6,
     "metadata": {},
     "output_type": "execute_result"
    }
   ],
   "source": [
    "replace_function = 'hello python'\n",
    "replace_function.replace('o', 'ow')\n",
    "# 개수를 지정하지 않으면 해당하는 문자는 다 대체된다."
   ]
  },
  {
   "cell_type": "markdown",
   "metadata": {},
   "source": [
    "### 문자열 응용 - .split"
   ]
  },
  {
   "cell_type": "code",
   "execution_count": 7,
   "metadata": {},
   "outputs": [],
   "source": [
    "# split\n",
    "# 문자열을 나누어주는 함수\n",
    "# 문자열 나누어서 리스트로 넣어준다.\n",
    "# 아래와 같은 형태로 입력함\n",
    "\n",
    "# 문자열.split()\n",
    "# 문자열.split('구분자')\n",
    "# 문자열.split('구분자', 구분 횟수)"
   ]
  },
  {
   "cell_type": "code",
   "execution_count": 8,
   "metadata": {},
   "outputs": [
    {
     "name": "stdout",
     "output_type": "stream",
     "text": [
      "['ab', 'cd', 'ef', 'g']\n"
     ]
    }
   ],
   "source": [
    "# 문자열.split()\n",
    "# 이 경우 분할요소가 공백으로 기준되어 있으며 횟수를 따로 지정하지 않으면 공백 조건을 만족하면 다 분할함.\n",
    "split_function = 'ab cd ef g'.split()\n",
    "print(split_function)"
   ]
  },
  {
   "cell_type": "code",
   "execution_count": 9,
   "metadata": {},
   "outputs": [
    {
     "name": "stdout",
     "output_type": "stream",
     "text": [
      "['one', 'two or three', 'four or five']\n"
     ]
    }
   ],
   "source": [
    "# 문자열.split('구분자')\n",
    "split_function = 'one/andtwo or three/andfour or five'.split('/and')\n",
    "print(split_function)"
   ]
  },
  {
   "cell_type": "code",
   "execution_count": 10,
   "metadata": {},
   "outputs": [
    {
     "name": "stdout",
     "output_type": "stream",
     "text": [
      "['I', 'II', 'III', 'IV,V,VI,VII']\n"
     ]
    }
   ],
   "source": [
    "# 문자열.split('구분자', 구분 횟수)\n",
    "split_function = 'I,II,III,IV,V,VI,VII'.split(',', 3)\n",
    "print(split_function)"
   ]
  },
  {
   "cell_type": "markdown",
   "metadata": {},
   "source": [
    "### 문자열 응용 - .join"
   ]
  },
  {
   "cell_type": "code",
   "execution_count": 11,
   "metadata": {},
   "outputs": [],
   "source": [
    "# join\n",
    "# 문자열을 연결해주는 함수\n",
    "# 리스트가 안에 들어가야 한다.\n",
    "\n",
    "# ''.join(리스트)\n",
    "# '구분자'.join(리스트)"
   ]
  },
  {
   "cell_type": "code",
   "execution_count": 12,
   "metadata": {},
   "outputs": [
    {
     "name": "stdout",
     "output_type": "stream",
     "text": [
      "1234\n"
     ]
    }
   ],
   "source": [
    "# ''.join(리스트)\n",
    "join_function = ''.join(['1', '2', '3', '4'])\n",
    "print(join_function)"
   ]
  },
  {
   "cell_type": "code",
   "execution_count": 13,
   "metadata": {},
   "outputs": [
    {
     "name": "stdout",
     "output_type": "stream",
     "text": [
      "one and two and three and four\n"
     ]
    }
   ],
   "source": [
    "# '구분자'.join(리스트)\n",
    "join_function = ' and '.join(['one', 'two', 'three', 'four'])\n",
    "print(join_function)"
   ]
  },
  {
   "cell_type": "markdown",
   "metadata": {},
   "source": [
    "### 문자열 응용 - .upper & .lower"
   ]
  },
  {
   "cell_type": "code",
   "execution_count": 14,
   "metadata": {},
   "outputs": [
    {
     "name": "stdout",
     "output_type": "stream",
     "text": [
      "BIG DATA ANALYST\n",
      "big data analyst\n"
     ]
    }
   ],
   "source": [
    "# upper\n",
    "# 문자열을 대문자로 바꿔주는 함수\n",
    "# '문자열'.upper()\n",
    "\n",
    "# lower\n",
    "# 문자열을 소문자로 바꿔주는 함수\n",
    "# '문자열'.lower()\n",
    "\n",
    "upper_function = 'big data analyst'.upper()\n",
    "print(upper_function)\n",
    "\n",
    "lower_function = upper_function.lower() #BIG DATA ANALYST\n",
    "print(lower_function)"
   ]
  },
  {
   "cell_type": "markdown",
   "metadata": {},
   "source": [
    "### 문자열 응용 - .strip() & .lstrip() & .rstrip()"
   ]
  },
  {
   "cell_type": "code",
   "execution_count": 15,
   "metadata": {},
   "outputs": [
    {
     "data": {
      "text/plain": [
       "'1234'"
      ]
     },
     "execution_count": 15,
     "metadata": {},
     "output_type": "execute_result"
    }
   ],
   "source": [
    "# strip\n",
    "# lstrip은 왼쪽 구분자만 제거\n",
    "# rstrip은 오른쪽 구분자만 제거\n",
    "# 해당하는 문자의 구분자를 제거하는 함수\n",
    "# '문자열'.strip\n",
    "\n",
    "'aaa1234aaa'.strip('a')"
   ]
  },
  {
   "cell_type": "code",
   "execution_count": 16,
   "metadata": {},
   "outputs": [
    {
     "data": {
      "text/plain": [
       "'1234bbb'"
      ]
     },
     "execution_count": 16,
     "metadata": {},
     "output_type": "execute_result"
    }
   ],
   "source": [
    "# '문자열'.lstrip\n",
    "'bbb1234bbb'.lstrip('b')"
   ]
  },
  {
   "cell_type": "code",
   "execution_count": 17,
   "metadata": {},
   "outputs": [
    {
     "data": {
      "text/plain": [
       "'ccc1234'"
      ]
     },
     "execution_count": 17,
     "metadata": {},
     "output_type": "execute_result"
    }
   ],
   "source": [
    "# '문자열'.rstrip\n",
    "'ccc1234ccc'.rstrip('c')"
   ]
  },
  {
   "cell_type": "markdown",
   "metadata": {},
   "source": [
    "### import string"
   ]
  },
  {
   "cell_type": "code",
   "execution_count": 18,
   "metadata": {},
   "outputs": [],
   "source": [
    "import string\n",
    "# 문자열 조작 작업을 수행할 수 있게 해준다."
   ]
  },
  {
   "cell_type": "code",
   "execution_count": 19,
   "metadata": {},
   "outputs": [
    {
     "data": {
      "text/plain": [
       "'!\"#$%&\\'()*+,-./:;<=>?@[\\\\]^_`{|}~'"
      ]
     },
     "execution_count": 19,
     "metadata": {},
     "output_type": "execute_result"
    }
   ],
   "source": [
    "string.punctuation\n",
    "# 일반적으로 사용되는 모든 구두점 기호로 구성된 문자열 상수"
   ]
  },
  {
   "cell_type": "code",
   "execution_count": 20,
   "metadata": {},
   "outputs": [
    {
     "data": {
      "text/plain": [
       "'python'"
      ]
     },
     "execution_count": 20,
     "metadata": {},
     "output_type": "execute_result"
    }
   ],
   "source": [
    "'!@#python@#'.strip(string.punctuation)\n",
    "# 이 경우 양쪽 끝이 구두점 기호로 되어 있기에 'python'만 출력이 된다."
   ]
  },
  {
   "cell_type": "code",
   "execution_count": 21,
   "metadata": {},
   "outputs": [
    {
     "data": {
      "text/plain": [
       "'1!@#python'"
      ]
     },
     "execution_count": 21,
     "metadata": {},
     "output_type": "execute_result"
    }
   ],
   "source": [
    "'1!@#python@#'.strip(string.punctuation)\n",
    "# 그러나 이 경우 왼쪽 끝이 구두점 기호가 아니기에 1 뒤에 있는 !@#이 제거되지 않고\n",
    "# '1!@#python'이 출력된다."
   ]
  },
  {
   "cell_type": "markdown",
   "metadata": {},
   "source": [
    "### 문자열 응용 - 정렬(.center & .ljust & .rjust)"
   ]
  },
  {
   "cell_type": "code",
   "execution_count": 22,
   "metadata": {},
   "outputs": [
    {
     "data": {
      "text/plain": [
       "'        sort       '"
      ]
     },
     "execution_count": 22,
     "metadata": {},
     "output_type": "execute_result"
    }
   ],
   "source": [
    "'sort'.center(19)\n",
    "# 위 코드의 의미는 'sort'문자열을 가운데에 둔 다음\n",
    "# 'sort'문자열을 포함해서 21 사이즈로 만들고\n",
    "# 'sort' 문자열을 제외하고 나머지 부분을 공백으로 채워준다.\n",
    "# 만약 문자열의 글자가 짝수인데 크기가 홀수라면\n",
    "# 왼쪽부터 칸이 늘어난다.\n",
    "# 이 경우에는 왼쪽의 공백 8칸 / 'sort' 문자열 4칸 / 오른쪽의 공백 7칸이 된다."
   ]
  },
  {
   "cell_type": "code",
   "execution_count": 23,
   "metadata": {},
   "outputs": [
    {
     "data": {
      "text/plain": [
       "'sort'"
      ]
     },
     "execution_count": 23,
     "metadata": {},
     "output_type": "execute_result"
    }
   ],
   "source": [
    "# 만약 구분자의 크기가 문자열의 크기보다 작다면\n",
    "# 오류는 발생하지 않고 그냥 'sort'만 출력된다.\n",
    "'sort'.center(3)"
   ]
  },
  {
   "cell_type": "code",
   "execution_count": 24,
   "metadata": {},
   "outputs": [
    {
     "data": {
      "text/plain": [
       "'sort      '"
      ]
     },
     "execution_count": 24,
     "metadata": {},
     "output_type": "execute_result"
    }
   ],
   "source": [
    "'sort'.ljust(10)\n",
    "# 위 코드의 의미는 'sort'문자열을 왼쪽에 둔 다음\n",
    "# 'sort'문자열을 포함해서 10 사이즈로 만들고\n",
    "# 'sort'문자열을 제외하고 나머지 부분을 공백으로 채워준다."
   ]
  },
  {
   "cell_type": "code",
   "execution_count": 25,
   "metadata": {},
   "outputs": [
    {
     "data": {
      "text/plain": [
       "'      sort'"
      ]
     },
     "execution_count": 25,
     "metadata": {},
     "output_type": "execute_result"
    }
   ],
   "source": [
    "'sort'.rjust(10)\n",
    "# 위 코드의 의미는 'sort'문자열을 오른쪽에 둔 다음\n",
    "# 'sort'문자열을 포함해서 10 사이즈로 만들고\n",
    "# 'sort'문자열을 제외하고 나머지 부분을 공백으로 채워준다."
   ]
  },
  {
   "cell_type": "code",
   "execution_count": 26,
   "metadata": {},
   "outputs": [
    {
     "data": {
      "text/plain": [
       "'        SORT        '"
      ]
     },
     "execution_count": 26,
     "metadata": {},
     "output_type": "execute_result"
    }
   ],
   "source": [
    "# python은 .함수().함수().... 이런 식으로 사슬이 이어지는 것처럼\n",
    "# 확장을 할 수 있다.\n",
    "'sort'.center(20).upper()"
   ]
  },
  {
   "cell_type": "code",
   "execution_count": 27,
   "metadata": {},
   "outputs": [
    {
     "data": {
      "text/plain": [
       "'        sort        '"
      ]
     },
     "execution_count": 27,
     "metadata": {},
     "output_type": "execute_result"
    }
   ],
   "source": [
    "'sort'.center(20).upper().lower()\n",
    "# 위의 코드를 보고 비교하면 알 수 있는 것은 가장 왼쪽부터 함수가 적용된다는 것이다."
   ]
  },
  {
   "cell_type": "markdown",
   "metadata": {},
   "source": [
    "### 문자열 응용 - .find()"
   ]
  },
  {
   "cell_type": "code",
   "execution_count": 28,
   "metadata": {},
   "outputs": [
    {
     "data": {
      "text/plain": [
       "5"
      ]
     },
     "execution_count": 28,
     "metadata": {},
     "output_type": "execute_result"
    }
   ],
   "source": [
    "# find\n",
    "# .find('문자')\n",
    "# -> 특정문자열을 찾아서 인덱스를 반환, 문자열이 없으면 -1을 반환\n",
    "'BiG dAtA aNaLySt'.find('A') # 다시 말하지만 컴퓨터는 0부터 카운트한다.\n",
    "# 똑같은 문자가 있다면 .find 함수는 왼쪽부터 확인이 이루어진다는 것을 알 수 있다."
   ]
  },
  {
   "cell_type": "markdown",
   "metadata": {},
   "source": [
    "### 문자열 응용 - .count"
   ]
  },
  {
   "cell_type": "code",
   "execution_count": 29,
   "metadata": {},
   "outputs": [
    {
     "data": {
      "text/plain": [
       "2"
      ]
     },
     "execution_count": 29,
     "metadata": {},
     "output_type": "execute_result"
    }
   ],
   "source": [
    "# count\n",
    "# .count\n",
    "# 문자열 안의 구분자와 일치하는 개수만큼을 반환해준다.\n",
    "'kimjookyeong'.count('k')"
   ]
  },
  {
   "cell_type": "markdown",
   "metadata": {},
   "source": [
    "### 문자열 서식 지정자"
   ]
  },
  {
   "cell_type": "code",
   "execution_count": 30,
   "metadata": {},
   "outputs": [
    {
     "data": {
      "text/plain": [
       "'김주경은 솔로다.'"
      ]
     },
     "execution_count": 30,
     "metadata": {},
     "output_type": "execute_result"
    }
   ],
   "source": [
    "# 서식 지정자로 문자열 넣기\n",
    "# %s는 문자열의 서식 지정자이다. (string)\n",
    "# c언어를 배우고 오신 분은 편하다.\n",
    "\n",
    "\"김주경은 %s다.\" % '솔로'"
   ]
  },
  {
   "cell_type": "code",
   "execution_count": 31,
   "metadata": {},
   "outputs": [
    {
     "data": {
      "text/plain": [
       "'대학원생은 사람으로서 살아갈 수 있는가?'"
      ]
     },
     "execution_count": 31,
     "metadata": {},
     "output_type": "execute_result"
    }
   ],
   "source": [
    "student = '사람'\n",
    "\"대학원생은 %s으로서 살아갈 수 있는가?\" % student"
   ]
  },
  {
   "cell_type": "code",
   "execution_count": 32,
   "metadata": {},
   "outputs": [
    {
     "data": {
      "text/plain": [
       "'김주경의 학점은 4점을 넘습니다.'"
      ]
     },
     "execution_count": 32,
     "metadata": {},
     "output_type": "execute_result"
    }
   ],
   "source": [
    "# 서식 지정자로 숫자(정수형) 넣기\n",
    "# %d는 정수형 데이터의 서식 지정자이다.\n",
    "# 마찬가지로 c언어를 배우고 오신 분은 편하다.\n",
    "'김주경의 학점은 %d점을 넘습니다.' % 4"
   ]
  },
  {
   "cell_type": "code",
   "execution_count": 33,
   "metadata": {},
   "outputs": [
    {
     "data": {
      "text/plain": [
       "'파이는 3.141592...... 뒤는 모르니까 생략할께요.'"
      ]
     },
     "execution_count": 33,
     "metadata": {},
     "output_type": "execute_result"
    }
   ],
   "source": [
    "# 서식 지정자로 숫자(실수형) 넣기\n",
    "# %f는 실수형 데이터의 서식 지정자이다.\n",
    "'파이는 %f...... 뒤는 모르니까 생략할께요.' % 3.141592"
   ]
  },
  {
   "cell_type": "code",
   "execution_count": 34,
   "metadata": {},
   "outputs": [
    {
     "data": {
      "text/plain": [
       "'3.14'"
      ]
     },
     "execution_count": 34,
     "metadata": {},
     "output_type": "execute_result"
    }
   ],
   "source": [
    "# 소수점 자리를 지정할 수 있다.\n",
    "## '%.자릿수f' % 숫자\n",
    "'%.2f' % 3.141592"
   ]
  },
  {
   "cell_type": "code",
   "execution_count": 35,
   "metadata": {},
   "outputs": [
    {
     "data": {
      "text/plain": [
       "'제 78회 데이터 시험 24601 번 수험생의 점수는 94.4 입니다.'"
      ]
     },
     "execution_count": 35,
     "metadata": {},
     "output_type": "execute_result"
    }
   ],
   "source": [
    "'제 78회 %s %d 번 수험생의 점수는 %.1f 입니다.' %('데이터 시험', 24601, 94.4) "
   ]
  },
  {
   "cell_type": "markdown",
   "metadata": {},
   "source": [
    "### format\n",
    "- 문자열에 특정 변수의 값을 넣을 때 사용한다.\n"
   ]
  },
  {
   "cell_type": "code",
   "execution_count": 36,
   "metadata": {},
   "outputs": [
    {
     "data": {
      "text/plain": [
       "'Hello, kitty'"
      ]
     },
     "execution_count": 36,
     "metadata": {},
     "output_type": "execute_result"
    }
   ],
   "source": [
    "# format 형식\n",
    "# '{인덱스}'.format(값)\n",
    "'Hello, {0}'.format('kitty')"
   ]
  },
  {
   "cell_type": "code",
   "execution_count": 37,
   "metadata": {},
   "outputs": [
    {
     "data": {
      "text/plain": [
       "'주경이의 학점은 4.0점 이상이다.\\n주경이가 대학원을 가기 위해서는 4.3점을 넘겨야 안정적이다.'"
      ]
     },
     "execution_count": 37,
     "metadata": {},
     "output_type": "execute_result"
    }
   ],
   "source": [
    "# 여러 개 넣는 경우\n",
    "\"\"\"{0}의 학점은 {1}점 이상이다.\n",
    "{0}가 대학원을 가기 위해서는 {2}점을 넘겨야 안정적이다.\"\"\".format('주경이', 4.0, 4.3)"
   ]
  },
  {
   "cell_type": "code",
   "execution_count": 38,
   "metadata": {},
   "outputs": [
    {
     "data": {
      "text/plain": [
       "'어디야 지금 뭐해 빨리 와 너 올 것 같아 여기서 나 기다리는데\\n시현아 오늘따라 니가 보고싶구나 또 보고 싶어서 미안해\\n- 임재현 조금 취했어 중'"
      ]
     },
     "execution_count": 38,
     "metadata": {},
     "output_type": "execute_result"
    }
   ],
   "source": [
    "\"\"\"어디야 지금 뭐해 빨리 와 너 올 것 같아 여기서 나 기다리는데\n",
    "{name}아 오늘따라 니가 보고싶구나 또 보고 싶어서 미안해\n",
    "- 임재현 {music} 중\"\"\".format(name = '시현', music = '조금 취했어')"
   ]
  },
  {
   "cell_type": "markdown",
   "metadata": {},
   "source": [
    "### 딕셔너리 응용하기\n",
    "- key와 value로 이루어진 시퀀스 객체\n",
    "- setdefault - 키, 값, 쌍 추가\n",
    "- update - 키의 값을 수정할 수 있다. 키가 없으면 키-값 쌍 추가한다."
   ]
  },
  {
   "cell_type": "markdown",
   "metadata": {},
   "source": [
    "### 딕셔너리 기본"
   ]
  },
  {
   "cell_type": "code",
   "execution_count": 39,
   "metadata": {},
   "outputs": [
    {
     "data": {
      "text/plain": [
       "{'one': 1, 'two': 2, 'three': 3}"
      ]
     },
     "execution_count": 39,
     "metadata": {},
     "output_type": "execute_result"
    }
   ],
   "source": [
    "dictionary = {'one':1, 'two':2, 'three':3}\n",
    "# 여기서 'one', 'two', 'three'가 key이며\n",
    "# 1, 2, 3이 value이다.\n",
    "dictionary\n"
   ]
  },
  {
   "cell_type": "markdown",
   "metadata": {},
   "source": [
    "### .setdefalut()\n",
    "- dictnary의 key, value를 추가해주는 것이다.\n",
    "- update와 달리 계속 추가되는 것이 특징이다."
   ]
  },
  {
   "cell_type": "code",
   "execution_count": 40,
   "metadata": {},
   "outputs": [
    {
     "name": "stdout",
     "output_type": "stream",
     "text": [
      "{'one': 1, 'two': 2, 'three': 3, 'four': 4}\n"
     ]
    }
   ],
   "source": [
    "dictionary.setdefault('four', 4)\n",
    "# 'four'라는 key를 새로 추가하고 해당 key에 4라는 value를 추가했다.\n",
    "print(dictionary)"
   ]
  },
  {
   "cell_type": "markdown",
   "metadata": {},
   "source": [
    "### .update()\n",
    "- 기존 key의 값을 수정하거나\n",
    "- 새로운 key와 value를 동시에 추가한다."
   ]
  },
  {
   "cell_type": "code",
   "execution_count": 41,
   "metadata": {},
   "outputs": [
    {
     "data": {
      "text/plain": [
       "{'one': 1, 'two': 2, 'three': 3, 'four': 4, 'five': 5}"
      ]
     },
     "execution_count": 41,
     "metadata": {},
     "output_type": "execute_result"
    }
   ],
   "source": [
    "dictionary.update(five = 5)\n",
    "# update 이 경우에는 'five'라는 키가 존재하지 않았기에\n",
    "# 'five'라는 키를 새로 추가하고 5라는 value를 추가했다.\n",
    "dictionary"
   ]
  },
  {
   "cell_type": "code",
   "execution_count": 42,
   "metadata": {},
   "outputs": [
    {
     "data": {
      "text/plain": [
       "{'one': 1, 'two': 10, 'three': 3, 'four': 4, 'five': 5}"
      ]
     },
     "execution_count": 42,
     "metadata": {},
     "output_type": "execute_result"
    }
   ],
   "source": [
    "dictionary.update(two = 10)\n",
    "dictionary\n",
    "# update 이 경우에는 'two'라는 키의 value를 업데이트 했다.\n",
    "# 참고로 10은 이진수 형태로 나타낸 2이다."
   ]
  },
  {
   "cell_type": "code",
   "execution_count": 43,
   "metadata": {},
   "outputs": [
    {
     "data": {
      "text/plain": [
       "{'one': 1, 'two': 10, 'three': 3, 'four': 4}"
      ]
     },
     "execution_count": 43,
     "metadata": {},
     "output_type": "execute_result"
    }
   ],
   "source": [
    "# 딕셔너리의 key, value 삭제\n",
    "# .pop(key) <- value를 입력하면 오류가 발생한다.\n",
    "dictionary.pop('five')\n",
    "dictionary"
   ]
  },
  {
   "cell_type": "markdown",
   "metadata": {},
   "source": [
    "### .get()\n",
    "    - 딕셔너리의 특정 키의 값을 가지고 온다."
   ]
  },
  {
   "cell_type": "code",
   "execution_count": 44,
   "metadata": {},
   "outputs": [
    {
     "data": {
      "text/plain": [
       "10"
      ]
     },
     "execution_count": 44,
     "metadata": {},
     "output_type": "execute_result"
    }
   ],
   "source": [
    "dictionary.get('two')"
   ]
  },
  {
   "cell_type": "markdown",
   "metadata": {},
   "source": [
    "### .items()\n",
    "- 딕셔너리의 key와 value 쌍을 모두 가지고 오는 함수"
   ]
  },
  {
   "cell_type": "code",
   "execution_count": 45,
   "metadata": {},
   "outputs": [
    {
     "data": {
      "text/plain": [
       "dict_items([('one', 1), ('two', 10), ('three', 3), ('four', 4)])"
      ]
     },
     "execution_count": 45,
     "metadata": {},
     "output_type": "execute_result"
    }
   ],
   "source": [
    "dictionary.items()"
   ]
  },
  {
   "cell_type": "markdown",
   "metadata": {},
   "source": [
    "### .keys()\n",
    "- 딕셔너리의 key 부분만을 모두 가지고 오는 함수"
   ]
  },
  {
   "cell_type": "code",
   "execution_count": 46,
   "metadata": {},
   "outputs": [
    {
     "data": {
      "text/plain": [
       "dict_keys(['one', 'two', 'three', 'four'])"
      ]
     },
     "execution_count": 46,
     "metadata": {},
     "output_type": "execute_result"
    }
   ],
   "source": [
    "dictionary.keys()"
   ]
  },
  {
   "cell_type": "markdown",
   "metadata": {},
   "source": [
    "### .values()\n",
    "- 딕셔너리의 value 부분만을 모두 가지고 오는 함수"
   ]
  },
  {
   "cell_type": "code",
   "execution_count": 47,
   "metadata": {},
   "outputs": [
    {
     "data": {
      "text/plain": [
       "dict_values([1, 10, 3, 4])"
      ]
     },
     "execution_count": 47,
     "metadata": {},
     "output_type": "execute_result"
    }
   ],
   "source": [
    "dictionary.values()"
   ]
  },
  {
   "cell_type": "markdown",
   "metadata": {},
   "source": [
    "### 위의 것들을 list의 형태로 출력되게 해보자"
   ]
  },
  {
   "cell_type": "code",
   "execution_count": 50,
   "metadata": {},
   "outputs": [
    {
     "name": "stdout",
     "output_type": "stream",
     "text": [
      "[1, 10, 3, 4]\n"
     ]
    }
   ],
   "source": [
    "dictionary_value = list(dictionary.values())\n",
    "# 위 코드를 해석하면 dictionary 변수의 value 부분을 가지고 와서\n",
    "# list의 형태로 정리한 다음\n",
    "# dictionary_value라는 변수를 선언하고 동시에 할당한다.\n",
    "print(dictionary_value)"
   ]
  },
  {
   "cell_type": "code",
   "execution_count": 51,
   "metadata": {},
   "outputs": [
    {
     "name": "stdout",
     "output_type": "stream",
     "text": [
      "['one', 'two', 'three', 'four']\n"
     ]
    }
   ],
   "source": [
    "dictionary_key = list(dictionary.keys())\n",
    "# 위 코드를 해석하면 dictionary 변수의 key 부분을 가지고 와서\n",
    "# list의 형태로 정리한 다음\n",
    "# dictionary_key라는 변수를 선언하고 동시에 할당한다.\n",
    "print(dictionary_key)"
   ]
  }
 ],
 "metadata": {
  "kernelspec": {
   "display_name": "Python 3",
   "language": "python",
   "name": "python3"
  },
  "language_info": {
   "codemirror_mode": {
    "name": "ipython",
    "version": 3
   },
   "file_extension": ".py",
   "mimetype": "text/x-python",
   "name": "python",
   "nbconvert_exporter": "python",
   "pygments_lexer": "ipython3",
   "version": "3.11.4"
  },
  "orig_nbformat": 4
 },
 "nbformat": 4,
 "nbformat_minor": 2
}
