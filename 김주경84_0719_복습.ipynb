{
 "cells": [
  {
   "cell_type": "markdown",
   "metadata": {},
   "source": [
    "### 딕셔너리 loop"
   ]
  },
  {
   "cell_type": "code",
   "execution_count": 15,
   "metadata": {},
   "outputs": [
    {
     "name": "stdout",
     "output_type": "stream",
     "text": [
      "{'one': 1, 'two': 2, 'three': 3, 'four': 4, 'five': 5}\n"
     ]
    }
   ],
   "source": [
    "n = {'one':1, 'two':2, 'three':3, 'four':4, 'five':5}\n",
    "# 딕셔너리는 key와 value로 이루어진다.\n",
    "print(n)"
   ]
  },
  {
   "cell_type": "code",
   "execution_count": 2,
   "metadata": {},
   "outputs": [
    {
     "name": "stdout",
     "output_type": "stream",
     "text": [
      "one two three four five "
     ]
    }
   ],
   "source": [
    "for i in n:\n",
    "    print(i, end = ' ')\n",
    "# 딕셔너리 중 key 부분만 출력이 이루어진다."
   ]
  },
  {
   "cell_type": "code",
   "execution_count": 4,
   "metadata": {},
   "outputs": [
    {
     "name": "stdout",
     "output_type": "stream",
     "text": [
      "('one', 1)\n",
      "('two', 2)\n",
      "('three', 3)\n",
      "('four', 4)\n",
      "('five', 5)\n"
     ]
    }
   ],
   "source": [
    "for i in n.items():\n",
    "#.items()는 딕셔너리의 key와 value 쌍을 모두 가지고 오는 함수이다.\n",
    "# (참고) .keys는 딕셔너리의 key 부분만을 모두 가지고 오는 함수이다.\n",
    "# (참고) .values는 딕셔너리의 value 부분만을 모두 가지고 오는 함수이다.\n",
    "    print(i)"
   ]
  },
  {
   "cell_type": "code",
   "execution_count": 16,
   "metadata": {},
   "outputs": [
    {
     "ename": "RuntimeError",
     "evalue": "dictionary changed size during iteration",
     "output_type": "error",
     "traceback": [
      "\u001b[0;31m---------------------------------------------------------------------------\u001b[0m",
      "\u001b[0;31mRuntimeError\u001b[0m                              Traceback (most recent call last)",
      "Cell \u001b[0;32mIn[16], line 1\u001b[0m\n\u001b[0;32m----> 1\u001b[0m \u001b[39mfor\u001b[39;00m a, b \u001b[39min\u001b[39;00m n\u001b[39m.\u001b[39mitems():\n\u001b[1;32m      2\u001b[0m     \u001b[39mif\u001b[39;00m b \u001b[39m==\u001b[39m \u001b[39m5\u001b[39m:\n\u001b[1;32m      3\u001b[0m         \u001b[39mdel\u001b[39;00m n[a]\n",
      "\u001b[0;31mRuntimeError\u001b[0m: dictionary changed size during iteration"
     ]
    }
   ],
   "source": [
    "for a, b in n.items():\n",
    "    if b == 5:\n",
    "        del n[a]\n",
    "        \n",
    "print(n)\n",
    "\n",
    "# 반복문을 돌렸을 때 key와 value가 삭제되어서 에러가 발생한다."
   ]
  },
  {
   "cell_type": "code",
   "execution_count": 17,
   "metadata": {},
   "outputs": [
    {
     "name": "stdout",
     "output_type": "stream",
     "text": [
      "{'one': 1, 'two': 2, 'three': 3, 'four': 4}\n"
     ]
    }
   ],
   "source": [
    "n = {'one':1, 'two':2, 'three':3, 'four':4, 'five':5}\n",
    "\n",
    "n = {a : b for a, b in n.items() if b != 5}\n",
    "\n",
    "print(n)"
   ]
  },
  {
   "cell_type": "markdown",
   "metadata": {},
   "source": [
    "### Set\n",
    "- Set : 집합의 성질 중복을 제거한다.\n",
    "- ex) Set_ex = {'김범수', '김범수', '나얼', '나얼', '하현우', '하현우', '하현우'}\n",
    "- print(Set_ex)를 한다면\n",
    "- 출력 결과는 {'김범수', '나얼', '하현우'}"
   ]
  },
  {
   "cell_type": "code",
   "execution_count": 19,
   "metadata": {},
   "outputs": [
    {
     "name": "stdout",
     "output_type": "stream",
     "text": [
      "{'C', 'pytorch', 'java', 'python'}\n"
     ]
    }
   ],
   "source": [
    "Computer_language = {'C', 'C', 'C', 'python', 'python', 'java', 'java', 'pytorch', 'pytorch'}\n",
    "print(Computer_language)"
   ]
  },
  {
   "cell_type": "code",
   "execution_count": 21,
   "metadata": {},
   "outputs": [
    {
     "name": "stdout",
     "output_type": "stream",
     "text": [
      "['C', 'pytorch', 'java', 'python']\n"
     ]
    }
   ],
   "source": [
    "cl = []\n",
    "for i in Computer_language:\n",
    "    cl.append(i)\n",
    "\n",
    "print(cl)"
   ]
  },
  {
   "cell_type": "code",
   "execution_count": 22,
   "metadata": {},
   "outputs": [
    {
     "data": {
      "text/plain": [
       "{'C', 'java', 'python', 'pytorch'}"
      ]
     },
     "execution_count": 22,
     "metadata": {},
     "output_type": "execute_result"
    }
   ],
   "source": [
    "set(cl) #그냥 출력하면 대괄호지만\n",
    "# set()을 쓰면 중괄호로 출력된다."
   ]
  },
  {
   "cell_type": "code",
   "execution_count": 23,
   "metadata": {},
   "outputs": [
    {
     "data": {
      "text/plain": [
       "{' ', 'b', 'c', 'e', 'f', 'h', 'i', 'o', 'r', 's', 't'}"
      ]
     },
     "execution_count": 23,
     "metadata": {},
     "output_type": "execute_result"
    }
   ],
   "source": [
    "set('before christ')\n",
    "# 중복되지 않고 하나씩 출력이 된다.\n",
    "# 그리고 ' '(공백)도 취급이 된다."
   ]
  },
  {
   "cell_type": "code",
   "execution_count": 27,
   "metadata": {},
   "outputs": [
    {
     "ename": "TypeError",
     "evalue": "set expected at most 1 argument, got 10",
     "output_type": "error",
     "traceback": [
      "\u001b[0;31m---------------------------------------------------------------------------\u001b[0m",
      "\u001b[0;31mTypeError\u001b[0m                                 Traceback (most recent call last)",
      "Cell \u001b[0;32mIn[27], line 1\u001b[0m\n\u001b[0;32m----> 1\u001b[0m cl \u001b[39m=\u001b[39m \u001b[39mset\u001b[39;49m(\u001b[39m1\u001b[39;49m, \u001b[39m2\u001b[39;49m, \u001b[39m3\u001b[39;49m, \u001b[39m4\u001b[39;49m, \u001b[39m5\u001b[39;49m, \u001b[39m6\u001b[39;49m, \u001b[39m7\u001b[39;49m, \u001b[39m8\u001b[39;49m, \u001b[39m9\u001b[39;49m, \u001b[39m10\u001b[39;49m)\n\u001b[1;32m      2\u001b[0m cl\n",
      "\u001b[0;31mTypeError\u001b[0m: set expected at most 1 argument, got 10"
     ]
    }
   ],
   "source": [
    "cl = set(1, 2, 3, 4, 5, 6, 7, 8, 9, 10)\n",
    "cl #set에 그냥 숫자를 할당하려고 하면 오류가 발생한다."
   ]
  },
  {
   "cell_type": "code",
   "execution_count": 30,
   "metadata": {},
   "outputs": [
    {
     "data": {
      "text/plain": [
       "{1, 3, 5, 7, 9}"
      ]
     },
     "execution_count": 30,
     "metadata": {},
     "output_type": "execute_result"
    }
   ],
   "source": [
    "cl = set(range(1, 10, 2))\n",
    "cl # 이러면 숫자를 set에 할당할 수 있다."
   ]
  },
  {
   "cell_type": "markdown",
   "metadata": {},
   "source": [
    "### Set을 응용한 집합들\n",
    "- 합집합, 교집합, 여집합, 차집합 등등"
   ]
  },
  {
   "cell_type": "code",
   "execution_count": 42,
   "metadata": {},
   "outputs": [
    {
     "data": {
      "text/plain": [
       "{1, 3, 5, 7, 9}"
      ]
     },
     "execution_count": 42,
     "metadata": {},
     "output_type": "execute_result"
    }
   ],
   "source": [
    "a = set(range(1, 10, 2))\n",
    "a"
   ]
  },
  {
   "cell_type": "code",
   "execution_count": 43,
   "metadata": {},
   "outputs": [
    {
     "data": {
      "text/plain": [
       "{2, 4, 6, 8, 10}"
      ]
     },
     "execution_count": 43,
     "metadata": {},
     "output_type": "execute_result"
    }
   ],
   "source": [
    "b = set(range(2, 11, 2))\n",
    "b"
   ]
  },
  {
   "cell_type": "code",
   "execution_count": 44,
   "metadata": {},
   "outputs": [
    {
     "data": {
      "text/plain": [
       "{1, 2, 3, 4, 5, 6, 7, 8, 9, 10}"
      ]
     },
     "execution_count": 44,
     "metadata": {},
     "output_type": "execute_result"
    }
   ],
   "source": [
    "a|b # 합집합\n",
    "# 집합의 성질이 적용되어 중복된 숫자여도 하나를 초과해서 출력이 되지 않는다.\n",
    "# 물론 위의 집합들은 각각 홀수 집합과 짝수 집합이기에 아래와 같이 출력이 되었다."
   ]
  },
  {
   "cell_type": "code",
   "execution_count": 45,
   "metadata": {},
   "outputs": [
    {
     "data": {
      "text/plain": [
       "set()"
      ]
     },
     "execution_count": 45,
     "metadata": {},
     "output_type": "execute_result"
    }
   ],
   "source": [
    "a&b # 교집합\n",
    "# 홀수 집합과 짝수 집합은 중복되는 값이 없다."
   ]
  },
  {
   "cell_type": "markdown",
   "metadata": {},
   "source": [
    "### 함수\n",
    "- 한 번 코드를 만들어 놓으면 호출하면서 계속 쓸 수 있는 것\n",
    "- 기본적으로 전달의 유무와 반환의 유무에 따라 함수의 형태가 다르다.\n",
    "- 함수는 definiton과 call을 통한 매커니즘이다.\n",
    "- tmi로 c언어는 return이 한 개가 최대지만\n",
    "- python은 2개 이상을 return할 수 있다.\n",
    "- 조건문을 응용할 수 있다."
   ]
  },
  {
   "cell_type": "code",
   "execution_count": 48,
   "metadata": {},
   "outputs": [
    {
     "name": "stdout",
     "output_type": "stream",
     "text": [
      "15\n",
      "5\n",
      "50\n",
      "2.0\n"
     ]
    }
   ],
   "source": [
    "# no 전달, no 반환\n",
    "def no_return_function():\n",
    "    a = 10\n",
    "    b = 5\n",
    "    print(a + b)\n",
    "    print(a - b)\n",
    "    print(a * b)\n",
    "    print(a / b)\n",
    "\n",
    "no_return_function()"
   ]
  },
  {
   "cell_type": "code",
   "execution_count": 51,
   "metadata": {},
   "outputs": [
    {
     "name": "stdout",
     "output_type": "stream",
     "text": [
      "15\n",
      "5\n",
      "50\n",
      "2.0\n"
     ]
    }
   ],
   "source": [
    "# yes 전달, no 반환\n",
    "c = 10\n",
    "d = 5\n",
    "\n",
    "def no_return_function(a, b):\n",
    "    print(a + b)\n",
    "    print(a - b)\n",
    "    print(a * b)\n",
    "    print(a / b)\n",
    "\n",
    "no_return_function(c, d)"
   ]
  },
  {
   "cell_type": "code",
   "execution_count": 59,
   "metadata": {},
   "outputs": [
    {
     "name": "stdout",
     "output_type": "stream",
     "text": [
      "24 \n",
      "\n",
      "13\n"
     ]
    },
    {
     "data": {
      "text/plain": [
       "11"
      ]
     },
     "execution_count": 59,
     "metadata": {},
     "output_type": "execute_result"
    }
   ],
   "source": [
    "# yes 전달, yes 반환\n",
    "first_num = int(input(\"숫자를 입력하세요 : \"))\n",
    "second_num = int(input(\"숫자를 입력하세요 : \"))\n",
    "\n",
    "def return_function(a, b):\n",
    "    if a > b:\n",
    "        return a % b\n",
    "    else:\n",
    "        return a + b\n",
    "\n",
    "print(first_num, '\\n')\n",
    "print(second_num)\n",
    "return_function(first_num, second_num)"
   ]
  },
  {
   "cell_type": "code",
   "execution_count": 46,
   "metadata": {},
   "outputs": [
    {
     "name": "stdout",
     "output_type": "stream",
     "text": [
      "tensor([ 2, 12, 30])\n"
     ]
    }
   ],
   "source": [
    "# 나중에 이런 것도 할 수 있다\n",
    "# 아래 코드는 행렬의 같은 원소번째끼리의 곱을 한 것이다.\n",
    "\n",
    "import torch\n",
    "\n",
    "def multiply_tensors(a, b):\n",
    "#multiply_tensors는 함수의 이름, (a, b)는 매개변수이다.\n",
    "    c = a * b\n",
    "    return c\n",
    "\n",
    "tensor1 = torch.tensor([2, 4, 6])\n",
    "tensor2 = torch.tensor([1, 3, 5])\n",
    "\n",
    "result = multiply_tensors(tensor1, tensor2)\n",
    "print(result)"
   ]
  },
  {
   "cell_type": "markdown",
   "metadata": {},
   "source": [
    "### lambda\n",
    "- 람다\n",
    "- 코드를 편하게 하는 함수를 더 편하게 활용하는 것\n",
    "- 코딩을 하는 사람이면 효율을 추구하게 된다."
   ]
  },
  {
   "cell_type": "code",
   "execution_count": 62,
   "metadata": {},
   "outputs": [
    {
     "data": {
      "text/plain": [
       "30"
      ]
     },
     "execution_count": 62,
     "metadata": {},
     "output_type": "execute_result"
    }
   ],
   "source": [
    "# 일반적인 함수 코드\n",
    "def basic(x, y):\n",
    "    return x + y\n",
    "\n",
    "basic(10, 20)"
   ]
  },
  {
   "cell_type": "code",
   "execution_count": 63,
   "metadata": {},
   "outputs": [
    {
     "data": {
      "text/plain": [
       "30"
      ]
     },
     "execution_count": 63,
     "metadata": {},
     "output_type": "execute_result"
    }
   ],
   "source": [
    "# 위의 일반적인 함수 코드를 람다로 간단하게 변환\n",
    "(lambda x, y : x + y) (10, 20)"
   ]
  },
  {
   "cell_type": "code",
   "execution_count": 69,
   "metadata": {},
   "outputs": [
    {
     "name": "stdout",
     "output_type": "stream",
     "text": [
      "{0, 1, 4, 9, 16} \n",
      "\n",
      "{0, 1, 64, 8, 27}\n"
     ]
    }
   ],
   "source": [
    "# map을 사용해서 응용\n",
    "num_square_of_2 = set(map(lambda x : x ** 2, range(5)))\n",
    "num_square_of_3 = set(map(lambda y : y ** 3, range(5)))\n",
    "print(num_square_of_2, '\\n')\n",
    "print(num_square_of_3)"
   ]
  }
 ],
 "metadata": {
  "kernelspec": {
   "display_name": "Python 3",
   "language": "python",
   "name": "python3"
  },
  "language_info": {
   "codemirror_mode": {
    "name": "ipython",
    "version": 3
   },
   "file_extension": ".py",
   "mimetype": "text/x-python",
   "name": "python",
   "nbconvert_exporter": "python",
   "pygments_lexer": "ipython3",
   "version": "3.11.4"
  },
  "orig_nbformat": 4
 },
 "nbformat": 4,
 "nbformat_minor": 2
}
