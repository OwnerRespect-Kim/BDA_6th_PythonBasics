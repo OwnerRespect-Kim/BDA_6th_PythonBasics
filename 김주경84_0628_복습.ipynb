{
 "cells": [
  {
   "attachments": {},
   "cell_type": "markdown",
   "metadata": {},
   "source": [
    "### 시퀀스 객체 요소들의 합을 구하기 - sum 사용\n",
    "ex) sum(변수)"
   ]
  },
  {
   "cell_type": "code",
   "execution_count": 2,
   "metadata": {},
   "outputs": [
    {
     "name": "stdout",
     "output_type": "stream",
     "text": [
      "[10, 20, 30, 40, 50, 60, 70, 80, 90, 100]\n",
      "550\n"
     ]
    }
   ],
   "source": [
    "i = list(range(10, 101, 10))\n",
    "print(i)\n",
    "print(sum(i))"
   ]
  },
  {
   "attachments": {},
   "cell_type": "markdown",
   "metadata": {},
   "source": [
    "### 시퀀스 객체 요소들의 합을 구하기 - 반복문 이용"
   ]
  },
  {
   "cell_type": "code",
   "execution_count": 3,
   "metadata": {},
   "outputs": [
    {
     "name": "stdout",
     "output_type": "stream",
     "text": [
      "550\n"
     ]
    }
   ],
   "source": [
    "a = 0 # 변수 선언\n",
    "for sum_i in i:\n",
    "    a += sum_i\n",
    "\n",
    "print(a)"
   ]
  },
  {
   "attachments": {},
   "cell_type": "markdown",
   "metadata": {},
   "source": [
    "### 리스트컴프리헨션\n",
    "- 리스트 안에 한 줄로 표현하는 것. 조금 더 간결하게 코드를 줄여서 작성하는 것.\n",
    "- ex) a = [num for num in range(10)]"
   ]
  },
  {
   "cell_type": "code",
   "execution_count": 6,
   "metadata": {},
   "outputs": [
    {
     "name": "stdout",
     "output_type": "stream",
     "text": [
      "[False, True, False, True, False, True, False, True, False, True]\n"
     ]
    }
   ],
   "source": [
    "a = [i % 2 != 0 for i in range(10)] # 홀수만 선택하여 True로 출력\n",
    "print(a)"
   ]
  },
  {
   "cell_type": "code",
   "execution_count": 7,
   "metadata": {},
   "outputs": [
    {
     "name": "stdout",
     "output_type": "stream",
     "text": [
      "[20, 40, 60, 80, 100, 120, 140, 160, 180, 200]\n"
     ]
    }
   ],
   "source": [
    "i = list(range(10, 101, 10))\n",
    "select_i = [a * 2 for a in i]\n",
    "print(select_i)"
   ]
  },
  {
   "attachments": {},
   "cell_type": "markdown",
   "metadata": {},
   "source": [
    "- 리스트 안에 작성할 때 if 문을 넣을 수 있다.\n",
    "- ex) list(i for i in range(100) if i % 2 == 0)"
   ]
  },
  {
   "cell_type": "code",
   "execution_count": 11,
   "metadata": {},
   "outputs": [
    {
     "data": {
      "text/plain": [
       "[0, 2, 4, 6, 8]"
      ]
     },
     "execution_count": 11,
     "metadata": {},
     "output_type": "execute_result"
    }
   ],
   "source": [
    "i = [a for a in range(10) if a % 2 == 0]\n",
    "i"
   ]
  },
  {
   "attachments": {},
   "cell_type": "markdown",
   "metadata": {},
   "source": [
    "- 리스트 표현식에서 for문을 여러 개 사용할 수 있다.\n",
    "- 이 때 처리 순서는 뒤에서 앞으로 이루어진다."
   ]
  },
  {
   "cell_type": "code",
   "execution_count": 12,
   "metadata": {},
   "outputs": [
    {
     "data": {
      "text/plain": [
       "[2, 3, 4, 6, 6, 9, 8, 12, 10, 15, 12, 18, 14, 21, 16, 24, 18, 27]"
      ]
     },
     "execution_count": 12,
     "metadata": {},
     "output_type": "execute_result"
    }
   ],
   "source": [
    "e = [i * j for i in range(1, 10) for j in range(2, 4)]\n",
    "e\n",
    "# 아래 반복문으로 보면 이해하기 쉽다."
   ]
  },
  {
   "cell_type": "code",
   "execution_count": 13,
   "metadata": {},
   "outputs": [
    {
     "name": "stdout",
     "output_type": "stream",
     "text": [
      "2 \n",
      "\n",
      "4 \n",
      "\n",
      "6 \n",
      "\n",
      "8 \n",
      "\n",
      "10 \n",
      "\n",
      "12 \n",
      "\n",
      "14 \n",
      "\n",
      "16 \n",
      "\n",
      "18 \n",
      "\n",
      "3 \n",
      "\n",
      "6 \n",
      "\n",
      "9 \n",
      "\n",
      "12 \n",
      "\n",
      "15 \n",
      "\n",
      "18 \n",
      "\n",
      "21 \n",
      "\n",
      "24 \n",
      "\n",
      "27 \n",
      "\n"
     ]
    }
   ],
   "source": [
    "for j in range(2, 4):\n",
    "    for i in range(1, 10):\n",
    "        print(i * j, '\\n')"
   ]
  },
  {
   "attachments": {},
   "cell_type": "markdown",
   "metadata": {},
   "source": [
    "- map 함수 사용하기!\n",
    "- map은 함수와 리스트 요소를 처리"
   ]
  },
  {
   "cell_type": "code",
   "execution_count": 1,
   "metadata": {},
   "outputs": [
    {
     "name": "stdout",
     "output_type": "stream",
     "text": [
      "[0.1, 1.1, 2.1, 3.1]\n",
      "[0, 1, 2, 3]\n"
     ]
    }
   ],
   "source": [
    "# 데이터 압축이 발생하는 것\n",
    "# float -> int로 변화할 때\n",
    "a = [i + 0.1 for i in range(4)]\n",
    "print(a) #before\n",
    "\n",
    "for i in range(len(a)): #len은 길이(크기)를 측정하는 것 즉 여기서 range(4)와 같음.\n",
    "    a[i] = int(a[i])\n",
    "print(a) #after"
   ]
  },
  {
   "cell_type": "code",
   "execution_count": 20,
   "metadata": {},
   "outputs": [
    {
     "data": {
      "text/plain": [
       "['10', '20', '30']"
      ]
     },
     "execution_count": 20,
     "metadata": {},
     "output_type": "execute_result"
    }
   ],
   "source": [
    "a = map(str, input().split())\n",
    "# str 형태로 입력이 이루어짐\n",
    "list(a)"
   ]
  },
  {
   "attachments": {},
   "cell_type": "markdown",
   "metadata": {},
   "source": [
    "### 선형대수학\n",
    "- 벡터\n",
    "- 스칼라\n",
    "- 행렬\n",
    "- etc...."
   ]
  },
  {
   "cell_type": "code",
   "execution_count": null,
   "metadata": {},
   "outputs": [],
   "source": [
    "# 열벡터 (열이 하나고 행이 여러개인 백터)\n",
    "# 이런 식으로 나타냄.\n",
    "# ( 1 \n",
    "#   2\n",
    "#   3\n",
    "#   :\n",
    "#   n )"
   ]
  },
  {
   "cell_type": "code",
   "execution_count": null,
   "metadata": {},
   "outputs": [],
   "source": [
    "# 행벡터 (행이 하나고 열이 여러개인 벡터)\n",
    "# 이런 식으로 나타냄.\n",
    "# ( 1 2 3... n)"
   ]
  },
  {
   "cell_type": "code",
   "execution_count": 21,
   "metadata": {},
   "outputs": [
    {
     "data": {
      "text/plain": [
       "[[1, 2], [3, 4], [5, 6]]"
      ]
     },
     "execution_count": 21,
     "metadata": {},
     "output_type": "execute_result"
    }
   ],
   "source": [
    "# 2차원 배열\n",
    "a = [[1,2], [3, 4], [5, 6]]\n",
    "# 아래와 같이 풀어서 나타냄\n",
    "# [ 1, 2\n",
    "#   3, 4\n",
    "#   5, 6 ]\n",
    "# 따라서 위의 2차원 배열은 3 * 2 형태의 matrix(행렬)이라고 할 수 있음.\n",
    "a"
   ]
  },
  {
   "cell_type": "code",
   "execution_count": 22,
   "metadata": {},
   "outputs": [
    {
     "data": {
      "text/plain": [
       "4"
      ]
     },
     "execution_count": 22,
     "metadata": {},
     "output_type": "execute_result"
    }
   ],
   "source": [
    "a[1][1]\n",
    "# 몇 번이나 다시 말하지만 컴퓨터는 0부터 시작이다.\n",
    "# 따라서 a[1][1]을 해석하면 2번째 행과 1번째 열이 만나는 값을 의미한다."
   ]
  }
 ],
 "metadata": {
  "kernelspec": {
   "display_name": "Python 3",
   "language": "python",
   "name": "python3"
  },
  "language_info": {
   "codemirror_mode": {
    "name": "ipython",
    "version": 3
   },
   "file_extension": ".py",
   "mimetype": "text/x-python",
   "name": "python",
   "nbconvert_exporter": "python",
   "pygments_lexer": "ipython3",
   "version": "3.9.6"
  },
  "orig_nbformat": 4
 },
 "nbformat": 4,
 "nbformat_minor": 2
}
