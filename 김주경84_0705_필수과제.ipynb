{
 "cells": [
  {
   "cell_type": "markdown",
   "metadata": {},
   "source": [
    "## 필수과제\n",
    "\n",
    "- 아래의 반복문 코드를 변경하는 순간 다른 값 혹은 오류가 발생하는지 주석처리로 기술\n",
    "- 어떤 식의 원리인지를 이해한다."
   ]
  },
  {
   "cell_type": "code",
   "execution_count": 1,
   "metadata": {},
   "outputs": [
    {
     "name": "stdout",
     "output_type": "stream",
     "text": [
      "[[0, 1, 2], [0, 1, 2], [0, 1, 2], [0, 1, 2]]\n"
     ]
    }
   ],
   "source": [
    "# 2차원 리스트 반복문으로 만들기 (정상적인 버전)\n",
    "m = []\n",
    "for i in range(4): # 4개의 행 (0 ~ 3)\n",
    "    o = []\n",
    "    for j in range(3): # 3개의 열 (0 ~ 2)\n",
    "        o.append(j)\n",
    "    m.append(o)\n",
    "# [[0, 1, 2]] -> [[0, 1, 2], [0, 1, 2]] -> [[0, 1, 2], [0, 1, 2], [0, 1, 2]] -> [[0, 1, 2], [0, 1, 2], [0, 1, 2], [0, 1, 2]]\n",
    "\n",
    "print(m)"
   ]
  },
  {
   "cell_type": "code",
   "execution_count": 6,
   "metadata": {},
   "outputs": [
    {
     "name": "stdout",
     "output_type": "stream",
     "text": [
      "[[0, 1, 2], [0, 1, 2], [0, 1, 2], [0, 1, 2], [0, 1, 2], [0, 1, 2], [0, 1, 2], [0, 1, 2], [0, 1, 2], [0, 1, 2], [0, 1, 2], [0, 1, 2]]\n"
     ]
    }
   ],
   "source": [
    "# 의도와 다른 버전 1\n",
    "m = []\n",
    "for i in range(4): # 4개의 행 (0 ~ 3)\n",
    "    o = []\n",
    "    for j in range(3): # 3개의 열 (0 ~ 2)\n",
    "        o.append(j)\n",
    "        m.append(o)\n",
    "# [[0, 1, 2], [0, 1, 2], [0, 1, 2]] -> [[0, 1, 2], [0, 1, 2], [0, 1, 2], [0, 1, 2], [0, 1, 2], [0, 1, 2]]\n",
    "# -> [[0, 1, 2], [0, 1, 2], [0, 1, 2], [0, 1, 2], [0, 1, 2], [0, 1, 2], [0, 1, 2], [0, 1, 2], [0, 1, 2]]\n",
    "# -> [[0, 1, 2], [0, 1, 2], [0, 1, 2], [0, 1, 2], [0, 1, 2], [0, 1, 2], [0, 1, 2], [0, 1, 2], [0, 1, 2], [0, 1, 2], [0, 1, 2], [0, 1, 2]]\n",
    "print(m)"
   ]
  },
  {
   "cell_type": "code",
   "execution_count": 12,
   "metadata": {},
   "outputs": [
    {
     "name": "stdout",
     "output_type": "stream",
     "text": [
      "[[0, 1, 2]]\n"
     ]
    }
   ],
   "source": [
    "# 의도와 다른 버전 2\n",
    "for i in range(4): # 4개의 행 (0 ~ 3)\n",
    "    m = []\n",
    "    o = []\n",
    "    for j in range(3): # 3개의 열 (0 ~ 2)\n",
    "        o.append(j)\n",
    "    m.append(o)\n",
    "    \n",
    "print(m)\n",
    "# i == 0일 때 m.append(o) 부분에서 [[0, 1, 2]]가 만들어지나\n",
    "# i == 1이 되면서 m이 빈 리스트가 된다. (m == [])\n",
    "# 마찬가지로 m.append(o) 부분에서 [[0, 1, 2]]가 만들어지나 i==2이 되면서 m이 빈 리스트가 된다.\n",
    "# i == 3까지 반복되면서 최종적으로 [[0, 1, 2]]가 출력이 된다."
   ]
  },
  {
   "cell_type": "code",
   "execution_count": 27,
   "metadata": {},
   "outputs": [
    {
     "name": "stdout",
     "output_type": "stream",
     "text": [
      "[[0, 1, 2, 0, 1, 2, 0, 1, 2, 0, 1, 2], [0, 1, 2, 0, 1, 2, 0, 1, 2, 0, 1, 2], [0, 1, 2, 0, 1, 2, 0, 1, 2, 0, 1, 2], [0, 1, 2, 0, 1, 2, 0, 1, 2, 0, 1, 2]]\n"
     ]
    }
   ],
   "source": [
    "# 의도와 다른 버전 3\n",
    "m = []\n",
    "o = []\n",
    "for i in range(4): # 4개의 행 (0 ~ 3)\n",
    "    for j in range(3): # 3개의 열 (0 ~ 2)\n",
    "        o.append(j)\n",
    "    m.append(o)\n",
    "\n",
    "print(m)\n",
    "# [[0, 1, 2]] -> [[0, 1, 2, 0, 1, 2], [0, 1, 2, 0, 1, 2]]\n",
    "# -> [[0, 1, 2, 0, 1, 2, 0, 1, 2], [0, 1, 2, 0, 1, 2, 0, 1, 2], [0, 1, 2, 0, 1, 2, 0, 1, 2]]\n",
    "# -> [[0, 1, 2, 0, 1, 2, 0, 1, 2, 0, 1, 2], [0, 1, 2, 0, 1, 2, 0, 1, 2, 0, 1, 2], [0, 1, 2, 0, 1, 2, 0, 1, 2, 0, 1, 2], [0, 1, 2, 0, 1, 2, 0, 1, 2, 0, 1, 2]]"
   ]
  },
  {
   "cell_type": "code",
   "execution_count": 28,
   "metadata": {},
   "outputs": [
    {
     "name": "stdout",
     "output_type": "stream",
     "text": [
      "[[2]]\n"
     ]
    }
   ],
   "source": [
    "# 의도와 다른 버전 4\n",
    "for i in range(4): # 4개의 행 (0 ~ 3)\n",
    "    for j in range(3): # 3개의 열 (0 ~ 2)\n",
    "        m = []\n",
    "        o = []\n",
    "        o.append(j)\n",
    "    m.append(o)\n",
    "\n",
    "print(m)\n",
    "# i == 0, j == 0, m = [], o = [2] -> m = [[2]] -> i == 1, j == 0, m = [], o = [2] -> m = [[2]]\n",
    "# i == 3까지 반복 후 최종적으로 m == [[2]]가 됨."
   ]
  }
 ],
 "metadata": {
  "kernelspec": {
   "display_name": "Python 3",
   "language": "python",
   "name": "python3"
  },
  "language_info": {
   "codemirror_mode": {
    "name": "ipython",
    "version": 3
   },
   "file_extension": ".py",
   "mimetype": "text/x-python",
   "name": "python",
   "nbconvert_exporter": "python",
   "pygments_lexer": "ipython3",
   "version": "3.11.4"
  },
  "orig_nbformat": 4
 },
 "nbformat": 4,
 "nbformat_minor": 2
}
