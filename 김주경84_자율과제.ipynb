{
 "cells": [
  {
   "cell_type": "code",
   "execution_count": 10,
   "metadata": {},
   "outputs": [
    {
     "name": "stdout",
     "output_type": "stream",
     "text": [
      "2 3 5 7 11 13 17 19 23 29 31 37 41 43 47 53 59 61 67 71 73 79 83 89 97 "
     ]
    }
   ],
   "source": [
    "# 소수를 출력할 범위를 정하는 프로그램\n",
    "end = int(input(\"소수를 어떤 범위까지 출력할 것인지 정하세요 : \"))\n",
    "\n",
    "for num in range(2, end): # 1 ~ 100 범위 안의 소수를 출력한다고 하자. (end에 100이 할당되었다고 가정한다.) # 소수는 1과 그 수 자신만을 약수로 가지는 수이다. 따라서 1보다 커야한다.\n",
    "    for i in range(2, num): # num이 2일 때는 for문이 돌아가지 않는다.\n",
    "        if (num % i) == 0:\n",
    "          break\n",
    "    else:\n",
    "        print(num, end =' ')"
   ]
  },
  {
   "cell_type": "code",
   "execution_count": 11,
   "metadata": {},
   "outputs": [
    {
     "name": "stdout",
     "output_type": "stream",
     "text": [
      "0 1 1 2 3 5 8 13 21 34 55 89 144 233 377 610 987 1597 2584 4181 "
     ]
    }
   ],
   "source": [
    "# 피보나치 수열을 출력할 범위를 정하는 프로그램\n",
    "end = int(input(\"피보나치 수열을 어떤 범위까지 출력할 것인지 정하세요 : \"))\n",
    "\n",
    "first = 0\n",
    "second = 1\n",
    "\n",
    "for num in range(0, end):\n",
    "    if num <= 1:\n",
    "        fibonacci = num\n",
    "    else:\n",
    "        fibonacci = first + second\n",
    "        first = second\n",
    "        second = fibonacci\n",
    "    print(fibonacci, end =' ')"
   ]
  },
  {
   "cell_type": "code",
   "execution_count": 13,
   "metadata": {},
   "outputs": [
    {
     "name": "stdout",
     "output_type": "stream",
     "text": [
      "a 집합의 원소 :  [1, 2, 3, 4, 5]\n",
      "b 집합의 원소 :  [3, 4, 5, 6, 7]\n",
      "a와 b의 합집합 :  [1, 2, 3, 4, 5, 6, 7]\n"
     ]
    }
   ],
   "source": [
    "a = []\n",
    "b = []\n",
    "n = int(input(\"집합에 할당할 숫자의 개수를 입력하세요 : \"))\n",
    "\n",
    "for i in range(n):\n",
    "    num = int(input(\"a 집합에 대입할 숫자를 입력하세요: \"))\n",
    "    a.append(num) # a 리스트에 값 하나를 추가한다.\n",
    "\n",
    "for i in range(n):\n",
    "    num = int(input(\"b 집합에 대입할 숫자를 입력하세요: \"))\n",
    "    b.append(num) # b 리스트에 값 하나를 추가한다.\n",
    "\n",
    "union_set = a.copy() # copy는 리스트를 복사한다. a와 b는 동일한 객체인 num을 참조하기에 그냥 a를 대입하면 문제가 발생할 수 있다.\n",
    "\n",
    "for num in b: #b 리스트의 첫번째 값부터 확인하면서, num에 b의 첫번째 값이 할당된다.\n",
    "    if num not in union_set:#만약 num의 값이 합집합의 원소와 같은 값이 존재하지 않는다면, 합집합에 추가한다. \n",
    "        union_set.append(num)\n",
    "\n",
    "print(\"a 집합의 원소 : \", a)\n",
    "print(\"b 집합의 원소 : \", b)\n",
    "print(\"a와 b의 합집합 : \", union_set)"
   ]
  },
  {
   "cell_type": "code",
   "execution_count": 1,
   "metadata": {},
   "outputs": [
    {
     "name": "stdout",
     "output_type": "stream",
     "text": [
      "Yes\n"
     ]
    }
   ],
   "source": [
    "total_sum = int(input())\n",
    "object_type = int(input())\n",
    "object_sum = 0\n",
    "\n",
    "for i in range(0, object_type):\n",
    "    object_price = int(input())\n",
    "    object_quantity = map(int, input().split())\n",
    "    object_sum += (object_price * object_quantity)\n",
    "\n",
    "if total_sum == object_sum:\n",
    "    print(\"Yes\")\n",
    "else:\n",
    "    print(\"No\")"
   ]
  }
 ],
 "metadata": {
  "kernelspec": {
   "display_name": "Python 3",
   "language": "python",
   "name": "python3"
  },
  "language_info": {
   "codemirror_mode": {
    "name": "ipython",
    "version": 3
   },
   "file_extension": ".py",
   "mimetype": "text/x-python",
   "name": "python",
   "nbconvert_exporter": "python",
   "pygments_lexer": "ipython3",
   "version": "3.11.0"
  },
  "orig_nbformat": 4
 },
 "nbformat": 4,
 "nbformat_minor": 2
}
