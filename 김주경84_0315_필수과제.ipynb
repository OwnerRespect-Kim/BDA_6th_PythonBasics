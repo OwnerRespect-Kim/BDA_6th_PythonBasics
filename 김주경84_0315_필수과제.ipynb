{
 "cells": [
  {
   "attachments": {},
   "cell_type": "markdown",
   "metadata": {},
   "source": [
    "### 필수과제 1\n",
    "- 위에 배운 range 함수 기능을 튜플에도 동일하게 적용해 보세요!\n",
    "- range(), range(시작, 끝), range(시작, 끝, 증가폭) 증가, 감소 모두 다"
   ]
  },
  {
   "cell_type": "code",
   "execution_count": 2,
   "metadata": {},
   "outputs": [
    {
     "data": {
      "text/plain": [
       "(0, 1, 2, 3, 4, 5, 6, 7, 8, 9)"
      ]
     },
     "execution_count": 2,
     "metadata": {},
     "output_type": "execute_result"
    }
   ],
   "source": [
    "#1 range()\n",
    "tuple(range(10)) # 0부터 시작하는 컴퓨터 #이진법이 1과 2로 시작했다면...."
   ]
  },
  {
   "cell_type": "code",
   "execution_count": 3,
   "metadata": {},
   "outputs": [
    {
     "data": {
      "text/plain": [
       "(1, 2, 3, 4, 5, 6, 7, 8, 9)"
      ]
     },
     "execution_count": 3,
     "metadata": {},
     "output_type": "execute_result"
    }
   ],
   "source": [
    "#2 range(시작 끝)\n",
    "tuple(range(1, 10)) # 왜 이래야 1부터 시작하는거니?"
   ]
  },
  {
   "cell_type": "code",
   "execution_count": 11,
   "metadata": {},
   "outputs": [
    {
     "name": "stdout",
     "output_type": "stream",
     "text": [
      "(7, 14, 21, 28, 35, 42, 49, 56, 63, 70, 77)\n"
     ]
    },
    {
     "data": {
      "text/plain": [
       "(77, 70, 63, 56, 49, 42, 35, 28, 21, 14, 7)"
      ]
     },
     "metadata": {},
     "output_type": "display_data"
    },
    {
     "data": {
      "text/plain": [
       "11"
      ]
     },
     "execution_count": 11,
     "metadata": {},
     "output_type": "execute_result"
    }
   ],
   "source": [
    "#3 range(시작, 끝, 증가폭) / range(시작, 끝, 감소폭)\n",
    "print(tuple(range(7, 78, 7)))\n",
    "display(tuple(range(77, 6, -7)))"
   ]
  }
 ],
 "metadata": {
  "kernelspec": {
   "display_name": "Python 3",
   "language": "python",
   "name": "python3"
  },
  "language_info": {
   "codemirror_mode": {
    "name": "ipython",
    "version": 3
   },
   "file_extension": ".py",
   "mimetype": "text/x-python",
   "name": "python",
   "nbconvert_exporter": "python",
   "pygments_lexer": "ipython3",
   "version": "3.11.0"
  },
  "orig_nbformat": 4
 },
 "nbformat": 4,
 "nbformat_minor": 2
}
