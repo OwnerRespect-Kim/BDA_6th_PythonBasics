{
 "cells": [
  {
   "cell_type": "markdown",
   "metadata": {},
   "source": [
    "### 조건문(if)을 이용하여 퀴즈 만들어보기 - 단일 정답"
   ]
  },
  {
   "cell_type": "code",
   "execution_count": 3,
   "metadata": {},
   "outputs": [
    {
     "name": "stdout",
     "output_type": "stream",
     "text": [
      "파이썬 문법 기초반의 수업은 무슨 요일에 진행합니까?: \n",
      "수요일\n",
      "정답입니다.\n"
     ]
    }
   ],
   "source": [
    "### 조건문(if)을 이용한 단일 정답 퀴즈\n",
    "\n",
    "print(\"파이썬 문법 기초반의 수업은 무슨 요일에 진행합니까?: \")\n",
    "answer = input(\"파이썬 문법 기초반의 수업은 무슨 요일에 진행합니까?: \")\n",
    "print(answer)\n",
    "\n",
    "if answer == \"수요일\":\n",
    "    print(\"정답입니다.\")\n",
    "else:\n",
    "    print(\"다시 도전해보세요.\")"
   ]
  },
  {
   "cell_type": "markdown",
   "metadata": {},
   "source": [
    "### 조건문(if)을 이용하여 퀴즈 만들어보기 - 복수 정답"
   ]
  },
  {
   "cell_type": "code",
   "execution_count": 4,
   "metadata": {},
   "outputs": [
    {
     "name": "stdout",
     "output_type": "stream",
     "text": [
      "프로그래밍 언어인 것은 무엇입니까?: \n",
      "HTML\n",
      "다시 도전해보세요.\n"
     ]
    }
   ],
   "source": [
    "### 조건문(if)을 이용한 복수 정답 퀴즈\n",
    "\n",
    "print(\"프로그래밍 언어인 것은 무엇입니까?: \")\n",
    "language_answer = input(\"프로그래밍 언어인 것은 무엇입니까?: \")\n",
    "print(language_answer)\n",
    "\n",
    "if language_answer == \"C언어\":\n",
    "    print('정답입니다.')\n",
    "elif language_answer == \"Python\":\n",
    "    print('정답입니다.')\n",
    "elif language_answer == \"Java\":\n",
    "    print('정답입니다.')\n",
    "else:\n",
    "    print('다시 도전해보세요.') # HTML은 마크업 언어이다."
   ]
  },
  {
   "cell_type": "code",
   "execution_count": 10,
   "metadata": {},
   "outputs": [
    {
     "name": "stdout",
     "output_type": "stream",
     "text": [
      "프로그래밍 언어인 것은 무엇입니까?: \n",
      "c언어\n",
      "정답입니다.\n"
     ]
    }
   ],
   "source": [
    "### 조건문(if)을 이용한 복수 정답 퀴즈 (논리 연산자 or을 사용)\n",
    "print(\"프로그래밍 언어인 것은 무엇입니까?: \")\n",
    "language_answer = input(\"프로그래밍 언어인 것은 무엇입니까?: \")\n",
    "print(language_answer)\n",
    "\n",
    "if language_answer == \"C언어\" or \"Python\" or \"Java\":\n",
    "    print(\"정답입니다.\")\n",
    "else:\n",
    "    print(\"다시 도전해보세요.\")\n",
    "    \n",
    "# 대소문자가 다른데 왜 정답일까?\n",
    "# 조건문에서는 language_answer == \"C언어\"가 먼저 평가되고,\n",
    "# 그 결과가 False이면 or \"Python\" or \"Java\" 부분도 평가되어 항상 True\n",
    "# 이유는 \"Python\"과 \"Java\"는 논리 연산자 or에 의해 단순 문자열로 인식되기 때문\n",
    "# 이로 인해 language_answer == \"c언어\"이 False여도\n",
    "# 두 번째와 세 번째 조건은 항상 True로 평가되므로 \"정답입니다.\"가 출력"
   ]
  },
  {
   "cell_type": "code",
   "execution_count": 9,
   "metadata": {},
   "outputs": [
    {
     "name": "stdout",
     "output_type": "stream",
     "text": [
      "프로그래밍 언어인 것은 무엇입니까?: \n",
      "PYTHON\n",
      "다시 도전해보세요.\n"
     ]
    }
   ],
   "source": [
    "### 조건문(if)을 이용한 복수 정답 퀴즈 (논리 연산자 or을 사용)\n",
    "### 사용자 입력과 각각의 프로그래밍 언어를 비교하여\n",
    "### 정확한 입력을 체크할 수 있도록 조건문을 수정\n",
    "\n",
    "print(\"프로그래밍 언어인 것은 무엇입니까?: \")\n",
    "language_answer = input(\"프로그래밍 언어인 것은 무엇입니까?: \")\n",
    "print(language_answer)\n",
    "\n",
    "### 사용자 입력과 각각 비교되어 대소문자를 구별해서 입력해야\n",
    "### \"정답입니다.\"가 출력된다.\n",
    "if language_answer == \"C언어\" or language_answer == \"Python\" or language_answer == \"Java\":\n",
    "    print(\"정답입니다.\")\n",
    "else:\n",
    "    print(\"다시 도전해보세요.\")"
   ]
  },
  {
   "cell_type": "markdown",
   "metadata": {},
   "source": [
    "### 조건문(if)을 이용하여 퀴즈 만들어보기\n",
    "### 의도한 정답은 맞으나 입력 형태가 다른 경우"
   ]
  },
  {
   "cell_type": "code",
   "execution_count": 15,
   "metadata": {},
   "outputs": [
    {
     "name": "stdout",
     "output_type": "stream",
     "text": [
      "프로그래밍 언어인 것은 무엇입니까?: \n",
      "C언어\n",
      "정답입니다.\n"
     ]
    }
   ],
   "source": [
    "print(\"프로그래밍 언어인 것은 무엇입니까?: \")\n",
    "language_answer = input(\"프로그래밍 언어인 것은 무엇입니까?: \")\n",
    "#.replace는 두개의 인자를 필요로 한다. (변경할 개수도 물론 따로 지정할 수 있다.)\n",
    "language_answer = language_answer.replace(' ', \"\")\n",
    "print(language_answer)\n",
    "\n",
    "if language_answer == \"C언어\" or language_answer == \"Python\" or language_answer == \"Java\":\n",
    "    print(\"정답입니다.\")\n",
    "else:\n",
    "    print(\"다시 도전해보세요.\")"
   ]
  },
  {
   "cell_type": "markdown",
   "metadata": {},
   "source": [
    "### 문제 수가 다양한 경우\n",
    "- 문제 리스트\n",
    "- 정답 리스트"
   ]
  },
  {
   "cell_type": "code",
   "execution_count": 16,
   "metadata": {},
   "outputs": [],
   "source": [
    "quiz_list = ['당신이 선호하는 햄버거 브랜드는 무엇입니까?',\n",
    "             '당신이 선호하는 치킨 브랜드는 무엇입니까?',\n",
    "             '당신은 민트초코를 좋아합니까? (yes or no)']\n",
    "answer_list = ['버거킹', '지코바', 'no']"
   ]
  },
  {
   "cell_type": "code",
   "execution_count": 19,
   "metadata": {},
   "outputs": [
    {
     "name": "stdout",
     "output_type": "stream",
     "text": [
      "당신이 선호하는 햄버거 브랜드는 무엇입니까?\n",
      "버거킹\n",
      "당신이 선호하는 치킨 브랜드는 무엇입니까?\n",
      "지코바\n",
      "당신은 민트초코를 좋아합니까? (yes or no)\n",
      "no\n"
     ]
    }
   ],
   "source": [
    "for i in range(3):\n",
    "    print(quiz_list[i])\n",
    "    print(answer_list[i])"
   ]
  },
  {
   "cell_type": "code",
   "execution_count": 20,
   "metadata": {},
   "outputs": [
    {
     "name": "stdout",
     "output_type": "stream",
     "text": [
      "당신이 선호하는 햄버거 브랜드는 무엇입니까?\n",
      "버거킹\n",
      "정답입니다.\n",
      "당신이 선호하는 치킨 브랜드는 무엇입니까?\n",
      "지코바\n",
      "정답입니다.\n",
      "당신은 민트초코를 좋아합니까? (yes or no)\n",
      "yes\n",
      "틀렸습니다.\n"
     ]
    }
   ],
   "source": [
    "for i in range(3):\n",
    "    print(quiz_list[i])\n",
    "    answer = input()\n",
    "    print(answer)\n",
    "    if answer == answer_list[i]:\n",
    "        print(\"정답입니다.\")\n",
    "    else:\n",
    "        print(\"틀렸습니다.\")"
   ]
  },
  {
   "cell_type": "markdown",
   "metadata": {},
   "source": [
    "### import random 이용해보기"
   ]
  },
  {
   "cell_type": "code",
   "execution_count": 21,
   "metadata": {},
   "outputs": [],
   "source": [
    "import random"
   ]
  },
  {
   "cell_type": "code",
   "execution_count": 22,
   "metadata": {},
   "outputs": [],
   "source": [
    "# 고기\n",
    "fork = ['돼지고기', '소고기', '닭고기', '콩고기', '율곡이이']"
   ]
  },
  {
   "cell_type": "code",
   "execution_count": 27,
   "metadata": {},
   "outputs": [
    {
     "name": "stdout",
     "output_type": "stream",
     "text": [
      "율곡이이\n"
     ]
    }
   ],
   "source": [
    "reroll = random.choice(fork)\n",
    "random_fork = []\n",
    "for i in fork:\n",
    "    if i == reroll:\n",
    "        print(i)\n",
    "        random_fork.append(i)"
   ]
  },
  {
   "cell_type": "code",
   "execution_count": 28,
   "metadata": {},
   "outputs": [
    {
     "data": {
      "text/plain": [
       "['율곡이이']"
      ]
     },
     "execution_count": 28,
     "metadata": {},
     "output_type": "execute_result"
    }
   ],
   "source": [
    "random_fork"
   ]
  }
 ],
 "metadata": {
  "kernelspec": {
   "display_name": "Python 3",
   "language": "python",
   "name": "python3"
  },
  "language_info": {
   "codemirror_mode": {
    "name": "ipython",
    "version": 3
   },
   "file_extension": ".py",
   "mimetype": "text/x-python",
   "name": "python",
   "nbconvert_exporter": "python",
   "pygments_lexer": "ipython3",
   "version": "3.11.4"
  },
  "orig_nbformat": 4
 },
 "nbformat": 4,
 "nbformat_minor": 2
}
