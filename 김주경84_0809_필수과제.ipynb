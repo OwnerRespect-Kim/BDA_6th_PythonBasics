{
 "cells": [
  {
   "cell_type": "markdown",
   "metadata": {},
   "source": [
    "### 필수과제1\n",
    "\n",
    "- '*' : 바로 앞의 문자나 그룹이 0번 이상 나타남을 의미\n",
    "- '+' : 바로 앞의 문자나 그룹이 1번 이상 나타남을 의미\n",
    "- 두 개의 차이를 주석으로 설명하고 실제 코드를 통해서 비교하기"
   ]
  },
  {
   "cell_type": "code",
   "execution_count": 2,
   "metadata": {},
   "outputs": [],
   "source": [
    "import re"
   ]
  },
  {
   "cell_type": "code",
   "execution_count": 8,
   "metadata": {},
   "outputs": [],
   "source": [
    "# 아래의 pattern은 숫자가 1번 이상 나오고\n",
    "# 그 뒤에 알파벳 문자열이 최소한 한 번 이상 나오는 것을 찾는 것이다.\n",
    "# 그런데 숫자가 1번도 나오지 않으므로 match의 특성으로 인해 출력되지 않음을 볼 수 있다.\n",
    "re.match('[0-9]+[a-zA-Z]+', 'abc')"
   ]
  },
  {
   "cell_type": "code",
   "execution_count": 5,
   "metadata": {},
   "outputs": [
    {
     "data": {
      "text/plain": [
       "<re.Match object; span=(0, 3), match='abc'>"
      ]
     },
     "execution_count": 5,
     "metadata": {},
     "output_type": "execute_result"
    }
   ],
   "source": [
    "# 아래의 pattern은 숫자가 -번 이상 나오고\n",
    "# 그 뒤에 알파벳 문자열이 최소한 한 번 이상 나오는 것을 찾는 것이다.\n",
    "# 숫자가 0번도 이상 나오므로 조건을 만족하고\n",
    "# 대소문자도 1번 이상 나왔으므로 모든 조건을 만족하여 출력되는 것을 볼 수 있다.\n",
    "re.match('[0-9]*[a-zA-Z]+', 'abc')"
   ]
  },
  {
   "cell_type": "markdown",
   "metadata": {},
   "source": [
    "### 필수과제2\n",
    "\n",
    "- 이메일 주소 패턴을 찾는 정규표현식을 만들기\n",
    "- asdfasd@gmail.com\n",
    "- asdfa1234@naver.com\n",
    "- 여러가지가 있다.\n",
    "\n",
    "- 처음 문자는 숫자는 불가, 대문자와 특수문자 사용 불가\n",
    "- @ 회사이름 (@ 영문.com)\n",
    "\n",
    "\n",
    "ex) ['asdf@naver.com', '123asdfas@gmail.com'] -> 이메일을 넣었을 때 참 거짓을 판단하는 것"
   ]
  },
  {
   "cell_type": "code",
   "execution_count": 11,
   "metadata": {},
   "outputs": [
    {
     "name": "stdout",
     "output_type": "stream",
     "text": [
      "이메일은 honggildong@korea.com 입니다.\n"
     ]
    }
   ],
   "source": [
    "email = input(\"이메일을 입력하세요. (단, 첫 글자는 문자만 가능하며 대문자와 특수문자는 불가능합니다!)\")\n",
    "find_condition = re.search('[a-zA-Z]+[a-zA-Z0-9]*@[a-zA-Z]+\\.com', email)\n",
    "\n",
    "if find_condition:\n",
    "    print('이메일은', find_condition.group(), '입니다.')\n",
    "else:\n",
    "    print('조건을 확인하시고 다시 시도해주세요!')"
   ]
  }
 ],
 "metadata": {
  "kernelspec": {
   "display_name": "Python 3",
   "language": "python",
   "name": "python3"
  },
  "language_info": {
   "codemirror_mode": {
    "name": "ipython",
    "version": 3
   },
   "file_extension": ".py",
   "mimetype": "text/x-python",
   "name": "python",
   "nbconvert_exporter": "python",
   "pygments_lexer": "ipython3",
   "version": "3.11.4"
  },
  "orig_nbformat": 4
 },
 "nbformat": 4,
 "nbformat_minor": 2
}
