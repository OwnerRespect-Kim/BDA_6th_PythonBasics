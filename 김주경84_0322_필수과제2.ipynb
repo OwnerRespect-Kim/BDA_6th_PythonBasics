{
 "cells": [
  {
   "attachments": {},
   "cell_type": "markdown",
   "metadata": {},
   "source": [
    "### 필수과제 2\n",
    "- 딕셔너리를 만드는 방법 4가지 이상\n",
    "- 수업 시간에 2가지는 하였다. (중괄호를 이용하는 방법과 dict함수를 이용한 방법이 있었다.)\n",
    "- 중괄호를 이용한 방법은 스킵하겠다."
   ]
  },
  {
   "cell_type": "code",
   "execution_count": 2,
   "metadata": {},
   "outputs": [
    {
     "ename": "SyntaxError",
     "evalue": "expression cannot contain assignment, perhaps you meant \"==\"? (671175826.py, line 2)",
     "output_type": "error",
     "traceback": [
      "\u001b[1;36m  Cell \u001b[1;32mIn[2], line 2\u001b[1;36m\u001b[0m\n\u001b[1;33m    a = dict('이름'='김영희', '나이' = 15, '영어' = 100)\u001b[0m\n\u001b[1;37m             ^\u001b[0m\n\u001b[1;31mSyntaxError\u001b[0m\u001b[1;31m:\u001b[0m expression cannot contain assignment, perhaps you meant \"==\"?\n"
     ]
    }
   ],
   "source": [
    "# 1. dict()함수를 이용한 방법을 사용해보자.\n",
    "a = dict('이름'='김영희', '나이' = 15, '영어' = 100)\n",
    "# dict()함수를 사용할 때 key에 따옴표('')나 쌍따옴표(\"\")를 사용하면 문법적으로 잘못된 코드가 됩니다."
   ]
  },
  {
   "cell_type": "code",
   "execution_count": 4,
   "metadata": {},
   "outputs": [
    {
     "data": {
      "text/plain": [
       "{'이름': '김영희', '나이': 15, '영어': 100}"
      ]
     },
     "execution_count": 4,
     "metadata": {},
     "output_type": "execute_result"
    }
   ],
   "source": [
    "a = dict(이름 = '김영희', 나이 = 15, 영어 = 100) #이름, 나이, 영어 문자열이 아니다.\n",
    "a"
   ]
  },
  {
   "cell_type": "code",
   "execution_count": 5,
   "metadata": {},
   "outputs": [
    {
     "ename": "NameError",
     "evalue": "name '영어' is not defined",
     "output_type": "error",
     "traceback": [
      "\u001b[1;31m---------------------------------------------------------------------------\u001b[0m",
      "\u001b[1;31mNameError\u001b[0m                                 Traceback (most recent call last)",
      "Cell \u001b[1;32mIn[5], line 2\u001b[0m\n\u001b[0;32m      1\u001b[0m \u001b[39m# 물론 접근할 때에는 따옴표('')나 쌍따옴표(\"\")를 사용해서 접근해야 한다.\u001b[39;00m\n\u001b[1;32m----> 2\u001b[0m a[영어]\n",
      "\u001b[1;31mNameError\u001b[0m: name '영어' is not defined"
     ]
    }
   ],
   "source": [
    "# 물론 접근할 때에는 따옴표('')나 쌍따옴표(\"\")를 사용해서 접근해야 한다.\n",
    "a[영어]"
   ]
  },
  {
   "cell_type": "code",
   "execution_count": 7,
   "metadata": {},
   "outputs": [
    {
     "name": "stdout",
     "output_type": "stream",
     "text": [
      "100 100\n"
     ]
    }
   ],
   "source": [
    "print(a[\"영어\"], a['영어'])"
   ]
  },
  {
   "cell_type": "code",
   "execution_count": 9,
   "metadata": {},
   "outputs": [
    {
     "data": {
      "text/plain": [
       "{'이름': '김철수', '나이': 15, '영어': 100}"
      ]
     },
     "execution_count": 9,
     "metadata": {},
     "output_type": "execute_result"
    }
   ],
   "source": [
    "# 딕셔너리의 value를 변경해보자.\n",
    "a['이름'] = '김철수'\n",
    "# key의 name이 바뀌는 것이 아니다.\n",
    "# key와 매칭되어있던 value의 값이 변경되는 것이다.\n",
    "# 기존에 있던 value '김영희'는 사라지고 '김철수'가 새로 할당(대입)된다.\n",
    "a"
   ]
  },
  {
   "cell_type": "code",
   "execution_count": 12,
   "metadata": {},
   "outputs": [
    {
     "data": {
      "text/plain": [
       "{'쉬움': '파이썬', '중간': 'R', '어려움': 'C언어'}"
      ]
     },
     "execution_count": 12,
     "metadata": {},
     "output_type": "execute_result"
    }
   ],
   "source": [
    "# 2. 리스트와 zip()함수를 이용한 방법\n",
    "b = ['파이썬', 'R', 'C언어'] # 딕셔너리에서는 key와 value가 무조건 하나씩 대응되어야 한다. 이 줄을 value라고 하자.\n",
    "c = ['쉬움', '중간', '어려움'] # 이 줄을 key라 하자.\n",
    "d = dict(zip(c, b))\n",
    "d\n",
    "# 이렇게 출력이 된다.\n",
    "# zip 함수에 대해 간단히 설명하면 둘 이상의 리스트의 각 요소들을 짝 지어서 튜플로 묶은 후 (위에서 zip(c, b)로 묶은 것처럼) 하나씩 반환해주는 것이다."
   ]
  },
  {
   "cell_type": "code",
   "execution_count": 17,
   "metadata": {},
   "outputs": [
    {
     "data": {
      "text/plain": [
       "{'Python': 'Cording', 'C language': 'Cording', 'R': 'Cording'}"
      ]
     },
     "execution_count": 17,
     "metadata": {},
     "output_type": "execute_result"
    }
   ],
   "source": [
    "# 3. dict.fromkeys()함수를 이용한 방법\n",
    "third_way = ['Python', 'C language', 'R'] # 딕셔너리에서는 key와 value가 무조건 하나씩 대응되어야 한다. 이 줄을 key라고 하자.\n",
    "g = dict.fromkeys(third_way, 'Cording')\n",
    "# dict.fromkeys(a, b)라고 할 때 a가 딕셔너리의 key가 될 리스트나 튜플이며 b가 value 이다.\n",
    "g"
   ]
  },
  {
   "cell_type": "code",
   "execution_count": 23,
   "metadata": {},
   "outputs": [
    {
     "data": {
      "text/plain": [
       "{'이름': '김주경', '나이': '21', '본전공': '경제학과', '복수전공': 'department of AI소프트웨어학부'}"
      ]
     },
     "metadata": {},
     "output_type": "display_data"
    }
   ],
   "source": [
    "# 4. 두 딕셔너리를 이용하여 새로운 딕셔너리를 만드는 방법\n",
    "first = {'이름' : '김주경', '나이' : '21'}\n",
    "second = {'본전공' : '경제학과', '복수전공' : 'department of AISW'}\n",
    "my_information = {**first, **second}\n",
    "display(my_information)\n",
    "# 이 방법은 기존의 딕셔너리를 새로운 딕셔너리에 할당하는 코드를 작성할 때 **(별 두개)를 작성하는 것을 알고 있으면 된다."
   ]
  }
 ],
 "metadata": {
  "kernelspec": {
   "display_name": "Python 3",
   "language": "python",
   "name": "python3"
  },
  "language_info": {
   "codemirror_mode": {
    "name": "ipython",
    "version": 3
   },
   "file_extension": ".py",
   "mimetype": "text/x-python",
   "name": "python",
   "nbconvert_exporter": "python",
   "pygments_lexer": "ipython3",
   "version": "3.11.0"
  },
  "orig_nbformat": 4
 },
 "nbformat": 4,
 "nbformat_minor": 2
}
