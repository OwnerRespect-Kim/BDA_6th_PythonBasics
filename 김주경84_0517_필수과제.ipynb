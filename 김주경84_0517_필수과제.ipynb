{
 "cells": [
  {
   "attachments": {},
   "cell_type": "markdown",
   "metadata": {},
   "source": [
    "### 필수과제\n",
    "- 3차, 4차까지 반복문을 작성하고 작동 원리를 주석과 함께 정리해서 알려주세요!"
   ]
  },
  {
   "cell_type": "code",
   "execution_count": 1,
   "metadata": {},
   "outputs": [
    {
     "name": "stdout",
     "output_type": "stream",
     "text": [
      "      *\n",
      "     ***\n",
      "    *****\n",
      "   *******\n",
      "  *********\n",
      " ***********\n",
      "*************\n"
     ]
    }
   ],
   "source": [
    "# 반복문을 응용하여 피라미드의 형태를 출력하는 프로그램\n",
    "height = int(input(\"피라미드의 높이를 입력하세요: \"))\n",
    "\n",
    "for i in range(height): # 7층을 입력했다고 가정하자.\n",
    "    for j in range(height - i - 1):\n",
    "        print(\" \", end=\"\")\n",
    "    for k in range(2 * i + 1):\n",
    "        print(\"*\", end=\"\")\n",
    "    print()\n",
    "\n",
    "# for loop j의 range(7-0-1) 즉, range(6)이 된다. 0번째부터 5번째까지 총 6개의 공백을 만든다.\n",
    "# 그 다음 for loop k의 range(2*0 + 1) 즉, range(1)이 된다. 0번째에만 출력을 수행하며 한 개의 별을 출력한다.\n",
    "# 다음 줄로 넘어가고\n",
    "# for loop i의 값은 1이 된다.\n",
    "# 그러면 for loop j의 range(7-1-1) 즉, range(5)이 된다. 처음보다 공백을 한 칸 줄인다.\n",
    "# 그 다음 for loop k의 range(2*1+1) 즉, range(3)이 된다. 0번째부터 2번째까지 총 3개의 별을 출력한다.\n",
    "# 이런 매커니즘이 i == 6까지 반복되는 것이다."
   ]
  },
  {
   "cell_type": "code",
   "execution_count": 2,
   "metadata": {},
   "outputs": [
    {
     "name": "stdout",
     "output_type": "stream",
     "text": [
      "    *\n",
      "   ***\n",
      "  *****\n",
      " *******\n",
      "*********\n",
      " *******\n",
      "  *****\n",
      "   ***\n",
      "    *\n"
     ]
    }
   ],
   "source": [
    "# 반복문을 응용하여 다이몬드의 형태를 출력하는 프로그램\n",
    "height = int(input(\"다이아몬드의 높이를 입력하세요: \"))\n",
    "\n",
    "# 위쪽 부분 출력\n",
    "for i in range(height): # 5를 입력했다고 가정하자.\n",
    "    for j in range(height - i - 1):\n",
    "        print(\" \", end=\"\")\n",
    "    for k in range(2 * i + 1):\n",
    "        print(\"*\", end=\"\")\n",
    "    print()\n",
    "# 위쪽 부분은 피라미드와 똑같은 로직으로 이루어진다고 생각하면 된다.\n",
    "\n",
    "# 아래쪽 부분 출력\n",
    "for i in range(height - 2, -1, -1):\n",
    "    for j in range(height - i - 1):\n",
    "        print(\" \", end=\"\")\n",
    "    for k in range(2 * i + 1):\n",
    "        print(\"*\", end=\"\")\n",
    "    print()\n",
    "\n",
    "# 처음 for loop i의 range는 (3, -1, -1)이 된다. 즉 3번째부터 0번째까지 -1씩 4번 수행이 이루어진다는 것이다.\n",
    "# for loop j의 range는 (1)이다. 즉, 0번째에만 출력을 수행하며 1개의 공백을 만든다.\n",
    "# for loop k의 range는 (7)이다. 즉, 0번째부터 6번째까지 총 7개의 별을 출력한다.\n",
    "# 다음 줄로 넘어가고\n",
    "# for loop i의 값은 2가 된다.\n",
    "# for loop j의 range는 (2)이다. 0번째부터 1번째까지 2개의 공백을 만든다.\n",
    "# for loop k의 range는 (5)이다. 0번째부터 4번째까지 총 5개의 별을 출력한다.\n",
    "# 이런 매커니즘이 i == 0까지 반복되는 것이다.\n",
    "\n"
   ]
  }
 ],
 "metadata": {
  "kernelspec": {
   "display_name": "Python 3",
   "language": "python",
   "name": "python3"
  },
  "language_info": {
   "codemirror_mode": {
    "name": "ipython",
    "version": 3
   },
   "file_extension": ".py",
   "mimetype": "text/x-python",
   "name": "python",
   "nbconvert_exporter": "python",
   "pygments_lexer": "ipython3",
   "version": "3.11.0"
  },
  "orig_nbformat": 4
 },
 "nbformat": 4,
 "nbformat_minor": 2
}
