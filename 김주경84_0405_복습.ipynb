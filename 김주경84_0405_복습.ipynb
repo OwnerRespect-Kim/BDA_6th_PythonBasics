{
 "cells": [
  {
   "attachments": {},
   "cell_type": "markdown",
   "metadata": {},
   "source": [
    "### 조건문 elif"
   ]
  },
  {
   "cell_type": "code",
   "execution_count": 1,
   "metadata": {},
   "outputs": [
    {
     "name": "stdout",
     "output_type": "stream",
     "text": [
      "장발장입니다.\n"
     ]
    }
   ],
   "source": [
    "x = 24601\n",
    "if x == 24601:\n",
    "    print('장발장입니다.')\n",
    "# 조건문 if, elif, else, 중 if 자체는 혼자서 사용이 가능하다."
   ]
  },
  {
   "cell_type": "code",
   "execution_count": 2,
   "metadata": {},
   "outputs": [
    {
     "name": "stdout",
     "output_type": "stream",
     "text": [
      "장발장입니다.\n"
     ]
    }
   ],
   "source": [
    "x = 24601\n",
    "if x != 24601:\n",
    "    print('장발장이 아닙니다.')\n",
    "else:\n",
    "    print('장발장입니다.')\n",
    "# else 문의 경우 if 문이 false인 경우 자동으로 else로 넘어가게 된다."
   ]
  },
  {
   "attachments": {},
   "cell_type": "markdown",
   "metadata": {},
   "source": [
    "### 조건문은 if, elif, else 모두 사용해서 마무리 한다.\n",
    "\n",
    "- if 조건식 :\n",
    "    - 해당코드\n",
    "- elif 조건식 :\n",
    "    - 해당코드\n",
    "- else:\n",
    "    - 해당코드"
   ]
  },
  {
   "cell_type": "code",
   "execution_count": 5,
   "metadata": {},
   "outputs": [
    {
     "name": "stdout",
     "output_type": "stream",
     "text": [
      "장발장입니다.\n"
     ]
    }
   ],
   "source": [
    "x = 24601\n",
    "if x != 24601:\n",
    "    print('장발장이 아닙니다.')\n",
    "elif x == 24601:\n",
    "    print('장발장입니다.')\n",
    "else:\n",
    "    print('누구냐 넌?')\n",
    "\n",
    "\n",
    "# if문을 여러 개 쓰는 방법도 있지 않나요? 라고 물어볼 수도 있다.\n",
    "# 그러면 컴퓨터가 비효율적으로 돌아가게 된다.\n",
    "# 이 if문 저 if문을 일일이 확인하는 것이다.\n",
    "# 그러므로 elif와 else를 활용하자.\n",
    "# 참고로 elif도 if만 있으면 사용할 수 있다."
   ]
  },
  {
   "cell_type": "code",
   "execution_count": 7,
   "metadata": {},
   "outputs": [
    {
     "name": "stdout",
     "output_type": "stream",
     "text": [
      "x는 \n",
      "홀수입니다.\n"
     ]
    }
   ],
   "source": [
    "x = int(input('번호를 입력하세요'))\n",
    "\n",
    "print('x는')\n",
    "\n",
    "if x % 2 == 0:\n",
    "    print('짝수입니다.')\n",
    "elif x % 2 == 1:\n",
    "    print('홀수입니다.')\n",
    "else:\n",
    "    print('알 수 없는 오류가 발생하였습니다.')"
   ]
  },
  {
   "attachments": {},
   "cell_type": "markdown",
   "metadata": {},
   "source": [
    "### 반복문 들어가기\n",
    "- 반복적인 업무에 대한 비효율을 개선하고 효율적인 업무처리를 위해서 진행한다.\n",
    "- 반복문을 통한 전처리는 필수적"
   ]
  },
  {
   "attachments": {},
   "cell_type": "markdown",
   "metadata": {},
   "source": [
    "- for 문과 while 문을 사용합니다."
   ]
  },
  {
   "attachments": {},
   "cell_type": "markdown",
   "metadata": {},
   "source": [
    "### for 문"
   ]
  },
  {
   "attachments": {},
   "cell_type": "markdown",
   "metadata": {},
   "source": [
    "- for 변수 in range(횟수):\n",
    "    - 반복할 코드\n",
    "\n",
    "\n",
    "- range(횟수) - 내가 원하는 반복할 코드를 진행할 횟수\n",
    "- i == 루프인덱스\n",
    "- i라는 변수는 반복문에서 작동하는 친구\n",
    "- i가 일꾼의 개념\n",
    "- i는 그 무엇도 될 수 있다."
   ]
  },
  {
   "cell_type": "code",
   "execution_count": 8,
   "metadata": {},
   "outputs": [
    {
     "name": "stdout",
     "output_type": "stream",
     "text": [
      "내가 그린 그림은 기린 그림이다.\n",
      "내가 그린 그림은 기린 그림이다.\n",
      "내가 그린 그림은 기린 그림이다.\n",
      "내가 그린 그림은 기린 그림이다.\n",
      "내가 그린 그림은 기린 그림이다.\n",
      "내가 그린 그림은 기린 그림이다.\n",
      "내가 그린 그림은 기린 그림이다.\n",
      "내가 그린 그림은 기린 그림이다.\n",
      "내가 그린 그림은 기린 그림이다.\n",
      "내가 그린 그림은 기린 그림이다.\n"
     ]
    }
   ],
   "source": [
    "for i in range(10):\n",
    "    print('내가 그린 그림은 기린 그림이다.')"
   ]
  },
  {
   "cell_type": "code",
   "execution_count": 7,
   "metadata": {},
   "outputs": [
    {
     "name": "stdout",
     "output_type": "stream",
     "text": [
      "시험기간 끝나고 다시 올거죠..?\n",
      "시험기간 끝나고 다시 올거죠..?\n",
      "시험기간 끝나고 다시 올거죠..?\n",
      "시험기간 끝나고 다시 올거죠..?\n",
      "시험기간 끝나고 다시 올거죠..?\n",
      "시험기간 끝나고 다시 올거죠..?\n",
      "시험기간 끝나고 다시 올거죠..?\n",
      "시험기간 끝나고 다시 올거죠..?\n",
      "시험기간 끝나고 다시 올거죠..?\n",
      "시험기간 끝나고 다시 올거죠..?\n"
     ]
    }
   ],
   "source": [
    "for BDA in range(10):\n",
    "    print('시험기간 끝나고 다시 올거죠..?')"
   ]
  },
  {
   "cell_type": "code",
   "execution_count": 8,
   "metadata": {},
   "outputs": [
    {
     "name": "stdout",
     "output_type": "stream",
     "text": [
      "시험기간 끝나고 다시 올거죠..? 0\n",
      "시험기간 끝나고 다시 올거죠..? 1\n",
      "시험기간 끝나고 다시 올거죠..? 2\n",
      "시험기간 끝나고 다시 올거죠..? 3\n",
      "시험기간 끝나고 다시 올거죠..? 4\n",
      "시험기간 끝나고 다시 올거죠..? 5\n",
      "시험기간 끝나고 다시 올거죠..? 6\n",
      "시험기간 끝나고 다시 올거죠..? 7\n",
      "시험기간 끝나고 다시 올거죠..? 8\n",
      "시험기간 끝나고 다시 올거죠..? 9\n"
     ]
    }
   ],
   "source": [
    "for BDA in range(10):\n",
    "    print('시험기간 끝나고 다시 올거죠..?', BDA)\n",
    "\n",
    "# 다시 말하지만 우리의 친구 컴퓨터는 마음이 꺾이지 않는다.\n",
    "# 컴퓨터는 0번째부터 카운트한다."
   ]
  },
  {
   "cell_type": "code",
   "execution_count": 10,
   "metadata": {},
   "outputs": [
    {
     "name": "stdout",
     "output_type": "stream",
     "text": [
      "시험기간 끝나고 다시 올거죠..? 0\n",
      "정말 올꺼에요..?\n",
      "믿어요!\n",
      "시험기간 끝나고 다시 올거죠..? 1\n",
      "정말 올꺼에요..?\n",
      "믿어요!\n",
      "시험기간 끝나고 다시 올거죠..? 2\n",
      "정말 올꺼에요..?\n",
      "믿어요!\n",
      "시험기간 끝나고 다시 올거죠..? 3\n",
      "정말 올꺼에요..?\n",
      "믿어요!\n",
      "시험기간 끝나고 다시 올거죠..? 4\n",
      "정말 올꺼에요..?\n",
      "믿어요!\n",
      "시험기간 끝나고 다시 올거죠..? 5\n",
      "정말 올꺼에요..?\n",
      "믿어요!\n",
      "시험기간 끝나고 다시 올거죠..? 6\n",
      "정말 올꺼에요..?\n",
      "믿어요!\n",
      "시험기간 끝나고 다시 올거죠..? 7\n",
      "정말 올꺼에요..?\n",
      "믿어요!\n",
      "시험기간 끝나고 다시 올거죠..? 8\n",
      "정말 올꺼에요..?\n",
      "믿어요!\n",
      "시험기간 끝나고 다시 올거죠..? 9\n",
      "정말 올꺼에요..?\n",
      "믿어요!\n"
     ]
    }
   ],
   "source": [
    "for BDA in range(10):\n",
    "    print('시험기간 끝나고 다시 올거죠..?', BDA)\n",
    "    print('정말 올꺼에요..?')\n",
    "    print('믿어요!')\n",
    "# c언어의 매커니즘이랑 비슷하게 설명하면\n",
    "# for (int i = 0; i < 10; i++) (물론 python에서는 i < 10 부분에서 연산 검사 수행을 하지 않고 단순히 카운트하는 것 같다.)\n",
    "# BDA라는 변수에 0부터 대입되면서\n",
    "# 안에 있는 내용물을 다 수행하면서\n",
    "# 다 수행하였다면 BDA의 카운트를 +1을 한다."
   ]
  },
  {
   "cell_type": "code",
   "execution_count": 11,
   "metadata": {},
   "outputs": [
    {
     "name": "stdout",
     "output_type": "stream",
     "text": [
      "짝수인가? 0\n",
      "짝수인가? 2\n",
      "짝수인가? 4\n",
      "짝수인가? 6\n",
      "짝수인가? 8\n"
     ]
    }
   ],
   "source": [
    "for i in range(0, 10, 2):\n",
    "    print('짝수인가?', i)"
   ]
  },
  {
   "cell_type": "code",
   "execution_count": 12,
   "metadata": {},
   "outputs": [
    {
     "name": "stdout",
     "output_type": "stream",
     "text": [
      "짝수인가? 10\n",
      "짝수인가? 9\n",
      "짝수인가? 8\n",
      "짝수인가? 7\n",
      "짝수인가? 6\n",
      "짝수인가? 5\n",
      "짝수인가? 4\n",
      "짝수인가? 3\n",
      "짝수인가? 2\n"
     ]
    }
   ],
   "source": [
    "for i in range(10, 1, -1):\n",
    "    print('짝수인가?', i)"
   ]
  },
  {
   "attachments": {},
   "cell_type": "markdown",
   "metadata": {},
   "source": [
    "- 인덱스\n",
    "- 0, 2, 3, 4,"
   ]
  },
  {
   "cell_type": "code",
   "execution_count": 13,
   "metadata": {},
   "outputs": [],
   "source": [
    "a = [1, 2, 3, 4, 5]"
   ]
  },
  {
   "cell_type": "code",
   "execution_count": 14,
   "metadata": {},
   "outputs": [
    {
     "data": {
      "text/plain": [
       "1"
      ]
     },
     "execution_count": 14,
     "metadata": {},
     "output_type": "execute_result"
    }
   ],
   "source": [
    "a[0]"
   ]
  },
  {
   "cell_type": "code",
   "execution_count": 11,
   "metadata": {},
   "outputs": [
    {
     "name": "stdout",
     "output_type": "stream",
     "text": [
      "0\n"
     ]
    }
   ],
   "source": [
    "#증가폭을 감소하는 형태로 하는 함수\n",
    "for i in reversed(range(10)):\n",
    "    print(i)"
   ]
  },
  {
   "cell_type": "code",
   "execution_count": 16,
   "metadata": {},
   "outputs": [
    {
     "data": {
      "text/plain": [
       "5"
      ]
     },
     "execution_count": 16,
     "metadata": {},
     "output_type": "execute_result"
    }
   ],
   "source": [
    "count = int(input('반복문의 범위를 정해주세요 : '))\n",
    "count"
   ]
  },
  {
   "cell_type": "code",
   "execution_count": 17,
   "metadata": {},
   "outputs": [
    {
     "name": "stdout",
     "output_type": "stream",
     "text": [
      "5번\n",
      "5번\n",
      "5번\n",
      "5번\n",
      "5번\n"
     ]
    }
   ],
   "source": [
    "for i in range(count):\n",
    "    print('5번')"
   ]
  },
  {
   "cell_type": "code",
   "execution_count": 18,
   "metadata": {},
   "outputs": [
    {
     "data": {
      "text/plain": [
       "[10, 11]"
      ]
     },
     "execution_count": 18,
     "metadata": {},
     "output_type": "execute_result"
    }
   ],
   "source": [
    "a = [10, 11]\n",
    "a"
   ]
  },
  {
   "cell_type": "code",
   "execution_count": 19,
   "metadata": {},
   "outputs": [
    {
     "ename": "TypeError",
     "evalue": "'list' object cannot be interpreted as an integer",
     "output_type": "error",
     "traceback": [
      "\u001b[1;31m---------------------------------------------------------------------------\u001b[0m",
      "\u001b[1;31mTypeError\u001b[0m                                 Traceback (most recent call last)",
      "Cell \u001b[1;32mIn[19], line 1\u001b[0m\n\u001b[1;32m----> 1\u001b[0m \u001b[39mfor\u001b[39;00m i \u001b[39min\u001b[39;00m \u001b[39mrange\u001b[39;49m(a):\n\u001b[0;32m      2\u001b[0m     \u001b[39mprint\u001b[39m(\u001b[39m'\u001b[39m\u001b[39m5번이래\u001b[39m\u001b[39m'\u001b[39m)\n",
      "\u001b[1;31mTypeError\u001b[0m: 'list' object cannot be interpreted as an integer"
     ]
    }
   ],
   "source": [
    "for i in range(a):\n",
    "    print('5번이래')"
   ]
  },
  {
   "cell_type": "code",
   "execution_count": 20,
   "metadata": {},
   "outputs": [
    {
     "name": "stdout",
     "output_type": "stream",
     "text": [
      "5번이래\n",
      "5번이래\n"
     ]
    }
   ],
   "source": [
    "for i in range(len(a)):\n",
    "    print('5번이래')\n",
    "\n",
    "# len은 길이를 세는 함수이다."
   ]
  },
  {
   "attachments": {},
   "cell_type": "markdown",
   "metadata": {},
   "source": [
    "## 시퀀스객체를 반복문으로 불러오기\n",
    "- 데이터 분석의 전처리를 위해서 반복문을 연습하는 것"
   ]
  },
  {
   "cell_type": "code",
   "execution_count": 12,
   "metadata": {},
   "outputs": [],
   "source": [
    "#리스트로 불러오기\n",
    "a = [100, 200, 300, 400, 500, 1000]"
   ]
  },
  {
   "cell_type": "code",
   "execution_count": 13,
   "metadata": {},
   "outputs": [
    {
     "data": {
      "text/plain": [
       "[100, 200, 300, 400, 500, 1000]"
      ]
     },
     "execution_count": 13,
     "metadata": {},
     "output_type": "execute_result"
    }
   ],
   "source": [
    "a"
   ]
  },
  {
   "cell_type": "code",
   "execution_count": null,
   "metadata": {},
   "outputs": [],
   "source": [
    "#리스트 안에 있는 값을 불러오고 싶다."
   ]
  },
  {
   "cell_type": "code",
   "execution_count": 14,
   "metadata": {},
   "outputs": [
    {
     "name": "stdout",
     "output_type": "stream",
     "text": [
      "100\n",
      "200\n",
      "300\n",
      "400\n",
      "500\n",
      "1000\n"
     ]
    }
   ],
   "source": [
    "for i in a: #시퀀스객체를 바로 넣은 것\n",
    "    print(i)"
   ]
  },
  {
   "cell_type": "code",
   "execution_count": 26,
   "metadata": {},
   "outputs": [
    {
     "name": "stdout",
     "output_type": "stream",
     "text": [
      "100\n",
      "200\n",
      "300\n",
      "400\n",
      "500\n",
      "1000\n"
     ]
    }
   ],
   "source": [
    "for i in range(len(a)): #시퀀스객체를 len, range 이용해서 전체 인덱스 숫자로 반환\n",
    "    print(a[i]) #인덱스 숫자로 반환해야한다.\n",
    "\n",
    "# a[0]번째의 값인 100부터 차례대로 출력되는 것이다."
   ]
  },
  {
   "cell_type": "code",
   "execution_count": 28,
   "metadata": {},
   "outputs": [
    {
     "name": "stdout",
     "output_type": "stream",
     "text": [
      "0\n",
      "1\n",
      "2\n",
      "3\n",
      "4\n",
      "5\n"
     ]
    }
   ],
   "source": [
    "for i in range(len(a)):\n",
    "    print(i)"
   ]
  },
  {
   "cell_type": "code",
   "execution_count": 30,
   "metadata": {},
   "outputs": [
    {
     "data": {
      "text/plain": [
       "['문법기초반', '문법응용반', '분석기초반', '분석중급반', '분석고급반']"
      ]
     },
     "execution_count": 30,
     "metadata": {},
     "output_type": "execute_result"
    }
   ],
   "source": [
    "a = ['문법기초반', '문법응용반', '분석기초반', '분석중급반', '분석고급반']\n",
    "a"
   ]
  },
  {
   "cell_type": "code",
   "execution_count": 31,
   "metadata": {},
   "outputs": [
    {
     "name": "stdout",
     "output_type": "stream",
     "text": [
      "문법기초반\n",
      "문법응용반\n",
      "분석기초반\n",
      "분석중급반\n",
      "분석고급반\n"
     ]
    }
   ],
   "source": [
    "for i in a:\n",
    "    print(i)"
   ]
  },
  {
   "attachments": {},
   "cell_type": "markdown",
   "metadata": {},
   "source": [
    "- range 대신에 시퀀스 객체를 쓰게 되면 해당 시퀀스객체의 모든 값을 i가 가지고 온다."
   ]
  },
  {
   "cell_type": "code",
   "execution_count": 34,
   "metadata": {},
   "outputs": [
    {
     "data": {
      "text/plain": [
       "'문법기초반'"
      ]
     },
     "metadata": {},
     "output_type": "display_data"
    },
    {
     "data": {
      "text/plain": [
       "'문법응용반'"
      ]
     },
     "metadata": {},
     "output_type": "display_data"
    },
    {
     "data": {
      "text/plain": [
       "'분석기초반'"
      ]
     },
     "metadata": {},
     "output_type": "display_data"
    },
    {
     "data": {
      "text/plain": [
       "'분석중급반'"
      ]
     },
     "metadata": {},
     "output_type": "display_data"
    },
    {
     "data": {
      "text/plain": [
       "'분석고급반'"
      ]
     },
     "metadata": {},
     "output_type": "display_data"
    }
   ],
   "source": [
    "display(a[0])\n",
    "display(a[1])\n",
    "display(a[2])\n",
    "display(a[3])\n",
    "display(a[4])"
   ]
  },
  {
   "cell_type": "code",
   "execution_count": 35,
   "metadata": {},
   "outputs": [
    {
     "name": "stdout",
     "output_type": "stream",
     "text": [
      "0\n",
      "1\n",
      "2\n",
      "3\n",
      "4\n"
     ]
    }
   ],
   "source": [
    "for i in range(5):\n",
    "    print(i)"
   ]
  },
  {
   "attachments": {},
   "cell_type": "markdown",
   "metadata": {},
   "source": [
    "### 인덱스 기반으로 접근할 때는\n",
    "- range 함수에 숫자가 들어가야 한다.\n",
    "- 인덱스 기반으로 출력하기 위해서는 print문 안에 인덱스로 출력하는 코드를 작성해야 한다.\n",
    "- a[0]"
   ]
  },
  {
   "cell_type": "code",
   "execution_count": 36,
   "metadata": {},
   "outputs": [
    {
     "data": {
      "text/plain": [
       "'문법기초반'"
      ]
     },
     "execution_count": 36,
     "metadata": {},
     "output_type": "execute_result"
    }
   ],
   "source": [
    "a[0]"
   ]
  },
  {
   "cell_type": "code",
   "execution_count": 37,
   "metadata": {},
   "outputs": [
    {
     "data": {
      "text/plain": [
       "['문법기초반', '문법응용반', '분석기초반', '분석중급반', '분석고급반']"
      ]
     },
     "execution_count": 37,
     "metadata": {},
     "output_type": "execute_result"
    }
   ],
   "source": [
    "a"
   ]
  },
  {
   "cell_type": "code",
   "execution_count": 38,
   "metadata": {},
   "outputs": [
    {
     "name": "stdout",
     "output_type": "stream",
     "text": [
      "문법기초반\n",
      "문법응용반\n",
      "분석기초반\n",
      "분석중급반\n",
      "분석고급반\n"
     ]
    }
   ],
   "source": [
    "#인덱스기반 접근\n",
    "for i in range(5):\n",
    "    print(a[i])"
   ]
  }
 ],
 "metadata": {
  "kernelspec": {
   "display_name": "Python 3",
   "language": "python",
   "name": "python3"
  },
  "language_info": {
   "codemirror_mode": {
    "name": "ipython",
    "version": 3
   },
   "file_extension": ".py",
   "mimetype": "text/x-python",
   "name": "python",
   "nbconvert_exporter": "python",
   "pygments_lexer": "ipython3",
   "version": "3.11.0"
  },
  "orig_nbformat": 4
 },
 "nbformat": 4,
 "nbformat_minor": 2
}
